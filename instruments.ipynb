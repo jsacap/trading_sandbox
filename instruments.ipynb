{
 "cells": [
  {
   "cell_type": "code",
   "execution_count": null,
   "metadata": {},
   "outputs": [],
   "source": [
    "import pandas as pd\n",
    "import utils"
   ]
  },
  {
   "cell_type": "code",
   "execution_count": null,
   "metadata": {},
   "outputs": [],
   "source": [
    "class Instrument(self, object):\n",
    "    def __init__(self):\n",
    "        self.name = object['name']\n",
    "        self.instrument_type = object['type']\n",
    "        self.displayName = object['displayName']\n",
    "        self.pipLocation = pow(10, object['pipLocation'])\n",
    "        self.marginRate = object['marginRate']\n",
    "    \n",
    "    def __repr__(self):        \n",
    "        return str(vars(self))\n",
    "    \n",
    "    \n",
    "    \n",
    "    if __name__ == '__main__':\n",
    "            pass"
   ]
  }
 ],
 "metadata": {
  "kernelspec": {
   "display_name": "venv",
   "language": "python",
   "name": "python3"
  },
  "language_info": {
   "codemirror_mode": {
    "name": "ipython",
    "version": 3
   },
   "file_extension": ".py",
   "mimetype": "text/x-python",
   "name": "python",
   "nbconvert_exporter": "python",
   "pygments_lexer": "ipython3",
   "version": "3.11.4"
  }
 },
 "nbformat": 4,
 "nbformat_minor": 2
}
