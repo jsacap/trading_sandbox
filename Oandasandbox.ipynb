{
 "cells": [
  {
   "cell_type": "code",
   "execution_count": 1,
   "metadata": {},
   "outputs": [],
   "source": [
    "import pandas as pd\n",
    "import defs\n",
    "import requests"
   ]
  },
  {
   "cell_type": "code",
   "execution_count": 2,
   "metadata": {},
   "outputs": [],
   "source": [
    "sessions = requests.Session()"
   ]
  },
  {
   "cell_type": "code",
   "execution_count": 3,
   "metadata": {},
   "outputs": [],
   "source": [
    "instrument = 'EUR_USD'\n",
    "count = 10\n",
    "granularity = 'H1'"
   ]
  },
  {
   "cell_type": "code",
   "execution_count": 4,
   "metadata": {},
   "outputs": [],
   "source": [
    "url = f'{defs.OANDA_URL}/instruments/{instrument}/candles'"
   ]
  },
  {
   "cell_type": "code",
   "execution_count": 6,
   "metadata": {},
   "outputs": [],
   "source": [
    "params = dict(\n",
    "    count = count,\n",
    "    granularity = granularity,\n",
    "    price = \"MBA\",\n",
    ")"
   ]
  },
  {
   "cell_type": "code",
   "execution_count": 7,
   "metadata": {},
   "outputs": [],
   "source": [
    "response = sessions.get(url, params=params, headers=defs.SECURE_HEADER)"
   ]
  },
  {
   "cell_type": "code",
   "execution_count": 14,
   "metadata": {},
   "outputs": [
    {
     "data": {
      "text/plain": [
       "{'instrument': 'EUR_USD',\n",
       " 'granularity': 'H1',\n",
       " 'candles': [{'complete': True,\n",
       "   'volume': 2110,\n",
       "   'time': '2024-02-07T20:00:00.000000000Z',\n",
       "   'bid': {'o': '1.07714', 'h': '1.07736', 'l': '1.07702', 'c': '1.07721'},\n",
       "   'mid': {'o': '1.07721', 'h': '1.07744', 'l': '1.07709', 'c': '1.07728'},\n",
       "   'ask': {'o': '1.07728', 'h': '1.07751', 'l': '1.07716', 'c': '1.07735'}},\n",
       "  {'complete': True,\n",
       "   'volume': 1176,\n",
       "   'time': '2024-02-07T21:00:00.000000000Z',\n",
       "   'bid': {'o': '1.07721', 'h': '1.07742', 'l': '1.07708', 'c': '1.07725'},\n",
       "   'mid': {'o': '1.07728', 'h': '1.07749', 'l': '1.07716', 'c': '1.07734'},\n",
       "   'ask': {'o': '1.07736', 'h': '1.07756', 'l': '1.07724', 'c': '1.07742'}},\n",
       "  {'complete': True,\n",
       "   'volume': 560,\n",
       "   'time': '2024-02-07T22:00:00.000000000Z',\n",
       "   'bid': {'o': '1.07703', 'h': '1.07734', 'l': '1.07684', 'c': '1.07716'},\n",
       "   'mid': {'o': '1.07726', 'h': '1.07743', 'l': '1.07710', 'c': '1.07729'},\n",
       "   'ask': {'o': '1.07750', 'h': '1.07756', 'l': '1.07731', 'c': '1.07742'}},\n",
       "  {'complete': True,\n",
       "   'volume': 873,\n",
       "   'time': '2024-02-07T23:00:00.000000000Z',\n",
       "   'bid': {'o': '1.07718', 'h': '1.07763', 'l': '1.07713', 'c': '1.07747'},\n",
       "   'mid': {'o': '1.07731', 'h': '1.07770', 'l': '1.07720', 'c': '1.07755'},\n",
       "   'ask': {'o': '1.07744', 'h': '1.07777', 'l': '1.07727', 'c': '1.07763'}},\n",
       "  {'complete': True,\n",
       "   'volume': 1596,\n",
       "   'time': '2024-02-08T00:00:00.000000000Z',\n",
       "   'bid': {'o': '1.07745', 'h': '1.07787', 'l': '1.07738', 'c': '1.07772'},\n",
       "   'mid': {'o': '1.07753', 'h': '1.07795', 'l': '1.07746', 'c': '1.07780'},\n",
       "   'ask': {'o': '1.07761', 'h': '1.07803', 'l': '1.07753', 'c': '1.07787'}},\n",
       "  {'complete': True,\n",
       "   'volume': 2604,\n",
       "   'time': '2024-02-08T01:00:00.000000000Z',\n",
       "   'bid': {'o': '1.07770', 'h': '1.07791', 'l': '1.07745', 'c': '1.07779'},\n",
       "   'mid': {'o': '1.07777', 'h': '1.07798', 'l': '1.07754', 'c': '1.07786'},\n",
       "   'ask': {'o': '1.07784', 'h': '1.07806', 'l': '1.07761', 'c': '1.07794'}},\n",
       "  {'complete': True,\n",
       "   'volume': 2080,\n",
       "   'time': '2024-02-08T02:00:00.000000000Z',\n",
       "   'bid': {'o': '1.07780', 'h': '1.07826', 'l': '1.07778', 'c': '1.07821'},\n",
       "   'mid': {'o': '1.07787', 'h': '1.07834', 'l': '1.07786', 'c': '1.07829'},\n",
       "   'ask': {'o': '1.07794', 'h': '1.07842', 'l': '1.07793', 'c': '1.07837'}},\n",
       "  {'complete': True,\n",
       "   'volume': 1128,\n",
       "   'time': '2024-02-08T03:00:00.000000000Z',\n",
       "   'bid': {'o': '1.07820', 'h': '1.07841', 'l': '1.07808', 'c': '1.07815'},\n",
       "   'mid': {'o': '1.07828', 'h': '1.07849', 'l': '1.07816', 'c': '1.07823'},\n",
       "   'ask': {'o': '1.07835', 'h': '1.07857', 'l': '1.07824', 'c': '1.07831'}},\n",
       "  {'complete': True,\n",
       "   'volume': 1577,\n",
       "   'time': '2024-02-08T04:00:00.000000000Z',\n",
       "   'bid': {'o': '1.07817', 'h': '1.07877', 'l': '1.07787', 'c': '1.07793'},\n",
       "   'mid': {'o': '1.07824', 'h': '1.07884', 'l': '1.07794', 'c': '1.07800'},\n",
       "   'ask': {'o': '1.07832', 'h': '1.07893', 'l': '1.07802', 'c': '1.07807'}},\n",
       "  {'complete': False,\n",
       "   'volume': 302,\n",
       "   'time': '2024-02-08T05:00:00.000000000Z',\n",
       "   'bid': {'o': '1.07790', 'h': '1.07792', 'l': '1.07778', 'c': '1.07778'},\n",
       "   'mid': {'o': '1.07798', 'h': '1.07799', 'l': '1.07786', 'c': '1.07786'},\n",
       "   'ask': {'o': '1.07805', 'h': '1.07806', 'l': '1.07793', 'c': '1.07793'}}]}"
      ]
     },
     "execution_count": 14,
     "metadata": {},
     "output_type": "execute_result"
    }
   ],
   "source": [
    "response.json()"
   ]
  },
  {
   "cell_type": "code",
   "execution_count": null,
   "metadata": {},
   "outputs": [],
   "source": []
  }
 ],
 "metadata": {
  "kernelspec": {
   "display_name": "venv",
   "language": "python",
   "name": "python3"
  },
  "language_info": {
   "codemirror_mode": {
    "name": "ipython",
    "version": 3
   },
   "file_extension": ".py",
   "mimetype": "text/x-python",
   "name": "python",
   "nbconvert_exporter": "python",
   "pygments_lexer": "ipython3",
   "version": "3.11.4"
  }
 },
 "nbformat": 4,
 "nbformat_minor": 2
}
