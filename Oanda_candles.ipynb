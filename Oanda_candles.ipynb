{
 "cells": [
  {
   "cell_type": "code",
   "execution_count": 1,
   "metadata": {},
   "outputs": [],
   "source": [
    "import pandas as pd\n",
    "import defs\n",
    "import requests"
   ]
  },
  {
   "cell_type": "code",
   "execution_count": 2,
   "metadata": {},
   "outputs": [],
   "source": [
    "sessions = requests.Session()"
   ]
  },
  {
   "cell_type": "code",
   "execution_count": 3,
   "metadata": {},
   "outputs": [],
   "source": [
    "instrument_df = pd.read_pickle('instruments.pkl')"
   ]
  },
  {
   "cell_type": "code",
   "execution_count": 4,
   "metadata": {},
   "outputs": [],
   "source": [
    "currencies = ['EUR', 'USD', 'AUD', 'GBP', 'NZD', 'CAD']"
   ]
  },
  {
   "cell_type": "code",
   "execution_count": 6,
   "metadata": {},
   "outputs": [],
   "source": [
    "def fetch_candles(pair_name, count, granularity):\n",
    "    url = f'{defs.OANDA_URL}/instruments/{pair_name}/candles'\n",
    "    params = dict(\n",
    "        count = count,\n",
    "        granularity = granularity,\n",
    "        price = 'MBA'\n",
    "    )\n",
    "    response = sessions.get(url, params=params, headers=defs.SECURE_HEADER)\n",
    "    return response.status_code, response.json()"
   ]
  },
  {
   "cell_type": "code",
   "execution_count": 7,
   "metadata": {},
   "outputs": [],
   "source": [
    "code, res = fetch_candles('EUR_USD', 10, 'H1')"
   ]
  },
  {
   "cell_type": "code",
   "execution_count": 8,
   "metadata": {},
   "outputs": [],
   "source": [
    "def get_candles_df(json_response):\n",
    "    prices = ['mid', 'bid', 'ask']\n",
    "    ohlc = ['o', 'h', 'l', 'c']\n",
    "\n",
    "    my_data = []\n",
    "    for candle in json_response['candles']:\n",
    "        if candle['complete'] == False:\n",
    "            continue\n",
    "        new_dict = {}\n",
    "        new_dict['time'] = candle['time']\n",
    "        new_dict['volume'] = candle['volume']        \n",
    "        for price in prices:\n",
    "            for oh in ohlc:\n",
    "                new_dict[f'{price}_{oh}'] = candle[price][oh]\n",
    "        my_data.append(new_dict)\n",
    "    return pd.DataFrame.from_dict(my_data)\n"
   ]
  },
  {
   "cell_type": "code",
   "execution_count": 9,
   "metadata": {},
   "outputs": [],
   "source": [
    "df = get_candles_df(res)"
   ]
  },
  {
   "cell_type": "code",
   "execution_count": 11,
   "metadata": {},
   "outputs": [],
   "source": [
    "def save_file(candles_df, pair, granularity):\n",
    "    candles_df.to_pickle(f'historical_data/{pair}_{granularity}.pkl')"
   ]
  },
  {
   "cell_type": "code",
   "execution_count": 22,
   "metadata": {},
   "outputs": [],
   "source": [
    "def create_data(pair, granularity):\n",
    "    code, json_data = fetch_candles(pair, 4000, granularity)\n",
    "    if code != 200:\n",
    "        print(pair, code, 'Error')\n",
    "        return\n",
    "    df = get_candles_df(json_data)\n",
    "    print(f'{pair} loaded {df.shape[0]} candles from {df.time.min()} to {df.time.max()}')\n",
    "    save_file(df, pair, granularity)"
   ]
  },
  {
   "cell_type": "code",
   "execution_count": 20,
   "metadata": {},
   "outputs": [
    {
     "name": "stdout",
     "output_type": "stream",
     "text": [
      "EUR_USD loaded 9 candles from 2024-02-13T11:00:00.000000000Z to 2024-02-13T19:00:00.000000000Z\n"
     ]
    }
   ],
   "source": [
    "create_data('EUR_USD', 'H1')"
   ]
  },
  {
   "cell_type": "code",
   "execution_count": 23,
   "metadata": {},
   "outputs": [
    {
     "name": "stdout",
     "output_type": "stream",
     "text": [
      "EUR_USD loaded 3999 candles from 2023-06-22T04:00:00.000000000Z to 2024-02-13T19:00:00.000000000Z\n",
      "EUR_AUD loaded 3999 candles from 2023-06-22T04:00:00.000000000Z to 2024-02-13T19:00:00.000000000Z\n",
      "EUR_GBP loaded 3999 candles from 2023-06-22T04:00:00.000000000Z to 2024-02-13T19:00:00.000000000Z\n",
      "EUR_NZD loaded 3999 candles from 2023-06-22T05:00:00.000000000Z to 2024-02-13T19:00:00.000000000Z\n",
      "EUR_CAD loaded 3999 candles from 2023-06-22T04:00:00.000000000Z to 2024-02-13T19:00:00.000000000Z\n",
      "USD_CAD loaded 3999 candles from 2023-06-22T04:00:00.000000000Z to 2024-02-13T19:00:00.000000000Z\n",
      "AUD_USD loaded 3999 candles from 2023-06-22T04:00:00.000000000Z to 2024-02-13T19:00:00.000000000Z\n",
      "AUD_NZD loaded 3999 candles from 2023-06-22T06:00:00.000000000Z to 2024-02-13T19:00:00.000000000Z\n",
      "AUD_CAD loaded 3999 candles from 2023-06-22T04:00:00.000000000Z to 2024-02-13T19:00:00.000000000Z\n",
      "GBP_USD loaded 3999 candles from 2023-06-22T04:00:00.000000000Z to 2024-02-13T19:00:00.000000000Z\n",
      "GBP_AUD loaded 3999 candles from 2023-06-22T03:00:00.000000000Z to 2024-02-13T19:00:00.000000000Z\n",
      "GBP_NZD loaded 3999 candles from 2023-06-22T05:00:00.000000000Z to 2024-02-13T19:00:00.000000000Z\n",
      "GBP_CAD loaded 3999 candles from 2023-06-22T04:00:00.000000000Z to 2024-02-13T19:00:00.000000000Z\n",
      "NZD_USD loaded 3999 candles from 2023-06-22T08:00:00.000000000Z to 2024-02-13T19:00:00.000000000Z\n",
      "NZD_CAD loaded 3999 candles from 2023-06-22T06:00:00.000000000Z to 2024-02-13T19:00:00.000000000Z\n"
     ]
    }
   ],
   "source": [
    "for pair1 in currencies:\n",
    "    for pair2 in currencies:            \n",
    "        pair = f'{pair1}_{pair2}'\n",
    "        if pair in instrument_df.name.unique():\n",
    "            create_data(pair, 'H1')\n",
    "    "
   ]
  },
  {
   "cell_type": "code",
   "execution_count": null,
   "metadata": {},
   "outputs": [],
   "source": []
  }
 ],
 "metadata": {
  "kernelspec": {
   "display_name": "venv",
   "language": "python",
   "name": "python3"
  },
  "language_info": {
   "codemirror_mode": {
    "name": "ipython",
    "version": 3
   },
   "file_extension": ".py",
   "mimetype": "text/x-python",
   "name": "python",
   "nbconvert_exporter": "python",
   "pygments_lexer": "ipython3",
   "version": "3.11.4"
  }
 },
 "nbformat": 4,
 "nbformat_minor": 2
}
