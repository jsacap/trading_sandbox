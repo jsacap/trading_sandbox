{
 "cells": [
  {
   "cell_type": "code",
   "execution_count": 1,
   "metadata": {},
   "outputs": [],
   "source": [
    "import pandas as pd\n",
    "import defs\n",
    "import requests"
   ]
  },
  {
   "cell_type": "code",
   "execution_count": 2,
   "metadata": {},
   "outputs": [],
   "source": [
    "sessions = requests.Session()"
   ]
  },
  {
   "cell_type": "code",
   "execution_count": 3,
   "metadata": {},
   "outputs": [],
   "source": [
    "instrument_df = pd.read_pickle('instruments.pkl')"
   ]
  },
  {
   "cell_type": "code",
   "execution_count": 4,
   "metadata": {},
   "outputs": [],
   "source": [
    "currencies = ['EUR', 'USD', 'AUD', 'GBP', 'NZD', 'CAD']"
   ]
  },
  {
   "cell_type": "code",
   "execution_count": 8,
   "metadata": {},
   "outputs": [
    {
     "name": "stdout",
     "output_type": "stream",
     "text": [
      "EUR_USD\n",
      "EUR_AUD\n",
      "EUR_GBP\n",
      "EUR_NZD\n",
      "EUR_CAD\n",
      "USD_CAD\n",
      "AUD_USD\n",
      "AUD_NZD\n",
      "AUD_CAD\n",
      "GBP_USD\n",
      "GBP_AUD\n",
      "GBP_NZD\n",
      "GBP_CAD\n",
      "NZD_USD\n",
      "NZD_CAD\n"
     ]
    }
   ],
   "source": [
    "for pair1 in currencies:\n",
    "    for pair2 in currencies:            \n",
    "        pair = f'{pair1}_{pair2}'\n",
    "        if pair in instrument_df.name.unique():\n",
    "            print(pair)\n",
    "    "
   ]
  }
 ],
 "metadata": {
  "kernelspec": {
   "display_name": "venv",
   "language": "python",
   "name": "python3"
  },
  "language_info": {
   "codemirror_mode": {
    "name": "ipython",
    "version": 3
   },
   "file_extension": ".py",
   "mimetype": "text/x-python",
   "name": "python",
   "nbconvert_exporter": "python",
   "pygments_lexer": "ipython3",
   "version": "3.11.4"
  }
 },
 "nbformat": 4,
 "nbformat_minor": 2
}
