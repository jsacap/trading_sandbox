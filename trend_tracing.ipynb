{
 "cells": [
  {
   "cell_type": "code",
   "execution_count": null,
   "metadata": {},
   "outputs": [],
   "source": [
    "import plotly_express as px\n",
    "import pandas as pd\n",
    "import matplotlib.pyplot as plt\n",
    "import numpy as np\n",
    "import mplfinance as mpf\n",
    "import plotly.graph_objects as go\n",
    "import yfinance as yf\n",
    "from backtesting import Backtest, Strategy\n",
    "import pandas_ta as ta\n",
    "\n",
    "from backtesting.lib import crossover\n",
    "import math"
   ]
  },
  {
   "cell_type": "code",
   "execution_count": null,
   "metadata": {},
   "outputs": [],
   "source": [
    "# If you want to check if the strategy is executing trades correctly, use this to validate the data that can be run with the backtest and can handle the plot.\n",
    "ticker = \"usdjpy=X\"\n",
    "df = yf.download(ticker, period=\"1y\", interval=\"1h\")\n"
   ]
  },
  {
   "cell_type": "code",
   "execution_count": null,
   "metadata": {},
   "outputs": [],
   "source": [
    "# For other spreadsheet use this in reading csv\n",
    "# , delimiter='\\t', names=['Open', 'High', 'Low', 'Close', 'Volume'], header=0\n",
    "\n",
    "# Darwinex spreadsheet\n",
    "df = pd.read_csv('../Data/Darwinex/GBPJPY60.csv', header=None, names=['Date', 'Time', 'Open', 'High', 'Low', 'Close', 'Volume'])\n",
    "df['DateTime'] = pd.to_datetime(df['Date'] + ' ' + df['Time'])\n",
    "df.set_index('DateTime', inplace=True)\n",
    "df.drop(columns=['Date', 'Time'], inplace=True)\n"
   ]
  },
  {
   "cell_type": "code",
   "execution_count": null,
   "metadata": {},
   "outputs": [],
   "source": [
    "df = df.iloc[:30]"
   ]
  },
  {
   "cell_type": "code",
   "execution_count": null,
   "metadata": {},
   "outputs": [],
   "source": [
    "# fig = go.Figure(data=[go.Candlestick(x=df.index,\n",
    "#                 open=df.Open,\n",
    "#                 high=df.High,\n",
    "#                 low=df.Low,\n",
    "#                 close=df.Close)])\n",
    "\n",
    "# fig.update_layout(\n",
    "#     xaxis=dict(type='category', nticks=20),\n",
    "#     xaxis_rangeslider_visible = False\n",
    "# )\n",
    "\n",
    "# fig.show()\n"
   ]
  },
  {
   "cell_type": "code",
   "execution_count": 58,
   "metadata": {},
   "outputs": [],
   "source": [
    "# For other spreadsheet use this in reading csv\n",
    "# , delimiter='\\t', names=['Open', 'High', 'Low', 'Close', 'Volume'], header=0\n",
    "\n",
    "# Darwinex spreadsheet\n",
    "df = pd.read_csv('../Data/Darwinex/GBPJPY60.csv', header=None, names=['Date', 'Time', 'Open', 'High', 'Low', 'Close', 'Volume'])\n",
    "df['DateTime'] = pd.to_datetime(df['Date'] + ' ' + df['Time'])\n",
    "df.set_index('DateTime', inplace=True)\n",
    "df.drop(columns=['Date', 'Time'], inplace=True)\n",
    "\n",
    "df = df.iloc[:150]\n",
    "\n",
    "# Init\n",
    "conditions = [\n",
    "    df.Close > df.Open,\n",
    "    df.Close < df.Open\n",
    "]\n",
    "\n",
    "choices = ['Bull', 'Bear']\n",
    "\n",
    "df['Candle'] = np.select(conditions, choices, default='Doji')\n",
    "df['Swing_Low'] = None\n",
    "df['Swing_High'] = None\n",
    "df['Swing_High'] = None\n",
    "df['Swing_Low'] = None\n",
    "df['Trend'] = 'Neutral'\n",
    "\n",
    "higher_high = float('-inf')\n",
    "lower_low = float('inf')\n",
    "\n",
    "bullish_pullback_count = 0\n",
    "bearish_pullback_count = 0\n",
    "bullish_pullback = False\n",
    "bearish_pullback = False\n",
    "\n",
    "swing_high = df['High'].iloc[0]\n",
    "swing_low = df['Low'].iloc[0]\n",
    "\n",
    "uptrend_lowest_pullback = float('inf')\n",
    "downtrend_highest_pullback = float('inf')\n",
    "\n",
    "previous_high = df['High'].iloc[0]\n",
    "previous_low = df['Low'].iloc[0]\n",
    "\n",
    "current_trend = 'Neutral'\n",
    "df.at[0, 'Trend'] = current_trend\n",
    "\n",
    "df['Price_Status'] = None\n",
    "price_status = None\n",
    "\n",
    "\n"
   ]
  },
  {
   "cell_type": "code",
   "execution_count": 59,
   "metadata": {},
   "outputs": [],
   "source": [
    "from IPython.display import clear_output\n",
    "previous_row = df.iloc[0]\n",
    "# Itterating logic starts\n",
    "for i, row in df.iloc[1:].iterrows():\n",
    "    current_high = row['High']\n",
    "    current_low = row['Low']\n",
    "    candle_type = row['Candle']\n",
    "    current_close = row['Close']\n",
    "    \n",
    "    # clear_output(wait=True)\n",
    "    \n",
    "    if current_close > swing_high:\n",
    "        current_trend = 'Uptrend'\n",
    "\n",
    "    elif current_close < swing_low:\n",
    "        current_trend = 'Downtrend'\n",
    "    \n",
    "    df.at[i, 'Trend'] = current_trend\n",
    "\n",
    "    if bullish_pullback or bearish_pullback:\n",
    "        price_status = 'Consolidation'\n",
    "    else:\n",
    "        price_status = 'Extension'\n",
    "\n",
    "    df.at[i, 'Price_Status'] = price_status\n",
    "    # ================================================================================================== #\n",
    "\n",
    "\n",
    "    if current_trend == 'Uptrend':\n",
    "        if current_high > previous_high and not bullish_pullback:            \n",
    "            higher_high = current_high\n",
    "        elif current_close < higher_high and candle_type == 'Bear':\n",
    "            bullish_pullback_count += 1\n",
    "        \n",
    "        if bullish_pullback_count >= 2:\n",
    "            bullish_pullback = True\n",
    "        else:\n",
    "            bullish_pullback = False\n",
    "\n",
    "        if bullish_pullback and current_close > swing_low:\n",
    "             swing_high = higher_high\n",
    "             df.at[i, 'Swing_High'] = swing_high\n",
    "             if current_low < previous_low:\n",
    "                  uptrend_lowest_pullback = current_low                \n",
    "        else:\n",
    "             if current_close > swing_high:\n",
    "                  swing_low = uptrend_lowest_pullback\n",
    "                  df.at[i, 'Swing_Low'] = swing_low\n",
    "    \n",
    "    if current_trend == 'Uptrend':\n",
    "        if current_high > previous_high and not bullish_pullback:            \n",
    "            higher_high = current_high\n",
    "              \n"
   ]
  },
  {
   "cell_type": "code",
   "execution_count": 60,
   "metadata": {},
   "outputs": [
    {
     "data": {
      "text/html": [
       "<div>\n",
       "<style scoped>\n",
       "    .dataframe tbody tr th:only-of-type {\n",
       "        vertical-align: middle;\n",
       "    }\n",
       "\n",
       "    .dataframe tbody tr th {\n",
       "        vertical-align: top;\n",
       "    }\n",
       "\n",
       "    .dataframe thead th {\n",
       "        text-align: right;\n",
       "    }\n",
       "</style>\n",
       "<table border=\"1\" class=\"dataframe\">\n",
       "  <thead>\n",
       "    <tr style=\"text-align: right;\">\n",
       "      <th></th>\n",
       "      <th>Open</th>\n",
       "      <th>High</th>\n",
       "      <th>Low</th>\n",
       "      <th>Close</th>\n",
       "      <th>Volume</th>\n",
       "      <th>Candle</th>\n",
       "      <th>Swing_Low</th>\n",
       "      <th>Swing_High</th>\n",
       "      <th>Trend</th>\n",
       "      <th>Price_Status</th>\n",
       "    </tr>\n",
       "    <tr>\n",
       "      <th>DateTime</th>\n",
       "      <th></th>\n",
       "      <th></th>\n",
       "      <th></th>\n",
       "      <th></th>\n",
       "      <th></th>\n",
       "      <th></th>\n",
       "      <th></th>\n",
       "      <th></th>\n",
       "      <th></th>\n",
       "      <th></th>\n",
       "    </tr>\n",
       "  </thead>\n",
       "  <tbody>\n",
       "    <tr>\n",
       "      <th>2013-08-21 09:00:00</th>\n",
       "      <td>152.669</td>\n",
       "      <td>152.850</td>\n",
       "      <td>152.573</td>\n",
       "      <td>152.823</td>\n",
       "      <td>4543.0</td>\n",
       "      <td>Bull</td>\n",
       "      <td>None</td>\n",
       "      <td>None</td>\n",
       "      <td>Neutral</td>\n",
       "      <td>None</td>\n",
       "    </tr>\n",
       "    <tr>\n",
       "      <th>2013-08-21 10:00:00</th>\n",
       "      <td>152.824</td>\n",
       "      <td>152.947</td>\n",
       "      <td>152.419</td>\n",
       "      <td>152.864</td>\n",
       "      <td>5086.0</td>\n",
       "      <td>Bull</td>\n",
       "      <td>inf</td>\n",
       "      <td>None</td>\n",
       "      <td>Uptrend</td>\n",
       "      <td>Extension</td>\n",
       "    </tr>\n",
       "    <tr>\n",
       "      <th>2013-08-21 11:00:00</th>\n",
       "      <td>152.872</td>\n",
       "      <td>152.991</td>\n",
       "      <td>152.706</td>\n",
       "      <td>152.829</td>\n",
       "      <td>3732.0</td>\n",
       "      <td>Bear</td>\n",
       "      <td>None</td>\n",
       "      <td>inf</td>\n",
       "      <td>Downtrend</td>\n",
       "      <td>Extension</td>\n",
       "    </tr>\n",
       "    <tr>\n",
       "      <th>2013-08-21 12:00:00</th>\n",
       "      <td>152.828</td>\n",
       "      <td>152.961</td>\n",
       "      <td>152.683</td>\n",
       "      <td>152.713</td>\n",
       "      <td>3534.0</td>\n",
       "      <td>Bear</td>\n",
       "      <td>None</td>\n",
       "      <td>inf</td>\n",
       "      <td>Downtrend</td>\n",
       "      <td>Extension</td>\n",
       "    </tr>\n",
       "    <tr>\n",
       "      <th>2013-08-21 13:00:00</th>\n",
       "      <td>152.712</td>\n",
       "      <td>153.005</td>\n",
       "      <td>152.646</td>\n",
       "      <td>152.956</td>\n",
       "      <td>3639.0</td>\n",
       "      <td>Bull</td>\n",
       "      <td>None</td>\n",
       "      <td>inf</td>\n",
       "      <td>Downtrend</td>\n",
       "      <td>Extension</td>\n",
       "    </tr>\n",
       "    <tr>\n",
       "      <th>2013-08-21 14:00:00</th>\n",
       "      <td>152.958</td>\n",
       "      <td>153.058</td>\n",
       "      <td>152.925</td>\n",
       "      <td>152.952</td>\n",
       "      <td>3292.0</td>\n",
       "      <td>Bear</td>\n",
       "      <td>None</td>\n",
       "      <td>inf</td>\n",
       "      <td>Downtrend</td>\n",
       "      <td>Extension</td>\n",
       "    </tr>\n",
       "    <tr>\n",
       "      <th>2013-08-21 15:00:00</th>\n",
       "      <td>152.952</td>\n",
       "      <td>153.253</td>\n",
       "      <td>152.940</td>\n",
       "      <td>153.166</td>\n",
       "      <td>4806.0</td>\n",
       "      <td>Bull</td>\n",
       "      <td>None</td>\n",
       "      <td>inf</td>\n",
       "      <td>Downtrend</td>\n",
       "      <td>Extension</td>\n",
       "    </tr>\n",
       "    <tr>\n",
       "      <th>2013-08-21 16:00:00</th>\n",
       "      <td>153.169</td>\n",
       "      <td>153.321</td>\n",
       "      <td>153.035</td>\n",
       "      <td>153.219</td>\n",
       "      <td>4699.0</td>\n",
       "      <td>Bull</td>\n",
       "      <td>None</td>\n",
       "      <td>inf</td>\n",
       "      <td>Downtrend</td>\n",
       "      <td>Extension</td>\n",
       "    </tr>\n",
       "    <tr>\n",
       "      <th>2013-08-21 17:00:00</th>\n",
       "      <td>153.219</td>\n",
       "      <td>153.262</td>\n",
       "      <td>153.028</td>\n",
       "      <td>153.098</td>\n",
       "      <td>3712.0</td>\n",
       "      <td>Bear</td>\n",
       "      <td>None</td>\n",
       "      <td>inf</td>\n",
       "      <td>Downtrend</td>\n",
       "      <td>Extension</td>\n",
       "    </tr>\n",
       "    <tr>\n",
       "      <th>2013-08-21 18:00:00</th>\n",
       "      <td>153.098</td>\n",
       "      <td>153.266</td>\n",
       "      <td>153.059</td>\n",
       "      <td>153.160</td>\n",
       "      <td>2581.0</td>\n",
       "      <td>Bull</td>\n",
       "      <td>None</td>\n",
       "      <td>inf</td>\n",
       "      <td>Downtrend</td>\n",
       "      <td>Extension</td>\n",
       "    </tr>\n",
       "    <tr>\n",
       "      <th>2013-08-21 19:00:00</th>\n",
       "      <td>153.146</td>\n",
       "      <td>153.225</td>\n",
       "      <td>153.039</td>\n",
       "      <td>153.089</td>\n",
       "      <td>2469.0</td>\n",
       "      <td>Bear</td>\n",
       "      <td>None</td>\n",
       "      <td>inf</td>\n",
       "      <td>Downtrend</td>\n",
       "      <td>Extension</td>\n",
       "    </tr>\n",
       "    <tr>\n",
       "      <th>2013-08-21 20:00:00</th>\n",
       "      <td>153.089</td>\n",
       "      <td>153.638</td>\n",
       "      <td>153.082</td>\n",
       "      <td>153.430</td>\n",
       "      <td>7341.0</td>\n",
       "      <td>Bull</td>\n",
       "      <td>None</td>\n",
       "      <td>inf</td>\n",
       "      <td>Downtrend</td>\n",
       "      <td>Extension</td>\n",
       "    </tr>\n",
       "    <tr>\n",
       "      <th>2013-08-21 21:00:00</th>\n",
       "      <td>153.428</td>\n",
       "      <td>153.511</td>\n",
       "      <td>153.217</td>\n",
       "      <td>153.280</td>\n",
       "      <td>4202.0</td>\n",
       "      <td>Bear</td>\n",
       "      <td>None</td>\n",
       "      <td>inf</td>\n",
       "      <td>Downtrend</td>\n",
       "      <td>Extension</td>\n",
       "    </tr>\n",
       "    <tr>\n",
       "      <th>2013-08-21 22:00:00</th>\n",
       "      <td>153.285</td>\n",
       "      <td>153.294</td>\n",
       "      <td>152.913</td>\n",
       "      <td>152.913</td>\n",
       "      <td>3062.0</td>\n",
       "      <td>Bear</td>\n",
       "      <td>None</td>\n",
       "      <td>inf</td>\n",
       "      <td>Downtrend</td>\n",
       "      <td>Extension</td>\n",
       "    </tr>\n",
       "    <tr>\n",
       "      <th>2013-08-21 23:00:00</th>\n",
       "      <td>152.927</td>\n",
       "      <td>152.993</td>\n",
       "      <td>152.768</td>\n",
       "      <td>152.957</td>\n",
       "      <td>1418.0</td>\n",
       "      <td>Bull</td>\n",
       "      <td>None</td>\n",
       "      <td>inf</td>\n",
       "      <td>Downtrend</td>\n",
       "      <td>Extension</td>\n",
       "    </tr>\n",
       "    <tr>\n",
       "      <th>2013-08-22 00:00:00</th>\n",
       "      <td>152.967</td>\n",
       "      <td>153.017</td>\n",
       "      <td>152.738</td>\n",
       "      <td>152.801</td>\n",
       "      <td>2395.0</td>\n",
       "      <td>Bear</td>\n",
       "      <td>None</td>\n",
       "      <td>inf</td>\n",
       "      <td>Downtrend</td>\n",
       "      <td>Extension</td>\n",
       "    </tr>\n",
       "    <tr>\n",
       "      <th>2013-08-22 01:00:00</th>\n",
       "      <td>152.816</td>\n",
       "      <td>152.827</td>\n",
       "      <td>152.672</td>\n",
       "      <td>152.725</td>\n",
       "      <td>2049.0</td>\n",
       "      <td>Bear</td>\n",
       "      <td>None</td>\n",
       "      <td>inf</td>\n",
       "      <td>Downtrend</td>\n",
       "      <td>Extension</td>\n",
       "    </tr>\n",
       "    <tr>\n",
       "      <th>2013-08-22 02:00:00</th>\n",
       "      <td>152.728</td>\n",
       "      <td>152.938</td>\n",
       "      <td>152.648</td>\n",
       "      <td>152.815</td>\n",
       "      <td>4164.0</td>\n",
       "      <td>Bull</td>\n",
       "      <td>None</td>\n",
       "      <td>inf</td>\n",
       "      <td>Downtrend</td>\n",
       "      <td>Extension</td>\n",
       "    </tr>\n",
       "    <tr>\n",
       "      <th>2013-08-22 03:00:00</th>\n",
       "      <td>152.815</td>\n",
       "      <td>153.558</td>\n",
       "      <td>152.777</td>\n",
       "      <td>153.472</td>\n",
       "      <td>4381.0</td>\n",
       "      <td>Bull</td>\n",
       "      <td>None</td>\n",
       "      <td>inf</td>\n",
       "      <td>Downtrend</td>\n",
       "      <td>Extension</td>\n",
       "    </tr>\n",
       "    <tr>\n",
       "      <th>2013-08-22 04:00:00</th>\n",
       "      <td>153.470</td>\n",
       "      <td>153.579</td>\n",
       "      <td>153.082</td>\n",
       "      <td>153.098</td>\n",
       "      <td>3255.0</td>\n",
       "      <td>Bear</td>\n",
       "      <td>None</td>\n",
       "      <td>inf</td>\n",
       "      <td>Downtrend</td>\n",
       "      <td>Extension</td>\n",
       "    </tr>\n",
       "    <tr>\n",
       "      <th>2013-08-22 05:00:00</th>\n",
       "      <td>153.097</td>\n",
       "      <td>153.188</td>\n",
       "      <td>153.042</td>\n",
       "      <td>153.095</td>\n",
       "      <td>2217.0</td>\n",
       "      <td>Bear</td>\n",
       "      <td>None</td>\n",
       "      <td>inf</td>\n",
       "      <td>Downtrend</td>\n",
       "      <td>Extension</td>\n",
       "    </tr>\n",
       "    <tr>\n",
       "      <th>2013-08-22 06:00:00</th>\n",
       "      <td>153.092</td>\n",
       "      <td>153.320</td>\n",
       "      <td>153.083</td>\n",
       "      <td>153.277</td>\n",
       "      <td>2003.0</td>\n",
       "      <td>Bull</td>\n",
       "      <td>None</td>\n",
       "      <td>inf</td>\n",
       "      <td>Downtrend</td>\n",
       "      <td>Extension</td>\n",
       "    </tr>\n",
       "    <tr>\n",
       "      <th>2013-08-22 07:00:00</th>\n",
       "      <td>153.277</td>\n",
       "      <td>153.308</td>\n",
       "      <td>153.071</td>\n",
       "      <td>153.184</td>\n",
       "      <td>2781.0</td>\n",
       "      <td>Bear</td>\n",
       "      <td>None</td>\n",
       "      <td>inf</td>\n",
       "      <td>Downtrend</td>\n",
       "      <td>Extension</td>\n",
       "    </tr>\n",
       "  </tbody>\n",
       "</table>\n",
       "</div>"
      ],
      "text/plain": [
       "                        Open     High      Low    Close  Volume Candle  \\\n",
       "DateTime                                                                 \n",
       "2013-08-21 09:00:00  152.669  152.850  152.573  152.823  4543.0   Bull   \n",
       "2013-08-21 10:00:00  152.824  152.947  152.419  152.864  5086.0   Bull   \n",
       "2013-08-21 11:00:00  152.872  152.991  152.706  152.829  3732.0   Bear   \n",
       "2013-08-21 12:00:00  152.828  152.961  152.683  152.713  3534.0   Bear   \n",
       "2013-08-21 13:00:00  152.712  153.005  152.646  152.956  3639.0   Bull   \n",
       "2013-08-21 14:00:00  152.958  153.058  152.925  152.952  3292.0   Bear   \n",
       "2013-08-21 15:00:00  152.952  153.253  152.940  153.166  4806.0   Bull   \n",
       "2013-08-21 16:00:00  153.169  153.321  153.035  153.219  4699.0   Bull   \n",
       "2013-08-21 17:00:00  153.219  153.262  153.028  153.098  3712.0   Bear   \n",
       "2013-08-21 18:00:00  153.098  153.266  153.059  153.160  2581.0   Bull   \n",
       "2013-08-21 19:00:00  153.146  153.225  153.039  153.089  2469.0   Bear   \n",
       "2013-08-21 20:00:00  153.089  153.638  153.082  153.430  7341.0   Bull   \n",
       "2013-08-21 21:00:00  153.428  153.511  153.217  153.280  4202.0   Bear   \n",
       "2013-08-21 22:00:00  153.285  153.294  152.913  152.913  3062.0   Bear   \n",
       "2013-08-21 23:00:00  152.927  152.993  152.768  152.957  1418.0   Bull   \n",
       "2013-08-22 00:00:00  152.967  153.017  152.738  152.801  2395.0   Bear   \n",
       "2013-08-22 01:00:00  152.816  152.827  152.672  152.725  2049.0   Bear   \n",
       "2013-08-22 02:00:00  152.728  152.938  152.648  152.815  4164.0   Bull   \n",
       "2013-08-22 03:00:00  152.815  153.558  152.777  153.472  4381.0   Bull   \n",
       "2013-08-22 04:00:00  153.470  153.579  153.082  153.098  3255.0   Bear   \n",
       "2013-08-22 05:00:00  153.097  153.188  153.042  153.095  2217.0   Bear   \n",
       "2013-08-22 06:00:00  153.092  153.320  153.083  153.277  2003.0   Bull   \n",
       "2013-08-22 07:00:00  153.277  153.308  153.071  153.184  2781.0   Bear   \n",
       "\n",
       "                    Swing_Low Swing_High      Trend Price_Status  \n",
       "DateTime                                                          \n",
       "2013-08-21 09:00:00      None       None    Neutral         None  \n",
       "2013-08-21 10:00:00       inf       None    Uptrend    Extension  \n",
       "2013-08-21 11:00:00      None        inf  Downtrend    Extension  \n",
       "2013-08-21 12:00:00      None        inf  Downtrend    Extension  \n",
       "2013-08-21 13:00:00      None        inf  Downtrend    Extension  \n",
       "2013-08-21 14:00:00      None        inf  Downtrend    Extension  \n",
       "2013-08-21 15:00:00      None        inf  Downtrend    Extension  \n",
       "2013-08-21 16:00:00      None        inf  Downtrend    Extension  \n",
       "2013-08-21 17:00:00      None        inf  Downtrend    Extension  \n",
       "2013-08-21 18:00:00      None        inf  Downtrend    Extension  \n",
       "2013-08-21 19:00:00      None        inf  Downtrend    Extension  \n",
       "2013-08-21 20:00:00      None        inf  Downtrend    Extension  \n",
       "2013-08-21 21:00:00      None        inf  Downtrend    Extension  \n",
       "2013-08-21 22:00:00      None        inf  Downtrend    Extension  \n",
       "2013-08-21 23:00:00      None        inf  Downtrend    Extension  \n",
       "2013-08-22 00:00:00      None        inf  Downtrend    Extension  \n",
       "2013-08-22 01:00:00      None        inf  Downtrend    Extension  \n",
       "2013-08-22 02:00:00      None        inf  Downtrend    Extension  \n",
       "2013-08-22 03:00:00      None        inf  Downtrend    Extension  \n",
       "2013-08-22 04:00:00      None        inf  Downtrend    Extension  \n",
       "2013-08-22 05:00:00      None        inf  Downtrend    Extension  \n",
       "2013-08-22 06:00:00      None        inf  Downtrend    Extension  \n",
       "2013-08-22 07:00:00      None        inf  Downtrend    Extension  "
      ]
     },
     "execution_count": 60,
     "metadata": {},
     "output_type": "execute_result"
    }
   ],
   "source": [
    "df.head(23)"
   ]
  },
  {
   "cell_type": "code",
   "execution_count": 61,
   "metadata": {},
   "outputs": [
    {
     "data": {
      "application/vnd.plotly.v1+json": {
       "config": {
        "plotlyServerURL": "https://plot.ly"
       },
       "data": [
        {
         "close": [
          152.823,
          152.864,
          152.829,
          152.713,
          152.956,
          152.952,
          153.166,
          153.219,
          153.098,
          153.16,
          153.089,
          153.43,
          153.28,
          152.913,
          152.957,
          152.801,
          152.725,
          152.815,
          153.472,
          153.098,
          153.095,
          153.277,
          153.184,
          153.328,
          153.228,
          153.436,
          153.609,
          153.673,
          153.699,
          153.524,
          153.69,
          153.548,
          153.492,
          153.554,
          153.814,
          153.614,
          153.824,
          153.848,
          153.918,
          153.939,
          154.185,
          154.048,
          154.319,
          154.238,
          154.23,
          154.363,
          154.154,
          154.21,
          154.235,
          154.42,
          154.492,
          154.389,
          154.016,
          154.02,
          153.934,
          153.563,
          153.543,
          153.699,
          153.691,
          153.638,
          153.727,
          153.653,
          153.825,
          153.797,
          153.803,
          153.69,
          153.605,
          153.627,
          153.594,
          153.504,
          153.341,
          153.353,
          153.391,
          153.544,
          153.562,
          153.499,
          153.442,
          153.354,
          153.495,
          153.55,
          153.632,
          153.599,
          153.642,
          153.331,
          153.398,
          153.333,
          153.296,
          153.135,
          152.885,
          152.838,
          153.067,
          153.138,
          153.044,
          152.798,
          152.598,
          152.028,
          151.875,
          151.629,
          151.79,
          151.557,
          151.156,
          151.371,
          151.018,
          151.088,
          151.076,
          150.828,
          150.875,
          150.887,
          150.833,
          150.815,
          150.949,
          150.598,
          151.158,
          150.972,
          150.847,
          150.738,
          150.715,
          150.897,
          150.911,
          151.253,
          151.034,
          151.03,
          150.569,
          150.551,
          151.47,
          151.457,
          151.761,
          151.55,
          151.579,
          151.69,
          151.678,
          151.774,
          151.565,
          151.688,
          151.739,
          151.758,
          151.911,
          151.598,
          151.527,
          151.666,
          151.793,
          151.776,
          152.218,
          152.259,
          152.196,
          152.248,
          152.177,
          152.326,
          152.418,
          152.426,
          null
         ],
         "high": [
          152.85,
          152.947,
          152.991,
          152.961,
          153.005,
          153.058,
          153.253,
          153.321,
          153.262,
          153.266,
          153.225,
          153.638,
          153.511,
          153.294,
          152.993,
          153.017,
          152.827,
          152.938,
          153.558,
          153.579,
          153.188,
          153.32,
          153.308,
          153.349,
          153.358,
          153.459,
          153.758,
          153.788,
          153.712,
          153.751,
          153.744,
          153.786,
          153.638,
          153.676,
          153.896,
          153.833,
          153.902,
          154.013,
          153.981,
          154.003,
          154.253,
          154.223,
          154.443,
          154.333,
          154.294,
          154.442,
          154.369,
          154.433,
          154.388,
          154.665,
          154.6,
          154.545,
          154.469,
          154.149,
          154.076,
          153.888,
          153.648,
          153.743,
          153.762,
          153.688,
          153.756,
          153.77,
          153.864,
          153.883,
          153.971,
          153.816,
          153.726,
          153.699,
          153.663,
          153.588,
          153.543,
          153.475,
          153.521,
          153.605,
          153.675,
          153.617,
          153.515,
          153.499,
          153.541,
          153.718,
          153.652,
          153.713,
          153.663,
          153.673,
          153.468,
          153.433,
          153.483,
          153.323,
          153.203,
          153.011,
          153.092,
          153.167,
          153.171,
          153.056,
          152.84,
          152.672,
          152.15,
          151.91,
          151.824,
          151.833,
          151.563,
          151.411,
          151.538,
          151.333,
          151.14,
          151.083,
          150.947,
          150.964,
          150.973,
          150.884,
          151.082,
          151,
          151.169,
          151.181,
          150.978,
          150.931,
          150.943,
          151.162,
          151.001,
          151.463,
          151.322,
          151.063,
          151.054,
          150.764,
          151.506,
          151.674,
          151.889,
          151.873,
          151.629,
          151.718,
          151.734,
          151.784,
          151.778,
          151.708,
          151.765,
          151.845,
          151.972,
          151.947,
          151.693,
          151.702,
          151.81,
          151.878,
          152.269,
          152.403,
          152.333,
          152.339,
          152.259,
          152.415,
          152.659,
          152.5,
          null
         ],
         "low": [
          152.573,
          152.419,
          152.706,
          152.683,
          152.646,
          152.925,
          152.94,
          153.035,
          153.028,
          153.059,
          153.039,
          153.082,
          153.217,
          152.913,
          152.768,
          152.738,
          152.672,
          152.648,
          152.777,
          153.082,
          153.042,
          153.083,
          153.071,
          153.182,
          153.061,
          153.215,
          153.419,
          153.587,
          153.553,
          153.502,
          153.507,
          153.539,
          153.432,
          153.468,
          153.538,
          153.58,
          153.551,
          153.779,
          153.798,
          153.832,
          153.9,
          154.029,
          154.009,
          154.133,
          154.186,
          154.213,
          154.016,
          154.103,
          154.152,
          154.196,
          154.36,
          154.345,
          153.956,
          153.87,
          153.88,
          153.413,
          153.432,
          153.531,
          153.618,
          153.495,
          153.601,
          153.568,
          153.595,
          153.729,
          153.676,
          153.643,
          153.546,
          153.584,
          153.544,
          153.363,
          153.285,
          153.32,
          153.334,
          153.374,
          153.526,
          153.491,
          153.25,
          153.313,
          153.303,
          153.489,
          153.481,
          153.558,
          153.55,
          153.313,
          153.234,
          153.265,
          153.238,
          153.011,
          152.821,
          152.806,
          152.829,
          152.899,
          152.992,
          152.698,
          152.596,
          151.877,
          151.709,
          151.528,
          151.575,
          151.548,
          150.832,
          150.894,
          150.903,
          151.006,
          150.907,
          150.727,
          150.708,
          150.764,
          150.698,
          150.768,
          150.826,
          150.5,
          150.578,
          150.887,
          150.778,
          150.503,
          150.62,
          150.623,
          150.824,
          150.898,
          150.958,
          150.856,
          150.512,
          150.484,
          150.468,
          151.283,
          151.357,
          151.526,
          151.457,
          151.507,
          151.569,
          151.668,
          151.564,
          151.532,
          151.653,
          151.678,
          151.728,
          151.558,
          151.502,
          151.5,
          151.625,
          151.675,
          151.709,
          152.169,
          152.118,
          152.151,
          152.063,
          152.102,
          152.319,
          152.212,
          null
         ],
         "name": "Candlestick",
         "open": [
          152.669,
          152.824,
          152.872,
          152.828,
          152.712,
          152.958,
          152.952,
          153.169,
          153.219,
          153.098,
          153.146,
          153.089,
          153.428,
          153.285,
          152.927,
          152.967,
          152.816,
          152.728,
          152.815,
          153.47,
          153.097,
          153.092,
          153.277,
          153.184,
          153.328,
          153.226,
          153.433,
          153.607,
          153.678,
          153.707,
          153.529,
          153.698,
          153.55,
          153.494,
          153.556,
          153.809,
          153.618,
          153.827,
          153.843,
          153.903,
          153.939,
          154.187,
          154.045,
          154.318,
          154.237,
          154.23,
          154.361,
          154.164,
          154.211,
          154.235,
          154.424,
          154.497,
          154.39,
          154.018,
          154.02,
          153.888,
          153.563,
          153.541,
          153.697,
          153.685,
          153.663,
          153.734,
          153.601,
          153.821,
          153.8,
          153.798,
          153.694,
          153.606,
          153.627,
          153.584,
          153.503,
          153.341,
          153.359,
          153.395,
          153.543,
          153.56,
          153.498,
          153.439,
          153.353,
          153.492,
          153.55,
          153.631,
          153.601,
          153.638,
          153.332,
          153.41,
          153.346,
          153.299,
          153.135,
          152.89,
          152.833,
          153.073,
          153.137,
          153.056,
          152.798,
          152.599,
          152.028,
          151.872,
          151.625,
          151.789,
          151.56,
          151.154,
          151.381,
          151.021,
          151.085,
          151.08,
          150.824,
          150.888,
          150.887,
          150.833,
          150.826,
          150.951,
          150.598,
          151.153,
          150.974,
          150.85,
          150.738,
          150.72,
          150.9,
          150.923,
          151.261,
          151.037,
          151.051,
          150.57,
          150.548,
          151.47,
          151.444,
          151.758,
          151.553,
          151.578,
          151.695,
          151.68,
          151.773,
          151.563,
          151.678,
          151.741,
          151.758,
          151.911,
          151.596,
          151.527,
          151.664,
          151.793,
          151.774,
          152.218,
          152.259,
          152.197,
          152.248,
          152.174,
          152.319,
          152.418,
          null
         ],
         "type": "candlestick",
         "x": [
          "2013-08-21T09:00:00",
          "2013-08-21T10:00:00",
          "2013-08-21T11:00:00",
          "2013-08-21T12:00:00",
          "2013-08-21T13:00:00",
          "2013-08-21T14:00:00",
          "2013-08-21T15:00:00",
          "2013-08-21T16:00:00",
          "2013-08-21T17:00:00",
          "2013-08-21T18:00:00",
          "2013-08-21T19:00:00",
          "2013-08-21T20:00:00",
          "2013-08-21T21:00:00",
          "2013-08-21T22:00:00",
          "2013-08-21T23:00:00",
          "2013-08-22T00:00:00",
          "2013-08-22T01:00:00",
          "2013-08-22T02:00:00",
          "2013-08-22T03:00:00",
          "2013-08-22T04:00:00",
          "2013-08-22T05:00:00",
          "2013-08-22T06:00:00",
          "2013-08-22T07:00:00",
          "2013-08-22T08:00:00",
          "2013-08-22T09:00:00",
          "2013-08-22T10:00:00",
          "2013-08-22T11:00:00",
          "2013-08-22T12:00:00",
          "2013-08-22T13:00:00",
          "2013-08-22T14:00:00",
          "2013-08-22T15:00:00",
          "2013-08-22T16:00:00",
          "2013-08-22T17:00:00",
          "2013-08-22T18:00:00",
          "2013-08-22T19:00:00",
          "2013-08-22T20:00:00",
          "2013-08-22T21:00:00",
          "2013-08-22T22:00:00",
          "2013-08-22T23:00:00",
          "2013-08-23T00:00:00",
          "2013-08-23T01:00:00",
          "2013-08-23T02:00:00",
          "2013-08-23T03:00:00",
          "2013-08-23T04:00:00",
          "2013-08-23T05:00:00",
          "2013-08-23T06:00:00",
          "2013-08-23T07:00:00",
          "2013-08-23T08:00:00",
          "2013-08-23T09:00:00",
          "2013-08-23T10:00:00",
          "2013-08-23T11:00:00",
          "2013-08-23T12:00:00",
          "2013-08-23T13:00:00",
          "2013-08-23T14:00:00",
          "2013-08-23T15:00:00",
          "2013-08-23T16:00:00",
          "2013-08-23T17:00:00",
          "2013-08-23T18:00:00",
          "2013-08-23T19:00:00",
          "2013-08-23T20:00:00",
          "2013-08-23T21:00:00",
          "2013-08-23T22:00:00",
          "2013-08-26T00:00:00",
          "2013-08-26T01:00:00",
          "2013-08-26T02:00:00",
          "2013-08-26T03:00:00",
          "2013-08-26T04:00:00",
          "2013-08-26T05:00:00",
          "2013-08-26T06:00:00",
          "2013-08-26T07:00:00",
          "2013-08-26T08:00:00",
          "2013-08-26T09:00:00",
          "2013-08-26T10:00:00",
          "2013-08-26T11:00:00",
          "2013-08-26T12:00:00",
          "2013-08-26T13:00:00",
          "2013-08-26T14:00:00",
          "2013-08-26T15:00:00",
          "2013-08-26T16:00:00",
          "2013-08-26T17:00:00",
          "2013-08-26T18:00:00",
          "2013-08-26T19:00:00",
          "2013-08-26T20:00:00",
          "2013-08-26T21:00:00",
          "2013-08-26T22:00:00",
          "2013-08-26T23:00:00",
          "2013-08-27T00:00:00",
          "2013-08-27T01:00:00",
          "2013-08-27T02:00:00",
          "2013-08-27T03:00:00",
          "2013-08-27T04:00:00",
          "2013-08-27T05:00:00",
          "2013-08-27T06:00:00",
          "2013-08-27T07:00:00",
          "2013-08-27T08:00:00",
          "2013-08-27T09:00:00",
          "2013-08-27T10:00:00",
          "2013-08-27T11:00:00",
          "2013-08-27T12:00:00",
          "2013-08-27T13:00:00",
          "2013-08-27T14:00:00",
          "2013-08-27T15:00:00",
          "2013-08-27T16:00:00",
          "2013-08-27T17:00:00",
          "2013-08-27T18:00:00",
          "2013-08-27T19:00:00",
          "2013-08-27T20:00:00",
          "2013-08-27T21:00:00",
          "2013-08-27T22:00:00",
          "2013-08-27T23:00:00",
          "2013-08-28T00:00:00",
          "2013-08-28T01:00:00",
          "2013-08-28T02:00:00",
          "2013-08-28T03:00:00",
          "2013-08-28T04:00:00",
          "2013-08-28T05:00:00",
          "2013-08-28T06:00:00",
          "2013-08-28T07:00:00",
          "2013-08-28T08:00:00",
          "2013-08-28T09:00:00",
          "2013-08-28T10:00:00",
          "2013-08-28T11:00:00",
          "2013-08-28T12:00:00",
          "2013-08-28T13:00:00",
          "2013-08-28T14:00:00",
          "2013-08-28T15:00:00",
          "2013-08-28T16:00:00",
          "2013-08-28T17:00:00",
          "2013-08-28T18:00:00",
          "2013-08-28T19:00:00",
          "2013-08-28T20:00:00",
          "2013-08-28T21:00:00",
          "2013-08-28T22:00:00",
          "2013-08-28T23:00:00",
          "2013-08-29T00:00:00",
          "2013-08-29T01:00:00",
          "2013-08-29T02:00:00",
          "2013-08-29T03:00:00",
          "2013-08-29T04:00:00",
          "2013-08-29T05:00:00",
          "2013-08-29T06:00:00",
          "2013-08-29T07:00:00",
          "2013-08-29T08:00:00",
          "2013-08-29T09:00:00",
          "2013-08-29T10:00:00",
          "2013-08-29T11:00:00",
          "2013-08-29T12:00:00",
          "2013-08-29T13:00:00",
          "2013-08-29T14:00:00",
          "2013-08-29T15:00:00",
          0
         ]
        },
        {
         "marker": {
          "color": "blue",
          "size": 8,
          "symbol": "triangle-up"
         },
         "mode": "markers",
         "name": "Uptrend",
         "type": "scatter",
         "x": [
          "2013-08-21T10:00:00"
         ],
         "y": [
          152.266581
         ]
        },
        {
         "marker": {
          "color": "orange",
          "size": 8,
          "symbol": "triangle-down"
         },
         "mode": "markers",
         "name": "Downtrend",
         "type": "scatter",
         "x": [
          "2013-08-21T11:00:00",
          "2013-08-21T12:00:00",
          "2013-08-21T13:00:00",
          "2013-08-21T14:00:00",
          "2013-08-21T15:00:00",
          "2013-08-21T16:00:00",
          "2013-08-21T17:00:00",
          "2013-08-21T18:00:00",
          "2013-08-21T19:00:00",
          "2013-08-21T20:00:00",
          "2013-08-21T21:00:00",
          "2013-08-21T22:00:00",
          "2013-08-21T23:00:00",
          "2013-08-22T00:00:00",
          "2013-08-22T01:00:00",
          "2013-08-22T02:00:00",
          "2013-08-22T03:00:00",
          "2013-08-22T04:00:00",
          "2013-08-22T05:00:00",
          "2013-08-22T06:00:00",
          "2013-08-22T07:00:00",
          "2013-08-22T08:00:00",
          "2013-08-22T09:00:00",
          "2013-08-22T10:00:00",
          "2013-08-22T11:00:00",
          "2013-08-22T12:00:00",
          "2013-08-22T13:00:00",
          "2013-08-22T14:00:00",
          "2013-08-22T15:00:00",
          "2013-08-22T16:00:00",
          "2013-08-22T17:00:00",
          "2013-08-22T18:00:00",
          "2013-08-22T19:00:00",
          "2013-08-22T20:00:00",
          "2013-08-22T21:00:00",
          "2013-08-22T22:00:00",
          "2013-08-22T23:00:00",
          "2013-08-23T00:00:00",
          "2013-08-23T01:00:00",
          "2013-08-23T02:00:00",
          "2013-08-23T03:00:00",
          "2013-08-23T04:00:00",
          "2013-08-23T05:00:00",
          "2013-08-23T06:00:00",
          "2013-08-23T07:00:00",
          "2013-08-23T08:00:00",
          "2013-08-23T09:00:00",
          "2013-08-23T10:00:00",
          "2013-08-23T11:00:00",
          "2013-08-23T12:00:00",
          "2013-08-23T13:00:00",
          "2013-08-23T14:00:00",
          "2013-08-23T15:00:00",
          "2013-08-23T16:00:00",
          "2013-08-23T17:00:00",
          "2013-08-23T18:00:00",
          "2013-08-23T19:00:00",
          "2013-08-23T20:00:00",
          "2013-08-23T21:00:00",
          "2013-08-23T22:00:00",
          "2013-08-26T00:00:00",
          "2013-08-26T01:00:00",
          "2013-08-26T02:00:00",
          "2013-08-26T03:00:00",
          "2013-08-26T04:00:00",
          "2013-08-26T05:00:00",
          "2013-08-26T06:00:00",
          "2013-08-26T07:00:00",
          "2013-08-26T08:00:00",
          "2013-08-26T09:00:00",
          "2013-08-26T10:00:00",
          "2013-08-26T11:00:00",
          "2013-08-26T12:00:00",
          "2013-08-26T13:00:00",
          "2013-08-26T14:00:00",
          "2013-08-26T15:00:00",
          "2013-08-26T16:00:00",
          "2013-08-26T17:00:00",
          "2013-08-26T18:00:00",
          "2013-08-26T19:00:00",
          "2013-08-26T20:00:00",
          "2013-08-26T21:00:00",
          "2013-08-26T22:00:00",
          "2013-08-26T23:00:00",
          "2013-08-27T00:00:00",
          "2013-08-27T01:00:00",
          "2013-08-27T02:00:00",
          "2013-08-27T03:00:00",
          "2013-08-27T04:00:00",
          "2013-08-27T05:00:00",
          "2013-08-27T06:00:00",
          "2013-08-27T07:00:00",
          "2013-08-27T08:00:00",
          "2013-08-27T09:00:00",
          "2013-08-27T10:00:00",
          "2013-08-27T11:00:00",
          "2013-08-27T12:00:00",
          "2013-08-27T13:00:00",
          "2013-08-27T14:00:00",
          "2013-08-27T15:00:00",
          "2013-08-27T16:00:00",
          "2013-08-27T17:00:00",
          "2013-08-27T18:00:00",
          "2013-08-27T19:00:00",
          "2013-08-27T20:00:00",
          "2013-08-27T21:00:00",
          "2013-08-27T22:00:00",
          "2013-08-27T23:00:00",
          "2013-08-28T00:00:00",
          "2013-08-28T01:00:00",
          "2013-08-28T02:00:00",
          "2013-08-28T03:00:00",
          "2013-08-28T04:00:00",
          "2013-08-28T05:00:00",
          "2013-08-28T06:00:00",
          "2013-08-28T07:00:00",
          "2013-08-28T08:00:00",
          "2013-08-28T09:00:00",
          "2013-08-28T10:00:00",
          "2013-08-28T11:00:00",
          "2013-08-28T12:00:00",
          "2013-08-28T13:00:00",
          "2013-08-28T14:00:00",
          "2013-08-28T15:00:00",
          "2013-08-28T16:00:00",
          "2013-08-28T17:00:00",
          "2013-08-28T18:00:00",
          "2013-08-28T19:00:00",
          "2013-08-28T20:00:00",
          "2013-08-28T21:00:00",
          "2013-08-28T22:00:00",
          "2013-08-28T23:00:00",
          "2013-08-29T00:00:00",
          "2013-08-29T01:00:00",
          "2013-08-29T02:00:00",
          "2013-08-29T03:00:00",
          "2013-08-29T04:00:00",
          "2013-08-29T05:00:00",
          "2013-08-29T06:00:00",
          "2013-08-29T07:00:00",
          "2013-08-29T08:00:00",
          "2013-08-29T09:00:00",
          "2013-08-29T10:00:00",
          "2013-08-29T11:00:00",
          "2013-08-29T12:00:00",
          "2013-08-29T13:00:00",
          "2013-08-29T14:00:00",
          "2013-08-29T15:00:00",
          0
         ],
         "y": [
          153.143991,
          153.11396100000002,
          153.158005,
          153.21105799999998,
          153.406253,
          153.474321,
          153.415262,
          153.419266,
          153.378225,
          153.791638,
          153.664511,
          153.447294,
          153.145993,
          153.170017,
          152.979827,
          153.090938,
          153.711558,
          153.73257900000002,
          153.341188,
          153.47332,
          153.461308,
          153.50234899999998,
          153.511358,
          153.612459,
          153.91175800000002,
          153.941788,
          153.865712,
          153.904751,
          153.897744,
          153.939786,
          153.791638,
          153.82967599999998,
          154.049896,
          153.986833,
          154.05590199999997,
          154.167013,
          154.13498099999998,
          154.15700299999997,
          154.407253,
          154.37722300000001,
          154.597443,
          154.487333,
          154.448294,
          154.596442,
          154.523369,
          154.587433,
          154.54238800000002,
          154.819665,
          154.75459999999998,
          154.699545,
          154.623469,
          154.303149,
          154.230076,
          154.041888,
          153.801648,
          153.896743,
          153.915762,
          153.84168799999998,
          153.909756,
          153.92377000000002,
          154.017864,
          154.03688300000002,
          154.12497100000002,
          153.969816,
          153.879726,
          153.852699,
          153.816663,
          153.741588,
          153.69654300000002,
          153.62847499999998,
          153.674521,
          153.758605,
          153.828675,
          153.770617,
          153.66851499999999,
          153.652499,
          153.694541,
          153.871718,
          153.80565199999998,
          153.866713,
          153.816663,
          153.826673,
          153.621468,
          153.586433,
          153.636483,
          153.476323,
          153.356203,
          153.164011,
          153.245092,
          153.320167,
          153.32417099999998,
          153.209056,
          152.99284,
          152.824672,
          152.30215,
          152.06190999999998,
          151.97582400000002,
          151.984833,
          151.714563,
          151.562411,
          151.689538,
          151.484333,
          151.29113999999998,
          151.234083,
          151.097947,
          151.114964,
          151.123973,
          151.03488399999998,
          151.233082,
          151.151,
          151.32016900000002,
          151.33218100000002,
          151.12897800000002,
          151.08193100000003,
          151.09394300000002,
          151.313162,
          151.152001,
          151.614463,
          151.473322,
          151.21406299999998,
          151.205054,
          150.91476400000002,
          151.657506,
          151.82567400000002,
          152.04088900000002,
          152.02487299999999,
          151.780629,
          151.86971799999998,
          151.885734,
          151.93578399999998,
          151.929778,
          151.859708,
          151.916765,
          151.996845,
          152.123972,
          152.098947,
          151.844693,
          151.853702,
          151.96181,
          152.029878,
          152.421269,
          152.55540299999998,
          152.485333,
          152.491339,
          152.41125899999997,
          152.56741499999998,
          152.811659,
          152.6525,
          null
         ]
        }
       ],
       "layout": {
        "height": 600,
        "template": {
         "data": {
          "bar": [
           {
            "error_x": {
             "color": "#f2f5fa"
            },
            "error_y": {
             "color": "#f2f5fa"
            },
            "marker": {
             "line": {
              "color": "rgb(17,17,17)",
              "width": 0.5
             },
             "pattern": {
              "fillmode": "overlay",
              "size": 10,
              "solidity": 0.2
             }
            },
            "type": "bar"
           }
          ],
          "barpolar": [
           {
            "marker": {
             "line": {
              "color": "rgb(17,17,17)",
              "width": 0.5
             },
             "pattern": {
              "fillmode": "overlay",
              "size": 10,
              "solidity": 0.2
             }
            },
            "type": "barpolar"
           }
          ],
          "carpet": [
           {
            "aaxis": {
             "endlinecolor": "#A2B1C6",
             "gridcolor": "#506784",
             "linecolor": "#506784",
             "minorgridcolor": "#506784",
             "startlinecolor": "#A2B1C6"
            },
            "baxis": {
             "endlinecolor": "#A2B1C6",
             "gridcolor": "#506784",
             "linecolor": "#506784",
             "minorgridcolor": "#506784",
             "startlinecolor": "#A2B1C6"
            },
            "type": "carpet"
           }
          ],
          "choropleth": [
           {
            "colorbar": {
             "outlinewidth": 0,
             "ticks": ""
            },
            "type": "choropleth"
           }
          ],
          "contour": [
           {
            "colorbar": {
             "outlinewidth": 0,
             "ticks": ""
            },
            "colorscale": [
             [
              0,
              "#0d0887"
             ],
             [
              0.1111111111111111,
              "#46039f"
             ],
             [
              0.2222222222222222,
              "#7201a8"
             ],
             [
              0.3333333333333333,
              "#9c179e"
             ],
             [
              0.4444444444444444,
              "#bd3786"
             ],
             [
              0.5555555555555556,
              "#d8576b"
             ],
             [
              0.6666666666666666,
              "#ed7953"
             ],
             [
              0.7777777777777778,
              "#fb9f3a"
             ],
             [
              0.8888888888888888,
              "#fdca26"
             ],
             [
              1,
              "#f0f921"
             ]
            ],
            "type": "contour"
           }
          ],
          "contourcarpet": [
           {
            "colorbar": {
             "outlinewidth": 0,
             "ticks": ""
            },
            "type": "contourcarpet"
           }
          ],
          "heatmap": [
           {
            "colorbar": {
             "outlinewidth": 0,
             "ticks": ""
            },
            "colorscale": [
             [
              0,
              "#0d0887"
             ],
             [
              0.1111111111111111,
              "#46039f"
             ],
             [
              0.2222222222222222,
              "#7201a8"
             ],
             [
              0.3333333333333333,
              "#9c179e"
             ],
             [
              0.4444444444444444,
              "#bd3786"
             ],
             [
              0.5555555555555556,
              "#d8576b"
             ],
             [
              0.6666666666666666,
              "#ed7953"
             ],
             [
              0.7777777777777778,
              "#fb9f3a"
             ],
             [
              0.8888888888888888,
              "#fdca26"
             ],
             [
              1,
              "#f0f921"
             ]
            ],
            "type": "heatmap"
           }
          ],
          "heatmapgl": [
           {
            "colorbar": {
             "outlinewidth": 0,
             "ticks": ""
            },
            "colorscale": [
             [
              0,
              "#0d0887"
             ],
             [
              0.1111111111111111,
              "#46039f"
             ],
             [
              0.2222222222222222,
              "#7201a8"
             ],
             [
              0.3333333333333333,
              "#9c179e"
             ],
             [
              0.4444444444444444,
              "#bd3786"
             ],
             [
              0.5555555555555556,
              "#d8576b"
             ],
             [
              0.6666666666666666,
              "#ed7953"
             ],
             [
              0.7777777777777778,
              "#fb9f3a"
             ],
             [
              0.8888888888888888,
              "#fdca26"
             ],
             [
              1,
              "#f0f921"
             ]
            ],
            "type": "heatmapgl"
           }
          ],
          "histogram": [
           {
            "marker": {
             "pattern": {
              "fillmode": "overlay",
              "size": 10,
              "solidity": 0.2
             }
            },
            "type": "histogram"
           }
          ],
          "histogram2d": [
           {
            "colorbar": {
             "outlinewidth": 0,
             "ticks": ""
            },
            "colorscale": [
             [
              0,
              "#0d0887"
             ],
             [
              0.1111111111111111,
              "#46039f"
             ],
             [
              0.2222222222222222,
              "#7201a8"
             ],
             [
              0.3333333333333333,
              "#9c179e"
             ],
             [
              0.4444444444444444,
              "#bd3786"
             ],
             [
              0.5555555555555556,
              "#d8576b"
             ],
             [
              0.6666666666666666,
              "#ed7953"
             ],
             [
              0.7777777777777778,
              "#fb9f3a"
             ],
             [
              0.8888888888888888,
              "#fdca26"
             ],
             [
              1,
              "#f0f921"
             ]
            ],
            "type": "histogram2d"
           }
          ],
          "histogram2dcontour": [
           {
            "colorbar": {
             "outlinewidth": 0,
             "ticks": ""
            },
            "colorscale": [
             [
              0,
              "#0d0887"
             ],
             [
              0.1111111111111111,
              "#46039f"
             ],
             [
              0.2222222222222222,
              "#7201a8"
             ],
             [
              0.3333333333333333,
              "#9c179e"
             ],
             [
              0.4444444444444444,
              "#bd3786"
             ],
             [
              0.5555555555555556,
              "#d8576b"
             ],
             [
              0.6666666666666666,
              "#ed7953"
             ],
             [
              0.7777777777777778,
              "#fb9f3a"
             ],
             [
              0.8888888888888888,
              "#fdca26"
             ],
             [
              1,
              "#f0f921"
             ]
            ],
            "type": "histogram2dcontour"
           }
          ],
          "mesh3d": [
           {
            "colorbar": {
             "outlinewidth": 0,
             "ticks": ""
            },
            "type": "mesh3d"
           }
          ],
          "parcoords": [
           {
            "line": {
             "colorbar": {
              "outlinewidth": 0,
              "ticks": ""
             }
            },
            "type": "parcoords"
           }
          ],
          "pie": [
           {
            "automargin": true,
            "type": "pie"
           }
          ],
          "scatter": [
           {
            "marker": {
             "line": {
              "color": "#283442"
             }
            },
            "type": "scatter"
           }
          ],
          "scatter3d": [
           {
            "line": {
             "colorbar": {
              "outlinewidth": 0,
              "ticks": ""
             }
            },
            "marker": {
             "colorbar": {
              "outlinewidth": 0,
              "ticks": ""
             }
            },
            "type": "scatter3d"
           }
          ],
          "scattercarpet": [
           {
            "marker": {
             "colorbar": {
              "outlinewidth": 0,
              "ticks": ""
             }
            },
            "type": "scattercarpet"
           }
          ],
          "scattergeo": [
           {
            "marker": {
             "colorbar": {
              "outlinewidth": 0,
              "ticks": ""
             }
            },
            "type": "scattergeo"
           }
          ],
          "scattergl": [
           {
            "marker": {
             "line": {
              "color": "#283442"
             }
            },
            "type": "scattergl"
           }
          ],
          "scattermapbox": [
           {
            "marker": {
             "colorbar": {
              "outlinewidth": 0,
              "ticks": ""
             }
            },
            "type": "scattermapbox"
           }
          ],
          "scatterpolar": [
           {
            "marker": {
             "colorbar": {
              "outlinewidth": 0,
              "ticks": ""
             }
            },
            "type": "scatterpolar"
           }
          ],
          "scatterpolargl": [
           {
            "marker": {
             "colorbar": {
              "outlinewidth": 0,
              "ticks": ""
             }
            },
            "type": "scatterpolargl"
           }
          ],
          "scatterternary": [
           {
            "marker": {
             "colorbar": {
              "outlinewidth": 0,
              "ticks": ""
             }
            },
            "type": "scatterternary"
           }
          ],
          "surface": [
           {
            "colorbar": {
             "outlinewidth": 0,
             "ticks": ""
            },
            "colorscale": [
             [
              0,
              "#0d0887"
             ],
             [
              0.1111111111111111,
              "#46039f"
             ],
             [
              0.2222222222222222,
              "#7201a8"
             ],
             [
              0.3333333333333333,
              "#9c179e"
             ],
             [
              0.4444444444444444,
              "#bd3786"
             ],
             [
              0.5555555555555556,
              "#d8576b"
             ],
             [
              0.6666666666666666,
              "#ed7953"
             ],
             [
              0.7777777777777778,
              "#fb9f3a"
             ],
             [
              0.8888888888888888,
              "#fdca26"
             ],
             [
              1,
              "#f0f921"
             ]
            ],
            "type": "surface"
           }
          ],
          "table": [
           {
            "cells": {
             "fill": {
              "color": "#506784"
             },
             "line": {
              "color": "rgb(17,17,17)"
             }
            },
            "header": {
             "fill": {
              "color": "#2a3f5f"
             },
             "line": {
              "color": "rgb(17,17,17)"
             }
            },
            "type": "table"
           }
          ]
         },
         "layout": {
          "annotationdefaults": {
           "arrowcolor": "#f2f5fa",
           "arrowhead": 0,
           "arrowwidth": 1
          },
          "autotypenumbers": "strict",
          "coloraxis": {
           "colorbar": {
            "outlinewidth": 0,
            "ticks": ""
           }
          },
          "colorscale": {
           "diverging": [
            [
             0,
             "#8e0152"
            ],
            [
             0.1,
             "#c51b7d"
            ],
            [
             0.2,
             "#de77ae"
            ],
            [
             0.3,
             "#f1b6da"
            ],
            [
             0.4,
             "#fde0ef"
            ],
            [
             0.5,
             "#f7f7f7"
            ],
            [
             0.6,
             "#e6f5d0"
            ],
            [
             0.7,
             "#b8e186"
            ],
            [
             0.8,
             "#7fbc41"
            ],
            [
             0.9,
             "#4d9221"
            ],
            [
             1,
             "#276419"
            ]
           ],
           "sequential": [
            [
             0,
             "#0d0887"
            ],
            [
             0.1111111111111111,
             "#46039f"
            ],
            [
             0.2222222222222222,
             "#7201a8"
            ],
            [
             0.3333333333333333,
             "#9c179e"
            ],
            [
             0.4444444444444444,
             "#bd3786"
            ],
            [
             0.5555555555555556,
             "#d8576b"
            ],
            [
             0.6666666666666666,
             "#ed7953"
            ],
            [
             0.7777777777777778,
             "#fb9f3a"
            ],
            [
             0.8888888888888888,
             "#fdca26"
            ],
            [
             1,
             "#f0f921"
            ]
           ],
           "sequentialminus": [
            [
             0,
             "#0d0887"
            ],
            [
             0.1111111111111111,
             "#46039f"
            ],
            [
             0.2222222222222222,
             "#7201a8"
            ],
            [
             0.3333333333333333,
             "#9c179e"
            ],
            [
             0.4444444444444444,
             "#bd3786"
            ],
            [
             0.5555555555555556,
             "#d8576b"
            ],
            [
             0.6666666666666666,
             "#ed7953"
            ],
            [
             0.7777777777777778,
             "#fb9f3a"
            ],
            [
             0.8888888888888888,
             "#fdca26"
            ],
            [
             1,
             "#f0f921"
            ]
           ]
          },
          "colorway": [
           "#636efa",
           "#EF553B",
           "#00cc96",
           "#ab63fa",
           "#FFA15A",
           "#19d3f3",
           "#FF6692",
           "#B6E880",
           "#FF97FF",
           "#FECB52"
          ],
          "font": {
           "color": "#f2f5fa"
          },
          "geo": {
           "bgcolor": "rgb(17,17,17)",
           "lakecolor": "rgb(17,17,17)",
           "landcolor": "rgb(17,17,17)",
           "showlakes": true,
           "showland": true,
           "subunitcolor": "#506784"
          },
          "hoverlabel": {
           "align": "left"
          },
          "hovermode": "closest",
          "mapbox": {
           "style": "dark"
          },
          "paper_bgcolor": "rgb(17,17,17)",
          "plot_bgcolor": "rgb(17,17,17)",
          "polar": {
           "angularaxis": {
            "gridcolor": "#506784",
            "linecolor": "#506784",
            "ticks": ""
           },
           "bgcolor": "rgb(17,17,17)",
           "radialaxis": {
            "gridcolor": "#506784",
            "linecolor": "#506784",
            "ticks": ""
           }
          },
          "scene": {
           "xaxis": {
            "backgroundcolor": "rgb(17,17,17)",
            "gridcolor": "#506784",
            "gridwidth": 2,
            "linecolor": "#506784",
            "showbackground": true,
            "ticks": "",
            "zerolinecolor": "#C8D4E3"
           },
           "yaxis": {
            "backgroundcolor": "rgb(17,17,17)",
            "gridcolor": "#506784",
            "gridwidth": 2,
            "linecolor": "#506784",
            "showbackground": true,
            "ticks": "",
            "zerolinecolor": "#C8D4E3"
           },
           "zaxis": {
            "backgroundcolor": "rgb(17,17,17)",
            "gridcolor": "#506784",
            "gridwidth": 2,
            "linecolor": "#506784",
            "showbackground": true,
            "ticks": "",
            "zerolinecolor": "#C8D4E3"
           }
          },
          "shapedefaults": {
           "line": {
            "color": "#f2f5fa"
           }
          },
          "sliderdefaults": {
           "bgcolor": "#C8D4E3",
           "bordercolor": "rgb(17,17,17)",
           "borderwidth": 1,
           "tickwidth": 0
          },
          "ternary": {
           "aaxis": {
            "gridcolor": "#506784",
            "linecolor": "#506784",
            "ticks": ""
           },
           "baxis": {
            "gridcolor": "#506784",
            "linecolor": "#506784",
            "ticks": ""
           },
           "bgcolor": "rgb(17,17,17)",
           "caxis": {
            "gridcolor": "#506784",
            "linecolor": "#506784",
            "ticks": ""
           }
          },
          "title": {
           "x": 0.05
          },
          "updatemenudefaults": {
           "bgcolor": "#506784",
           "borderwidth": 0
          },
          "xaxis": {
           "automargin": true,
           "gridcolor": "#283442",
           "linecolor": "#506784",
           "ticks": "",
           "title": {
            "standoff": 15
           },
           "zerolinecolor": "#283442",
           "zerolinewidth": 2
          },
          "yaxis": {
           "automargin": true,
           "gridcolor": "#283442",
           "linecolor": "#506784",
           "ticks": "",
           "title": {
            "standoff": 15
           },
           "zerolinecolor": "#283442",
           "zerolinewidth": 2
          }
         }
        },
        "title": {
         "text": "Candlestick Chart with Swing Highs and Lows"
        },
        "xaxis": {
         "nticks": 20,
         "rangeslider": {
          "visible": false
         },
         "showgrid": false,
         "type": "category"
        }
       }
      }
     },
     "metadata": {},
     "output_type": "display_data"
    }
   ],
   "source": [
    "fig = go.Figure(data=[go.Candlestick(x=df.index,\n",
    "                                     open=df['Open'],\n",
    "                                     high=df['High'],\n",
    "                                     low=df['Low'],\n",
    "                                     close=df['Close'],\n",
    "                                     name='Candlestick')])\n",
    "\n",
    "# Add trend markers (prioritize uptrend over downtrend)\n",
    "uptrend_markers = df[df['Trend'] == 'Uptrend']\n",
    "downtrend_markers = df[df['Trend'] == 'Downtrend']\n",
    "\n",
    "# Filter out downtrend markers that coincide with uptrend markers\n",
    "downtrend_markers_filtered = downtrend_markers[~downtrend_markers.index.isin(uptrend_markers.index)]\n",
    "\n",
    "fig.add_trace(go.Scatter(x=uptrend_markers.index, y=uptrend_markers['Low'] - 0.001 * uptrend_markers['Low'], mode='markers', name='Uptrend', marker=dict(symbol='triangle-up', color='blue', size=8)))\n",
    "fig.add_trace(go.Scatter(x=downtrend_markers_filtered.index, y=downtrend_markers_filtered['High'] + 0.001 * downtrend_markers_filtered['High'], mode='markers', name='Downtrend', marker=dict(symbol='triangle-down', color='orange', size=8)))\n",
    "\n",
    "# Update the layout for a clearer view\n",
    "fig.update_layout(title='Candlestick Chart with Swing Highs and Lows',\n",
    "                  height=600,\n",
    "                  template='plotly_dark',\n",
    "                  xaxis=dict(type='category', nticks=20, showgrid=False),\n",
    "                  xaxis_rangeslider_visible=False)\n",
    "\n",
    "# Show the figure\n",
    "fig.show()"
   ]
  },
  {
   "cell_type": "code",
   "execution_count": null,
   "metadata": {},
   "outputs": [],
   "source": [
    "# Split the values in the 'Trend' column into a list of trends and check if there is more than one trend in each row\n",
    "if (df['Trend'].str.split(',').apply(lambda x: len(x)) > 1).any():\n",
    "    print(\"There is more than one trend listed in at least one row of the 'Trend' column.\")\n",
    "else:\n",
    "    print(\"Each row of the 'Trend' column contains only one trend.\")\n"
   ]
  }
 ],
 "metadata": {
  "kernelspec": {
   "display_name": "venv",
   "language": "python",
   "name": "python3"
  },
  "language_info": {
   "codemirror_mode": {
    "name": "ipython",
    "version": 3
   },
   "file_extension": ".py",
   "mimetype": "text/x-python",
   "name": "python",
   "nbconvert_exporter": "python",
   "pygments_lexer": "ipython3",
   "version": "3.11.4"
  }
 },
 "nbformat": 4,
 "nbformat_minor": 2
}
