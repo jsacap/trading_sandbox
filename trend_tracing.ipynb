{
 "cells": [
  {
   "cell_type": "code",
   "execution_count": 8,
   "metadata": {},
   "outputs": [],
   "source": [
    "import plotly_express as px\n",
    "import pandas as pd\n",
    "import matplotlib.pyplot as plt\n",
    "import numpy as np\n",
    "\n",
    "import yfinance as yf\n",
    "from backtesting import Backtest, Strategy\n",
    "import pandas_ta as ta\n",
    "\n",
    "from backtesting.lib import crossover\n",
    "import math"
   ]
  },
  {
   "cell_type": "code",
   "execution_count": 2,
   "metadata": {},
   "outputs": [
    {
     "name": "stderr",
     "output_type": "stream",
     "text": [
      "[*********************100%%**********************]  1 of 1 completed\n"
     ]
    }
   ],
   "source": [
    "# If you want to check if the strategy is executing trades correctly, use this to validate the data that can be run with the backtest and can handle the plot.\n",
    "ticker = \"usdjpy=X\"\n",
    "data = yf.download(ticker, period=\"1y\", interval=\"1h\")\n"
   ]
  },
  {
   "cell_type": "code",
   "execution_count": null,
   "metadata": {},
   "outputs": [],
   "source": [
    "# , delimiter='\\t', names=['Open', 'High', 'Low', 'Close', 'Volume'], header=0"
   ]
  },
  {
   "cell_type": "code",
   "execution_count": 2,
   "metadata": {},
   "outputs": [],
   "source": [
    "# Darwinex spreadsheet\n",
    "df = pd.read_csv('../Data/Darwinex/GBPJPY60.csv', header=None, names=['Date', 'Time', 'Open', 'High', 'Low', 'Close', 'Volume'])\n",
    "df['DateTime'] = pd.to_datetime(df['Date'] + ' ' + df['Time'])\n",
    "df.set_index('DateTime', inplace=True)\n",
    "df.drop(columns=['Date', 'Time'], inplace=True)\n"
   ]
  },
  {
   "cell_type": "code",
   "execution_count": 5,
   "metadata": {},
   "outputs": [],
   "source": [
    "df = df.iloc[:10000]"
   ]
  },
  {
   "cell_type": "code",
   "execution_count": 10,
   "metadata": {},
   "outputs": [
    {
     "data": {
      "text/html": [
       "<div>\n",
       "<style scoped>\n",
       "    .dataframe tbody tr th:only-of-type {\n",
       "        vertical-align: middle;\n",
       "    }\n",
       "\n",
       "    .dataframe tbody tr th {\n",
       "        vertical-align: top;\n",
       "    }\n",
       "\n",
       "    .dataframe thead th {\n",
       "        text-align: right;\n",
       "    }\n",
       "</style>\n",
       "<table border=\"1\" class=\"dataframe\">\n",
       "  <thead>\n",
       "    <tr style=\"text-align: right;\">\n",
       "      <th></th>\n",
       "      <th>Open</th>\n",
       "      <th>High</th>\n",
       "      <th>Low</th>\n",
       "      <th>Close</th>\n",
       "      <th>Volume</th>\n",
       "      <th>Candle</th>\n",
       "    </tr>\n",
       "    <tr>\n",
       "      <th>DateTime</th>\n",
       "      <th></th>\n",
       "      <th></th>\n",
       "      <th></th>\n",
       "      <th></th>\n",
       "      <th></th>\n",
       "      <th></th>\n",
       "    </tr>\n",
       "  </thead>\n",
       "  <tbody>\n",
       "    <tr>\n",
       "      <th>2013-08-21 09:00:00</th>\n",
       "      <td>152.669</td>\n",
       "      <td>152.850</td>\n",
       "      <td>152.573</td>\n",
       "      <td>152.823</td>\n",
       "      <td>4543</td>\n",
       "      <td>Bull</td>\n",
       "    </tr>\n",
       "    <tr>\n",
       "      <th>2013-08-21 10:00:00</th>\n",
       "      <td>152.824</td>\n",
       "      <td>152.947</td>\n",
       "      <td>152.419</td>\n",
       "      <td>152.864</td>\n",
       "      <td>5086</td>\n",
       "      <td>Bull</td>\n",
       "    </tr>\n",
       "    <tr>\n",
       "      <th>2013-08-21 11:00:00</th>\n",
       "      <td>152.872</td>\n",
       "      <td>152.991</td>\n",
       "      <td>152.706</td>\n",
       "      <td>152.829</td>\n",
       "      <td>3732</td>\n",
       "      <td>Bear</td>\n",
       "    </tr>\n",
       "    <tr>\n",
       "      <th>2013-08-21 12:00:00</th>\n",
       "      <td>152.828</td>\n",
       "      <td>152.961</td>\n",
       "      <td>152.683</td>\n",
       "      <td>152.713</td>\n",
       "      <td>3534</td>\n",
       "      <td>Bear</td>\n",
       "    </tr>\n",
       "    <tr>\n",
       "      <th>2013-08-21 13:00:00</th>\n",
       "      <td>152.712</td>\n",
       "      <td>153.005</td>\n",
       "      <td>152.646</td>\n",
       "      <td>152.956</td>\n",
       "      <td>3639</td>\n",
       "      <td>Bull</td>\n",
       "    </tr>\n",
       "  </tbody>\n",
       "</table>\n",
       "</div>"
      ],
      "text/plain": [
       "                        Open     High      Low    Close  Volume Candle\n",
       "DateTime                                                              \n",
       "2013-08-21 09:00:00  152.669  152.850  152.573  152.823    4543   Bull\n",
       "2013-08-21 10:00:00  152.824  152.947  152.419  152.864    5086   Bull\n",
       "2013-08-21 11:00:00  152.872  152.991  152.706  152.829    3732   Bear\n",
       "2013-08-21 12:00:00  152.828  152.961  152.683  152.713    3534   Bear\n",
       "2013-08-21 13:00:00  152.712  153.005  152.646  152.956    3639   Bull"
      ]
     },
     "execution_count": 10,
     "metadata": {},
     "output_type": "execute_result"
    }
   ],
   "source": [
    "df.head()"
   ]
  },
  {
   "cell_type": "code",
   "execution_count": 9,
   "metadata": {},
   "outputs": [],
   "source": [
    "conditions = [\n",
    "    df.Close > df.Open,\n",
    "    df.Close < df.Open\n",
    "]\n",
    "\n",
    "choices = ['Bull', 'Bear']\n",
    "\n",
    "df['Candle'] = np.select(conditions, choices, default='Doji')"
   ]
  },
  {
   "cell_type": "code",
   "execution_count": 11,
   "metadata": {},
   "outputs": [],
   "source": [
    "hh = float('-inf')\n",
    "hl = float('-inf')\n",
    "\n",
    "lh = float('inf')\n",
    "ll = float('inf')\n",
    "\n",
    "current_open = df.Open.iloc[-1]\n",
    "current_high = df.High.iloc[-1]\n",
    "current_low = df.Low.iloc[-1]\n",
    "current_close = df.Close.iloc[-1]\n",
    "\n",
    "previous_open = df.Open.iloc[-2]\n",
    "previous_high = df.High.iloc[-2]\n",
    "previous_low = df.Low.iloc[-2]\n",
    "previous_close = df.Close.iloc[-2]"
   ]
  },
  {
   "cell_type": "code",
   "execution_count": 12,
   "metadata": {},
   "outputs": [
    {
     "data": {
      "text/plain": [
       "152.952"
      ]
     },
     "execution_count": 12,
     "metadata": {},
     "output_type": "execute_result"
    }
   ],
   "source": [
    "df.Close.iloc[5]"
   ]
  },
  {
   "cell_type": "code",
   "execution_count": null,
   "metadata": {},
   "outputs": [],
   "source": [
    "# Uptrend tracer \n",
    "\n",
    "if df"
   ]
  }
 ],
 "metadata": {
  "kernelspec": {
   "display_name": "venv",
   "language": "python",
   "name": "python3"
  },
  "language_info": {
   "codemirror_mode": {
    "name": "ipython",
    "version": 3
   },
   "file_extension": ".py",
   "mimetype": "text/x-python",
   "name": "python",
   "nbconvert_exporter": "python",
   "pygments_lexer": "ipython3",
   "version": "3.11.4"
  }
 },
 "nbformat": 4,
 "nbformat_minor": 2
}
