{
 "cells": [
  {
   "cell_type": "code",
   "execution_count": null,
   "metadata": {},
   "outputs": [],
   "source": [
    "import pandas as pd\n",
    "import numpy as np\n",
    "import plotly.graph_objects as go\n",
    "from IPython.display import display\n",
    "import matplotlib.pyplot as plt\n",
    "import requests\n",
    "import defs"
   ]
  },
  {
   "cell_type": "code",
   "execution_count": null,
   "metadata": {},
   "outputs": [],
   "source": [
    "df.dtypes"
   ]
  },
  {
   "cell_type": "code",
   "execution_count": null,
   "metadata": {},
   "outputs": [],
   "source": [
    "session = requests.Session()\n",
    "\n",
    "asset = 'AUD_USD'\n",
    "url = f'{defs.OANDA_URL}/instruments/{asset}/candles'\n",
    "params = {\n",
    "    'count': 60,\n",
    "    'granularity': 'H1',\n",
    "    'price': 'M'\n",
    "}\n",
    "\n",
    "response = session.get(url, params=params, headers=defs.SECURE_HEADER)\n",
    "data = response.json()\n",
    "my_data = []\n",
    "\n",
    "for candle in data['candles']:\n",
    "    if not candle['complete']:\n",
    "        continue\n",
    "    \n",
    "    ohlc_data = {\n",
    "        'time': candle['time'],\n",
    "        'open': candle['mid']['o'],\n",
    "        'high': candle['mid']['h'],\n",
    "        'low': candle['mid']['l'],\n",
    "        'close': candle['mid']['c'],\n",
    "        'volume': candle['volume']        \n",
    "    }\n",
    "    my_data.append(ohlc_data)\n",
    "    \n",
    "df = pd.DataFrame(my_data)\n",
    "df['time'] = pd.to_datetime(df['time'])\n",
    "df.set_index('time', inplace=True)\n",
    "df.columns = ['Open', 'High', 'Low', 'Close', 'Volume']\n",
    "df[['Open', 'High', 'Low', 'Close']] = df[['Open', 'High', 'Low', 'Close']].apply(pd.to_numeric)"
   ]
  },
  {
   "cell_type": "code",
   "execution_count": null,
   "metadata": {},
   "outputs": [],
   "source": [
    "\n",
    "\n",
    "# For other spreadsheet use this in reading csv\n",
    "# , delimiter='\\t', names=['Open', 'High', 'Low', 'Close', 'Volume'], header=0\n",
    "\n",
    "# Darwinex spreadsheet\n",
    "df = pd.read_csv('../Data/Darwinex/AUDUSD60.csv', header=None,\n",
    "                 names=['Date', 'Time', 'Open', 'High', 'Low', 'Close', 'Volume'])\n",
    "df['DateTime'] = pd.to_datetime(df['Date'] + ' ' + df['Time'])\n",
    "df.set_index('DateTime', inplace=True)\n",
    "df.drop(columns=['Date', 'Time'], inplace=True)\n"
   ]
  },
  {
   "cell_type": "code",
   "execution_count": null,
   "metadata": {},
   "outputs": [],
   "source": [
    "df.dtypes"
   ]
  },
  {
   "cell_type": "code",
   "execution_count": 26,
   "metadata": {},
   "outputs": [],
   "source": [
    "\n",
    "\n",
    "# Init\n",
    "conditions = [\n",
    "    df.Close > df.Open,\n",
    "    df.Close < df.Open\n",
    "]\n",
    "\n",
    "choices = ['Bull', 'Bear']\n",
    "\n",
    "df['Candle'] = np.select(conditions, choices, default='Doji')\n",
    "df['Swing_Low'] = df['Low'].iloc[0]\n",
    "df['Swing_High'] = df['High'].iloc[0]\n",
    "\n",
    "df['Trend'] = 'Neutral'\n",
    "df['Bar_Number'] = None\n",
    "\n",
    "higher_high = None\n",
    "lower_low = None\n",
    "\n",
    "bullish_pullback_count = 0\n",
    "bearish_pullback_count = 0\n",
    "bullish_pullback = False\n",
    "bearish_pullback = False\n",
    "\n",
    "swing_high = None\n",
    "swing_low = None\n",
    "\n",
    "uptrend_lowest_pullback = None\n",
    "downtrend_highest_pullback = None\n",
    "\n",
    "previous_high = df['High'].iloc[0]\n",
    "previous_low = df['Low'].iloc[0]\n",
    "\n",
    "current_trend = 'Neutral'\n",
    "df.at[0, 'Trend'] = current_trend\n",
    "\n",
    "df['Price_Status'] = None\n",
    "price_status = None\n",
    "\n",
    "\n",
    "fig = go.Figure()\n",
    "bar_number = 0\n",
    "# Itterating logic starts"
   ]
  },
  {
   "cell_type": "code",
   "execution_count": 27,
   "metadata": {},
   "outputs": [],
   "source": [
    "\n",
    "for i, row in df.iloc[1:].iterrows():\n",
    "    bar_number += 1\n",
    "    df.at[i, 'Bar_Number'] = bar_number\n",
    "    current_high = row['High']\n",
    "    current_low = row['Low']\n",
    "    candle_type = row['Candle']\n",
    "    current_close = row['Close']\n",
    "\n",
    "    # clear_output()\n",
    "    # Trend rotation\n",
    "    if current_trend == \"Neutral\":\n",
    "        if swing_low is None and swing_high is None:\n",
    "            swing_high = current_high\n",
    "            swing_low = current_low\n",
    "            higher_high = current_high\n",
    "            lower_low = current_low\n",
    "\n",
    "    if current_close > swing_high and current_close > higher_high:\n",
    "        current_trend = 'Uptrend'\n",
    "        bullish_pullback_count = 0\n",
    "        bullish_pullback = False\n",
    "        bearish_pullback_count = 0\n",
    "        bearish_pullback = False\n",
    "        if uptrend_lowest_pullback is not None:\n",
    "            swing_low = uptrend_lowest_pullback\n",
    "    elif current_close < swing_low and current_low < lower_low:\n",
    "        current_trend = 'Downtrend'\n",
    "        bearish_pullback_count = 0\n",
    "        bearish_pullback = False\n",
    "        bullish_pullback_count = 0\n",
    "        bullish_pullback = False\n",
    "        if downtrend_highest_pullback is not None:\n",
    "            swing_high = downtrend_highest_pullback\n",
    "    # Finding the range in the beginning of the dataset\n",
    "\n",
    "    df.at[i, 'Trend'] = current_trend\n",
    "\n",
    "    if bullish_pullback or bearish_pullback:\n",
    "        price_status = 'Consolidation'\n",
    "    else:\n",
    "        price_status = 'Extension'\n",
    "\n",
    "    df.at[i, 'Price_Status'] = price_status\n",
    "    # ================================================================================================== #\n",
    "\n",
    "    if current_trend == 'Uptrend':\n",
    "        if current_high > previous_high and current_low > swing_high and not bullish_pullback:\n",
    "            if higher_high is not None:\n",
    "                higher_high = max(higher_high, current_high)\n",
    "            else:\n",
    "                higher_high = current_high\n",
    "        if current_close < higher_high and candle_type == 'Bear':\n",
    "            bullish_pullback_count += 1\n",
    "        if bullish_pullback_count >= 2:\n",
    "            bullish_pullback = True\n",
    "            swing_high = higher_high\n",
    "\n",
    "        if bullish_pullback and current_close > swing_low:\n",
    "            if current_low < previous_low:\n",
    "                uptrend_lowest_pullback = current_low\n",
    "\n",
    "    elif current_trend == 'Downtrend':\n",
    "        if current_low < previous_low and current_low < swing_low and not bearish_pullback:\n",
    "            if lower_low is not None:\n",
    "                lower_low = min(lower_low, current_low)\n",
    "            else:\n",
    "                lower_low = current_low\n",
    "        if current_close > lower_low and candle_type == 'Bull':\n",
    "            bearish_pullback_count += 1\n",
    "        if bearish_pullback_count >= 2:\n",
    "            bearish_pullback = True\n",
    "            swing_low = lower_low\n",
    "\n",
    "        if bearish_pullback and current_close < swing_high:\n",
    "            if current_high > previous_high:\n",
    "                downtrend_highest_pullback = current_high\n",
    "\n",
    "    df.at[i, 'Swing_High'] = swing_high\n",
    "    df.at[i, 'Swing_Low'] = swing_low\n",
    "    previous_low = current_low\n",
    "    previous_high = current_high"
   ]
  },
  {
   "cell_type": "code",
   "execution_count": 29,
   "metadata": {},
   "outputs": [
    {
     "data": {
      "text/plain": [
       "'Downtrend'"
      ]
     },
     "execution_count": 29,
     "metadata": {},
     "output_type": "execute_result"
    }
   ],
   "source": [
    "df['Trend'].iloc[-1]"
   ]
  },
  {
   "cell_type": "code",
   "execution_count": 28,
   "metadata": {},
   "outputs": [
    {
     "data": {
      "application/vnd.plotly.v1+json": {
       "config": {
        "plotlyServerURL": "https://plot.ly"
       },
       "data": [
        {
         "close": [
          0.66156,
          0.66156,
          0.66166,
          0.66146,
          0.66122,
          0.6596,
          0.65968,
          0.65998,
          0.65977,
          0.65989,
          0.66034,
          0.66052,
          0.6606,
          0.66066,
          0.66072,
          0.66074,
          0.66045,
          0.6603,
          0.66115,
          0.66134,
          0.66134,
          0.66157,
          0.66116,
          0.66143,
          0.66103,
          0.66073,
          0.66093,
          0.66128,
          0.66106,
          0.66154,
          0.66198,
          0.66222,
          0.66238,
          0.66312,
          0.66252,
          0.66208,
          0.66216,
          0.66221,
          0.66215,
          0.66275,
          0.6625,
          0.663,
          0.66144,
          0.66129,
          0.66154,
          0.66158,
          0.66174,
          0.66194,
          0.66187,
          0.66244,
          0.66228,
          0.6624,
          0.66136,
          0.66004,
          0.65866,
          0.65836,
          0.65845,
          0.65834,
          0.65819,
          null
         ],
         "high": [
          0.66189,
          0.66204,
          0.66172,
          0.66206,
          0.6639,
          0.66124,
          0.66008,
          0.66018,
          0.65999,
          0.66011,
          0.66042,
          0.66056,
          0.66078,
          0.66066,
          0.6609,
          0.66088,
          0.66118,
          0.66077,
          0.66118,
          0.66166,
          0.6616,
          0.66172,
          0.66184,
          0.66158,
          0.66166,
          0.66108,
          0.66106,
          0.66154,
          0.66153,
          0.66196,
          0.66244,
          0.66244,
          0.66253,
          0.66351,
          0.66318,
          0.66258,
          0.66228,
          0.66264,
          0.66242,
          0.66284,
          0.66318,
          0.66301,
          0.66308,
          0.6617,
          0.66174,
          0.6618,
          0.6619,
          0.66208,
          0.66238,
          0.6625,
          0.66264,
          0.66285,
          0.66298,
          0.66162,
          0.66016,
          0.65878,
          0.65904,
          0.65856,
          0.65854,
          null
         ],
         "hoverinfo": "x+y+text",
         "low": [
          0.66124,
          0.6611,
          0.66127,
          0.66127,
          0.65864,
          0.65844,
          0.65872,
          0.65909,
          0.65948,
          0.65916,
          0.65974,
          0.6602,
          0.66049,
          0.66032,
          0.66046,
          0.66062,
          0.66034,
          0.66003,
          0.66032,
          0.661,
          0.66116,
          0.66093,
          0.6609,
          0.66071,
          0.66092,
          0.66037,
          0.66037,
          0.66088,
          0.66066,
          0.66106,
          0.66122,
          0.6618,
          0.66196,
          0.66232,
          0.66252,
          0.66204,
          0.66208,
          0.6619,
          0.66212,
          0.66214,
          0.66214,
          0.66241,
          0.66136,
          0.66108,
          0.66097,
          0.66121,
          0.66126,
          0.66128,
          0.66168,
          0.6618,
          0.66212,
          0.66224,
          0.66085,
          0.65964,
          0.6584,
          0.65695,
          0.65802,
          0.65781,
          0.65794,
          null
         ],
         "name": "Candlestick",
         "open": [
          0.66189,
          0.66152,
          0.66152,
          0.66162,
          0.66144,
          0.66124,
          0.65962,
          0.65972,
          0.65998,
          0.65978,
          0.65988,
          0.66034,
          0.6605,
          0.66052,
          0.66067,
          0.66072,
          0.66074,
          0.66043,
          0.66035,
          0.66116,
          0.66135,
          0.66132,
          0.66156,
          0.66116,
          0.66144,
          0.66098,
          0.66068,
          0.66094,
          0.66129,
          0.66108,
          0.66152,
          0.66194,
          0.66218,
          0.66238,
          0.6631,
          0.66252,
          0.66212,
          0.66218,
          0.66226,
          0.66214,
          0.66275,
          0.6625,
          0.663,
          0.66147,
          0.66132,
          0.6615,
          0.66161,
          0.66172,
          0.66194,
          0.66188,
          0.66245,
          0.66228,
          0.66242,
          0.66138,
          0.66001,
          0.65866,
          0.6584,
          0.65844,
          0.65836,
          null
         ],
         "text": [
          "None<br>Swing High: 0.66189<br>Swing Low: 0.66124",
          "1<br>Swing High: 0.66204<br>Swing Low: 0.6611",
          "2<br>Swing High: 0.66204<br>Swing Low: 0.6611",
          "3<br>Swing High: 0.66204<br>Swing Low: 0.6611",
          "4<br>Swing High: 0.66204<br>Swing Low: 0.6611",
          "5<br>Swing High: 0.66204<br>Swing Low: 0.6611",
          "6<br>Swing High: 0.66204<br>Swing Low: 0.6611",
          "7<br>Swing High: 0.66204<br>Swing Low: 0.65844",
          "8<br>Swing High: 0.66204<br>Swing Low: 0.65844",
          "9<br>Swing High: 0.66204<br>Swing Low: 0.65844",
          "10<br>Swing High: 0.66204<br>Swing Low: 0.65844",
          "11<br>Swing High: 0.66204<br>Swing Low: 0.65844",
          "12<br>Swing High: 0.66204<br>Swing Low: 0.65844",
          "13<br>Swing High: 0.66204<br>Swing Low: 0.65844",
          "14<br>Swing High: 0.66204<br>Swing Low: 0.65844",
          "15<br>Swing High: 0.66204<br>Swing Low: 0.65844",
          "16<br>Swing High: 0.66204<br>Swing Low: 0.65844",
          "17<br>Swing High: 0.66204<br>Swing Low: 0.65844",
          "18<br>Swing High: 0.66204<br>Swing Low: 0.65844",
          "19<br>Swing High: 0.66204<br>Swing Low: 0.65844",
          "20<br>Swing High: 0.66204<br>Swing Low: 0.65844",
          "21<br>Swing High: 0.66204<br>Swing Low: 0.65844",
          "22<br>Swing High: 0.66204<br>Swing Low: 0.65844",
          "23<br>Swing High: 0.66204<br>Swing Low: 0.65844",
          "24<br>Swing High: 0.66204<br>Swing Low: 0.65844",
          "25<br>Swing High: 0.66204<br>Swing Low: 0.65844",
          "26<br>Swing High: 0.66204<br>Swing Low: 0.65844",
          "27<br>Swing High: 0.66204<br>Swing Low: 0.65844",
          "28<br>Swing High: 0.66204<br>Swing Low: 0.65844",
          "29<br>Swing High: 0.66204<br>Swing Low: 0.65844",
          "30<br>Swing High: 0.66204<br>Swing Low: 0.65844",
          "31<br>Swing High: 0.66204<br>Swing Low: 0.65844",
          "32<br>Swing High: 0.66204<br>Swing Low: 0.65844",
          "33<br>Swing High: 0.66204<br>Swing Low: 0.65844",
          "34<br>Swing High: 0.66204<br>Swing Low: 0.65844",
          "35<br>Swing High: 0.66351<br>Swing Low: 0.65844",
          "36<br>Swing High: 0.66351<br>Swing Low: 0.65844",
          "37<br>Swing High: 0.66351<br>Swing Low: 0.65844",
          "38<br>Swing High: 0.66351<br>Swing Low: 0.65844",
          "39<br>Swing High: 0.66351<br>Swing Low: 0.65844",
          "40<br>Swing High: 0.66351<br>Swing Low: 0.65844",
          "41<br>Swing High: 0.66351<br>Swing Low: 0.65844",
          "42<br>Swing High: 0.66351<br>Swing Low: 0.65844",
          "43<br>Swing High: 0.66351<br>Swing Low: 0.65844",
          "44<br>Swing High: 0.66351<br>Swing Low: 0.65844",
          "45<br>Swing High: 0.66351<br>Swing Low: 0.65844",
          "46<br>Swing High: 0.66351<br>Swing Low: 0.65844",
          "47<br>Swing High: 0.66351<br>Swing Low: 0.65844",
          "48<br>Swing High: 0.66351<br>Swing Low: 0.65844",
          "49<br>Swing High: 0.66351<br>Swing Low: 0.65844",
          "50<br>Swing High: 0.66351<br>Swing Low: 0.65844",
          "51<br>Swing High: 0.66351<br>Swing Low: 0.65844",
          "52<br>Swing High: 0.66351<br>Swing Low: 0.65844",
          "53<br>Swing High: 0.66351<br>Swing Low: 0.65844",
          "54<br>Swing High: 0.66351<br>Swing Low: 0.65844",
          "55<br>Swing High: 0.66244<br>Swing Low: 0.65844",
          "56<br>Swing High: 0.66244<br>Swing Low: 0.65844",
          "57<br>Swing High: 0.66244<br>Swing Low: 0.65844",
          "58<br>Swing High: 0.66244<br>Swing Low: 0.65844",
          "59<br>Swing High: 0.66244<br>Swing Low: 0.65844"
         ],
         "type": "candlestick",
         "x": [
          "2024-03-12T08:00:00+00:00",
          "2024-03-12T09:00:00+00:00",
          "2024-03-12T10:00:00+00:00",
          "2024-03-12T11:00:00+00:00",
          "2024-03-12T12:00:00+00:00",
          "2024-03-12T13:00:00+00:00",
          "2024-03-12T14:00:00+00:00",
          "2024-03-12T15:00:00+00:00",
          "2024-03-12T16:00:00+00:00",
          "2024-03-12T17:00:00+00:00",
          "2024-03-12T18:00:00+00:00",
          "2024-03-12T19:00:00+00:00",
          "2024-03-12T20:00:00+00:00",
          "2024-03-12T21:00:00+00:00",
          "2024-03-12T22:00:00+00:00",
          "2024-03-12T23:00:00+00:00",
          "2024-03-13T00:00:00+00:00",
          "2024-03-13T01:00:00+00:00",
          "2024-03-13T02:00:00+00:00",
          "2024-03-13T03:00:00+00:00",
          "2024-03-13T04:00:00+00:00",
          "2024-03-13T05:00:00+00:00",
          "2024-03-13T06:00:00+00:00",
          "2024-03-13T07:00:00+00:00",
          "2024-03-13T08:00:00+00:00",
          "2024-03-13T09:00:00+00:00",
          "2024-03-13T10:00:00+00:00",
          "2024-03-13T11:00:00+00:00",
          "2024-03-13T12:00:00+00:00",
          "2024-03-13T13:00:00+00:00",
          "2024-03-13T14:00:00+00:00",
          "2024-03-13T15:00:00+00:00",
          "2024-03-13T16:00:00+00:00",
          "2024-03-13T17:00:00+00:00",
          "2024-03-13T18:00:00+00:00",
          "2024-03-13T19:00:00+00:00",
          "2024-03-13T20:00:00+00:00",
          "2024-03-13T21:00:00+00:00",
          "2024-03-13T22:00:00+00:00",
          "2024-03-13T23:00:00+00:00",
          "2024-03-14T00:00:00+00:00",
          "2024-03-14T01:00:00+00:00",
          "2024-03-14T02:00:00+00:00",
          "2024-03-14T03:00:00+00:00",
          "2024-03-14T04:00:00+00:00",
          "2024-03-14T05:00:00+00:00",
          "2024-03-14T06:00:00+00:00",
          "2024-03-14T07:00:00+00:00",
          "2024-03-14T08:00:00+00:00",
          "2024-03-14T09:00:00+00:00",
          "2024-03-14T10:00:00+00:00",
          "2024-03-14T11:00:00+00:00",
          "2024-03-14T12:00:00+00:00",
          "2024-03-14T13:00:00+00:00",
          "2024-03-14T14:00:00+00:00",
          "2024-03-14T15:00:00+00:00",
          "2024-03-14T16:00:00+00:00",
          "2024-03-14T17:00:00+00:00",
          "2024-03-14T18:00:00+00:00",
          0
         ]
        },
        {
         "marker": {
          "color": "blue",
          "size": 8,
          "symbol": "triangle-up"
         },
         "mode": "markers",
         "name": "Uptrend",
         "type": "scatter",
         "x": [
          "2024-03-13T15:00:00+00:00",
          "2024-03-13T16:00:00+00:00",
          "2024-03-13T17:00:00+00:00",
          "2024-03-13T18:00:00+00:00",
          "2024-03-13T19:00:00+00:00",
          "2024-03-13T20:00:00+00:00",
          "2024-03-13T21:00:00+00:00",
          "2024-03-13T22:00:00+00:00",
          "2024-03-13T23:00:00+00:00",
          "2024-03-14T00:00:00+00:00",
          "2024-03-14T01:00:00+00:00",
          "2024-03-14T02:00:00+00:00",
          "2024-03-14T03:00:00+00:00",
          "2024-03-14T04:00:00+00:00",
          "2024-03-14T05:00:00+00:00",
          "2024-03-14T06:00:00+00:00",
          "2024-03-14T07:00:00+00:00",
          "2024-03-14T08:00:00+00:00",
          "2024-03-14T09:00:00+00:00",
          "2024-03-14T10:00:00+00:00",
          "2024-03-14T11:00:00+00:00",
          "2024-03-14T12:00:00+00:00",
          "2024-03-14T13:00:00+00:00",
          "2024-03-14T14:00:00+00:00"
         ],
         "y": [
          0.6611382,
          0.66129804,
          0.66165768,
          0.66185748,
          0.6613779599999999,
          0.66141792,
          0.6612381,
          0.66145788,
          0.66147786,
          0.66147786,
          0.66174759,
          0.6606986399999999,
          0.66041892,
          0.66030903,
          0.66054879,
          0.66059874,
          0.66061872,
          0.66101832,
          0.6611382,
          0.66145788,
          0.66157776,
          0.66018915,
          0.65898036,
          0.6577416
         ]
        },
        {
         "marker": {
          "color": "orange",
          "size": 8,
          "symbol": "triangle-down"
         },
         "mode": "markers",
         "name": "Downtrend",
         "type": "scatter",
         "x": [
          "2024-03-12T13:00:00+00:00",
          "2024-03-12T14:00:00+00:00",
          "2024-03-12T15:00:00+00:00",
          "2024-03-12T16:00:00+00:00",
          "2024-03-12T17:00:00+00:00",
          "2024-03-12T18:00:00+00:00",
          "2024-03-12T19:00:00+00:00",
          "2024-03-12T20:00:00+00:00",
          "2024-03-12T21:00:00+00:00",
          "2024-03-12T22:00:00+00:00",
          "2024-03-12T23:00:00+00:00",
          "2024-03-13T00:00:00+00:00",
          "2024-03-13T01:00:00+00:00",
          "2024-03-13T02:00:00+00:00",
          "2024-03-13T03:00:00+00:00",
          "2024-03-13T04:00:00+00:00",
          "2024-03-13T05:00:00+00:00",
          "2024-03-13T06:00:00+00:00",
          "2024-03-13T07:00:00+00:00",
          "2024-03-13T08:00:00+00:00",
          "2024-03-13T09:00:00+00:00",
          "2024-03-13T10:00:00+00:00",
          "2024-03-13T11:00:00+00:00",
          "2024-03-13T12:00:00+00:00",
          "2024-03-13T13:00:00+00:00",
          "2024-03-13T14:00:00+00:00",
          "2024-03-14T15:00:00+00:00",
          "2024-03-14T16:00:00+00:00",
          "2024-03-14T17:00:00+00:00",
          "2024-03-14T18:00:00+00:00",
          0
         ],
         "y": [
          0.6619012400000001,
          0.66074008,
          0.66084018,
          0.66064999,
          0.66077011,
          0.66108042,
          0.6612205600000001,
          0.6614407800000001,
          0.66132066,
          0.6615609,
          0.66154088,
          0.66184118,
          0.66143077,
          0.66184118,
          0.66232166,
          0.6622616,
          0.66238172,
          0.66250184,
          0.66224158,
          0.66232166,
          0.66174108,
          0.66172106,
          0.66220154,
          0.66219153,
          0.66262196,
          0.6631024400000001,
          0.65943878,
          0.65969904,
          0.65921856,
          0.65919854,
          null
         ]
        },
        {
         "marker": {
          "color": "green",
          "size": 14,
          "symbol": "circle"
         },
         "mode": "markers",
         "name": "Swing High",
         "showlegend": false,
         "type": "scatter",
         "x": [
          "2024-03-12T08:00:00+00:00",
          "2024-03-12T09:00:00+00:00",
          "2024-03-12T10:00:00+00:00",
          "2024-03-12T11:00:00+00:00",
          "2024-03-12T12:00:00+00:00",
          "2024-03-12T13:00:00+00:00",
          "2024-03-12T14:00:00+00:00",
          "2024-03-12T15:00:00+00:00",
          "2024-03-12T16:00:00+00:00",
          "2024-03-12T17:00:00+00:00",
          "2024-03-12T18:00:00+00:00",
          "2024-03-12T19:00:00+00:00",
          "2024-03-12T20:00:00+00:00",
          "2024-03-12T21:00:00+00:00",
          "2024-03-12T22:00:00+00:00",
          "2024-03-12T23:00:00+00:00",
          "2024-03-13T00:00:00+00:00",
          "2024-03-13T01:00:00+00:00",
          "2024-03-13T02:00:00+00:00",
          "2024-03-13T03:00:00+00:00",
          "2024-03-13T04:00:00+00:00",
          "2024-03-13T05:00:00+00:00",
          "2024-03-13T06:00:00+00:00",
          "2024-03-13T07:00:00+00:00",
          "2024-03-13T08:00:00+00:00",
          "2024-03-13T09:00:00+00:00",
          "2024-03-13T10:00:00+00:00",
          "2024-03-13T11:00:00+00:00",
          "2024-03-13T12:00:00+00:00",
          "2024-03-13T13:00:00+00:00",
          "2024-03-13T14:00:00+00:00",
          "2024-03-13T15:00:00+00:00",
          "2024-03-13T16:00:00+00:00",
          "2024-03-13T17:00:00+00:00",
          "2024-03-13T18:00:00+00:00",
          "2024-03-13T19:00:00+00:00",
          "2024-03-13T20:00:00+00:00",
          "2024-03-13T21:00:00+00:00",
          "2024-03-13T22:00:00+00:00",
          "2024-03-13T23:00:00+00:00",
          "2024-03-14T00:00:00+00:00",
          "2024-03-14T01:00:00+00:00",
          "2024-03-14T02:00:00+00:00",
          "2024-03-14T03:00:00+00:00",
          "2024-03-14T04:00:00+00:00",
          "2024-03-14T05:00:00+00:00",
          "2024-03-14T06:00:00+00:00",
          "2024-03-14T07:00:00+00:00",
          "2024-03-14T08:00:00+00:00",
          "2024-03-14T09:00:00+00:00",
          "2024-03-14T10:00:00+00:00",
          "2024-03-14T11:00:00+00:00",
          "2024-03-14T12:00:00+00:00",
          "2024-03-14T13:00:00+00:00",
          "2024-03-14T14:00:00+00:00",
          "2024-03-14T15:00:00+00:00",
          "2024-03-14T16:00:00+00:00",
          "2024-03-14T17:00:00+00:00",
          "2024-03-14T18:00:00+00:00",
          0
         ],
         "y": [
          0.66189,
          0.66204,
          0.66204,
          0.66204,
          0.66204,
          0.66204,
          0.66204,
          0.66204,
          0.66204,
          0.66204,
          0.66204,
          0.66204,
          0.66204,
          0.66204,
          0.66204,
          0.66204,
          0.66204,
          0.66204,
          0.66204,
          0.66204,
          0.66204,
          0.66204,
          0.66204,
          0.66204,
          0.66204,
          0.66204,
          0.66204,
          0.66204,
          0.66204,
          0.66204,
          0.66204,
          0.66204,
          0.66204,
          0.66204,
          0.66204,
          0.66351,
          0.66351,
          0.66351,
          0.66351,
          0.66351,
          0.66351,
          0.66351,
          0.66351,
          0.66351,
          0.66351,
          0.66351,
          0.66351,
          0.66351,
          0.66351,
          0.66351,
          0.66351,
          0.66351,
          0.66351,
          0.66351,
          0.66351,
          0.66244,
          0.66244,
          0.66244,
          0.66244,
          0.66244
         ]
        },
        {
         "marker": {
          "color": "red",
          "size": 14,
          "symbol": "circle"
         },
         "mode": "markers",
         "name": "Swing Low",
         "showlegend": false,
         "type": "scatter",
         "x": [
          "2024-03-12T08:00:00+00:00",
          "2024-03-12T09:00:00+00:00",
          "2024-03-12T10:00:00+00:00",
          "2024-03-12T11:00:00+00:00",
          "2024-03-12T12:00:00+00:00",
          "2024-03-12T13:00:00+00:00",
          "2024-03-12T14:00:00+00:00",
          "2024-03-12T15:00:00+00:00",
          "2024-03-12T16:00:00+00:00",
          "2024-03-12T17:00:00+00:00",
          "2024-03-12T18:00:00+00:00",
          "2024-03-12T19:00:00+00:00",
          "2024-03-12T20:00:00+00:00",
          "2024-03-12T21:00:00+00:00",
          "2024-03-12T22:00:00+00:00",
          "2024-03-12T23:00:00+00:00",
          "2024-03-13T00:00:00+00:00",
          "2024-03-13T01:00:00+00:00",
          "2024-03-13T02:00:00+00:00",
          "2024-03-13T03:00:00+00:00",
          "2024-03-13T04:00:00+00:00",
          "2024-03-13T05:00:00+00:00",
          "2024-03-13T06:00:00+00:00",
          "2024-03-13T07:00:00+00:00",
          "2024-03-13T08:00:00+00:00",
          "2024-03-13T09:00:00+00:00",
          "2024-03-13T10:00:00+00:00",
          "2024-03-13T11:00:00+00:00",
          "2024-03-13T12:00:00+00:00",
          "2024-03-13T13:00:00+00:00",
          "2024-03-13T14:00:00+00:00",
          "2024-03-13T15:00:00+00:00",
          "2024-03-13T16:00:00+00:00",
          "2024-03-13T17:00:00+00:00",
          "2024-03-13T18:00:00+00:00",
          "2024-03-13T19:00:00+00:00",
          "2024-03-13T20:00:00+00:00",
          "2024-03-13T21:00:00+00:00",
          "2024-03-13T22:00:00+00:00",
          "2024-03-13T23:00:00+00:00",
          "2024-03-14T00:00:00+00:00",
          "2024-03-14T01:00:00+00:00",
          "2024-03-14T02:00:00+00:00",
          "2024-03-14T03:00:00+00:00",
          "2024-03-14T04:00:00+00:00",
          "2024-03-14T05:00:00+00:00",
          "2024-03-14T06:00:00+00:00",
          "2024-03-14T07:00:00+00:00",
          "2024-03-14T08:00:00+00:00",
          "2024-03-14T09:00:00+00:00",
          "2024-03-14T10:00:00+00:00",
          "2024-03-14T11:00:00+00:00",
          "2024-03-14T12:00:00+00:00",
          "2024-03-14T13:00:00+00:00",
          "2024-03-14T14:00:00+00:00",
          "2024-03-14T15:00:00+00:00",
          "2024-03-14T16:00:00+00:00",
          "2024-03-14T17:00:00+00:00",
          "2024-03-14T18:00:00+00:00",
          0
         ],
         "y": [
          0.66124,
          0.6611,
          0.6611,
          0.6611,
          0.6611,
          0.6611,
          0.6611,
          0.65844,
          0.65844,
          0.65844,
          0.65844,
          0.65844,
          0.65844,
          0.65844,
          0.65844,
          0.65844,
          0.65844,
          0.65844,
          0.65844,
          0.65844,
          0.65844,
          0.65844,
          0.65844,
          0.65844,
          0.65844,
          0.65844,
          0.65844,
          0.65844,
          0.65844,
          0.65844,
          0.65844,
          0.65844,
          0.65844,
          0.65844,
          0.65844,
          0.65844,
          0.65844,
          0.65844,
          0.65844,
          0.65844,
          0.65844,
          0.65844,
          0.65844,
          0.65844,
          0.65844,
          0.65844,
          0.65844,
          0.65844,
          0.65844,
          0.65844,
          0.65844,
          0.65844,
          0.65844,
          0.65844,
          0.65844,
          0.65844,
          0.65844,
          0.65844,
          0.65844,
          0.65844
         ]
        }
       ],
       "layout": {
        "height": 600,
        "template": {
         "data": {
          "bar": [
           {
            "error_x": {
             "color": "#f2f5fa"
            },
            "error_y": {
             "color": "#f2f5fa"
            },
            "marker": {
             "line": {
              "color": "rgb(17,17,17)",
              "width": 0.5
             },
             "pattern": {
              "fillmode": "overlay",
              "size": 10,
              "solidity": 0.2
             }
            },
            "type": "bar"
           }
          ],
          "barpolar": [
           {
            "marker": {
             "line": {
              "color": "rgb(17,17,17)",
              "width": 0.5
             },
             "pattern": {
              "fillmode": "overlay",
              "size": 10,
              "solidity": 0.2
             }
            },
            "type": "barpolar"
           }
          ],
          "carpet": [
           {
            "aaxis": {
             "endlinecolor": "#A2B1C6",
             "gridcolor": "#506784",
             "linecolor": "#506784",
             "minorgridcolor": "#506784",
             "startlinecolor": "#A2B1C6"
            },
            "baxis": {
             "endlinecolor": "#A2B1C6",
             "gridcolor": "#506784",
             "linecolor": "#506784",
             "minorgridcolor": "#506784",
             "startlinecolor": "#A2B1C6"
            },
            "type": "carpet"
           }
          ],
          "choropleth": [
           {
            "colorbar": {
             "outlinewidth": 0,
             "ticks": ""
            },
            "type": "choropleth"
           }
          ],
          "contour": [
           {
            "colorbar": {
             "outlinewidth": 0,
             "ticks": ""
            },
            "colorscale": [
             [
              0,
              "#0d0887"
             ],
             [
              0.1111111111111111,
              "#46039f"
             ],
             [
              0.2222222222222222,
              "#7201a8"
             ],
             [
              0.3333333333333333,
              "#9c179e"
             ],
             [
              0.4444444444444444,
              "#bd3786"
             ],
             [
              0.5555555555555556,
              "#d8576b"
             ],
             [
              0.6666666666666666,
              "#ed7953"
             ],
             [
              0.7777777777777778,
              "#fb9f3a"
             ],
             [
              0.8888888888888888,
              "#fdca26"
             ],
             [
              1,
              "#f0f921"
             ]
            ],
            "type": "contour"
           }
          ],
          "contourcarpet": [
           {
            "colorbar": {
             "outlinewidth": 0,
             "ticks": ""
            },
            "type": "contourcarpet"
           }
          ],
          "heatmap": [
           {
            "colorbar": {
             "outlinewidth": 0,
             "ticks": ""
            },
            "colorscale": [
             [
              0,
              "#0d0887"
             ],
             [
              0.1111111111111111,
              "#46039f"
             ],
             [
              0.2222222222222222,
              "#7201a8"
             ],
             [
              0.3333333333333333,
              "#9c179e"
             ],
             [
              0.4444444444444444,
              "#bd3786"
             ],
             [
              0.5555555555555556,
              "#d8576b"
             ],
             [
              0.6666666666666666,
              "#ed7953"
             ],
             [
              0.7777777777777778,
              "#fb9f3a"
             ],
             [
              0.8888888888888888,
              "#fdca26"
             ],
             [
              1,
              "#f0f921"
             ]
            ],
            "type": "heatmap"
           }
          ],
          "heatmapgl": [
           {
            "colorbar": {
             "outlinewidth": 0,
             "ticks": ""
            },
            "colorscale": [
             [
              0,
              "#0d0887"
             ],
             [
              0.1111111111111111,
              "#46039f"
             ],
             [
              0.2222222222222222,
              "#7201a8"
             ],
             [
              0.3333333333333333,
              "#9c179e"
             ],
             [
              0.4444444444444444,
              "#bd3786"
             ],
             [
              0.5555555555555556,
              "#d8576b"
             ],
             [
              0.6666666666666666,
              "#ed7953"
             ],
             [
              0.7777777777777778,
              "#fb9f3a"
             ],
             [
              0.8888888888888888,
              "#fdca26"
             ],
             [
              1,
              "#f0f921"
             ]
            ],
            "type": "heatmapgl"
           }
          ],
          "histogram": [
           {
            "marker": {
             "pattern": {
              "fillmode": "overlay",
              "size": 10,
              "solidity": 0.2
             }
            },
            "type": "histogram"
           }
          ],
          "histogram2d": [
           {
            "colorbar": {
             "outlinewidth": 0,
             "ticks": ""
            },
            "colorscale": [
             [
              0,
              "#0d0887"
             ],
             [
              0.1111111111111111,
              "#46039f"
             ],
             [
              0.2222222222222222,
              "#7201a8"
             ],
             [
              0.3333333333333333,
              "#9c179e"
             ],
             [
              0.4444444444444444,
              "#bd3786"
             ],
             [
              0.5555555555555556,
              "#d8576b"
             ],
             [
              0.6666666666666666,
              "#ed7953"
             ],
             [
              0.7777777777777778,
              "#fb9f3a"
             ],
             [
              0.8888888888888888,
              "#fdca26"
             ],
             [
              1,
              "#f0f921"
             ]
            ],
            "type": "histogram2d"
           }
          ],
          "histogram2dcontour": [
           {
            "colorbar": {
             "outlinewidth": 0,
             "ticks": ""
            },
            "colorscale": [
             [
              0,
              "#0d0887"
             ],
             [
              0.1111111111111111,
              "#46039f"
             ],
             [
              0.2222222222222222,
              "#7201a8"
             ],
             [
              0.3333333333333333,
              "#9c179e"
             ],
             [
              0.4444444444444444,
              "#bd3786"
             ],
             [
              0.5555555555555556,
              "#d8576b"
             ],
             [
              0.6666666666666666,
              "#ed7953"
             ],
             [
              0.7777777777777778,
              "#fb9f3a"
             ],
             [
              0.8888888888888888,
              "#fdca26"
             ],
             [
              1,
              "#f0f921"
             ]
            ],
            "type": "histogram2dcontour"
           }
          ],
          "mesh3d": [
           {
            "colorbar": {
             "outlinewidth": 0,
             "ticks": ""
            },
            "type": "mesh3d"
           }
          ],
          "parcoords": [
           {
            "line": {
             "colorbar": {
              "outlinewidth": 0,
              "ticks": ""
             }
            },
            "type": "parcoords"
           }
          ],
          "pie": [
           {
            "automargin": true,
            "type": "pie"
           }
          ],
          "scatter": [
           {
            "marker": {
             "line": {
              "color": "#283442"
             }
            },
            "type": "scatter"
           }
          ],
          "scatter3d": [
           {
            "line": {
             "colorbar": {
              "outlinewidth": 0,
              "ticks": ""
             }
            },
            "marker": {
             "colorbar": {
              "outlinewidth": 0,
              "ticks": ""
             }
            },
            "type": "scatter3d"
           }
          ],
          "scattercarpet": [
           {
            "marker": {
             "colorbar": {
              "outlinewidth": 0,
              "ticks": ""
             }
            },
            "type": "scattercarpet"
           }
          ],
          "scattergeo": [
           {
            "marker": {
             "colorbar": {
              "outlinewidth": 0,
              "ticks": ""
             }
            },
            "type": "scattergeo"
           }
          ],
          "scattergl": [
           {
            "marker": {
             "line": {
              "color": "#283442"
             }
            },
            "type": "scattergl"
           }
          ],
          "scattermapbox": [
           {
            "marker": {
             "colorbar": {
              "outlinewidth": 0,
              "ticks": ""
             }
            },
            "type": "scattermapbox"
           }
          ],
          "scatterpolar": [
           {
            "marker": {
             "colorbar": {
              "outlinewidth": 0,
              "ticks": ""
             }
            },
            "type": "scatterpolar"
           }
          ],
          "scatterpolargl": [
           {
            "marker": {
             "colorbar": {
              "outlinewidth": 0,
              "ticks": ""
             }
            },
            "type": "scatterpolargl"
           }
          ],
          "scatterternary": [
           {
            "marker": {
             "colorbar": {
              "outlinewidth": 0,
              "ticks": ""
             }
            },
            "type": "scatterternary"
           }
          ],
          "surface": [
           {
            "colorbar": {
             "outlinewidth": 0,
             "ticks": ""
            },
            "colorscale": [
             [
              0,
              "#0d0887"
             ],
             [
              0.1111111111111111,
              "#46039f"
             ],
             [
              0.2222222222222222,
              "#7201a8"
             ],
             [
              0.3333333333333333,
              "#9c179e"
             ],
             [
              0.4444444444444444,
              "#bd3786"
             ],
             [
              0.5555555555555556,
              "#d8576b"
             ],
             [
              0.6666666666666666,
              "#ed7953"
             ],
             [
              0.7777777777777778,
              "#fb9f3a"
             ],
             [
              0.8888888888888888,
              "#fdca26"
             ],
             [
              1,
              "#f0f921"
             ]
            ],
            "type": "surface"
           }
          ],
          "table": [
           {
            "cells": {
             "fill": {
              "color": "#506784"
             },
             "line": {
              "color": "rgb(17,17,17)"
             }
            },
            "header": {
             "fill": {
              "color": "#2a3f5f"
             },
             "line": {
              "color": "rgb(17,17,17)"
             }
            },
            "type": "table"
           }
          ]
         },
         "layout": {
          "annotationdefaults": {
           "arrowcolor": "#f2f5fa",
           "arrowhead": 0,
           "arrowwidth": 1
          },
          "autotypenumbers": "strict",
          "coloraxis": {
           "colorbar": {
            "outlinewidth": 0,
            "ticks": ""
           }
          },
          "colorscale": {
           "diverging": [
            [
             0,
             "#8e0152"
            ],
            [
             0.1,
             "#c51b7d"
            ],
            [
             0.2,
             "#de77ae"
            ],
            [
             0.3,
             "#f1b6da"
            ],
            [
             0.4,
             "#fde0ef"
            ],
            [
             0.5,
             "#f7f7f7"
            ],
            [
             0.6,
             "#e6f5d0"
            ],
            [
             0.7,
             "#b8e186"
            ],
            [
             0.8,
             "#7fbc41"
            ],
            [
             0.9,
             "#4d9221"
            ],
            [
             1,
             "#276419"
            ]
           ],
           "sequential": [
            [
             0,
             "#0d0887"
            ],
            [
             0.1111111111111111,
             "#46039f"
            ],
            [
             0.2222222222222222,
             "#7201a8"
            ],
            [
             0.3333333333333333,
             "#9c179e"
            ],
            [
             0.4444444444444444,
             "#bd3786"
            ],
            [
             0.5555555555555556,
             "#d8576b"
            ],
            [
             0.6666666666666666,
             "#ed7953"
            ],
            [
             0.7777777777777778,
             "#fb9f3a"
            ],
            [
             0.8888888888888888,
             "#fdca26"
            ],
            [
             1,
             "#f0f921"
            ]
           ],
           "sequentialminus": [
            [
             0,
             "#0d0887"
            ],
            [
             0.1111111111111111,
             "#46039f"
            ],
            [
             0.2222222222222222,
             "#7201a8"
            ],
            [
             0.3333333333333333,
             "#9c179e"
            ],
            [
             0.4444444444444444,
             "#bd3786"
            ],
            [
             0.5555555555555556,
             "#d8576b"
            ],
            [
             0.6666666666666666,
             "#ed7953"
            ],
            [
             0.7777777777777778,
             "#fb9f3a"
            ],
            [
             0.8888888888888888,
             "#fdca26"
            ],
            [
             1,
             "#f0f921"
            ]
           ]
          },
          "colorway": [
           "#636efa",
           "#EF553B",
           "#00cc96",
           "#ab63fa",
           "#FFA15A",
           "#19d3f3",
           "#FF6692",
           "#B6E880",
           "#FF97FF",
           "#FECB52"
          ],
          "font": {
           "color": "#f2f5fa"
          },
          "geo": {
           "bgcolor": "rgb(17,17,17)",
           "lakecolor": "rgb(17,17,17)",
           "landcolor": "rgb(17,17,17)",
           "showlakes": true,
           "showland": true,
           "subunitcolor": "#506784"
          },
          "hoverlabel": {
           "align": "left"
          },
          "hovermode": "closest",
          "mapbox": {
           "style": "dark"
          },
          "paper_bgcolor": "rgb(17,17,17)",
          "plot_bgcolor": "rgb(17,17,17)",
          "polar": {
           "angularaxis": {
            "gridcolor": "#506784",
            "linecolor": "#506784",
            "ticks": ""
           },
           "bgcolor": "rgb(17,17,17)",
           "radialaxis": {
            "gridcolor": "#506784",
            "linecolor": "#506784",
            "ticks": ""
           }
          },
          "scene": {
           "xaxis": {
            "backgroundcolor": "rgb(17,17,17)",
            "gridcolor": "#506784",
            "gridwidth": 2,
            "linecolor": "#506784",
            "showbackground": true,
            "ticks": "",
            "zerolinecolor": "#C8D4E3"
           },
           "yaxis": {
            "backgroundcolor": "rgb(17,17,17)",
            "gridcolor": "#506784",
            "gridwidth": 2,
            "linecolor": "#506784",
            "showbackground": true,
            "ticks": "",
            "zerolinecolor": "#C8D4E3"
           },
           "zaxis": {
            "backgroundcolor": "rgb(17,17,17)",
            "gridcolor": "#506784",
            "gridwidth": 2,
            "linecolor": "#506784",
            "showbackground": true,
            "ticks": "",
            "zerolinecolor": "#C8D4E3"
           }
          },
          "shapedefaults": {
           "line": {
            "color": "#f2f5fa"
           }
          },
          "sliderdefaults": {
           "bgcolor": "#C8D4E3",
           "bordercolor": "rgb(17,17,17)",
           "borderwidth": 1,
           "tickwidth": 0
          },
          "ternary": {
           "aaxis": {
            "gridcolor": "#506784",
            "linecolor": "#506784",
            "ticks": ""
           },
           "baxis": {
            "gridcolor": "#506784",
            "linecolor": "#506784",
            "ticks": ""
           },
           "bgcolor": "rgb(17,17,17)",
           "caxis": {
            "gridcolor": "#506784",
            "linecolor": "#506784",
            "ticks": ""
           }
          },
          "title": {
           "x": 0.05
          },
          "updatemenudefaults": {
           "bgcolor": "#506784",
           "borderwidth": 0
          },
          "xaxis": {
           "automargin": true,
           "gridcolor": "#283442",
           "linecolor": "#506784",
           "ticks": "",
           "title": {
            "standoff": 15
           },
           "zerolinecolor": "#283442",
           "zerolinewidth": 2
          },
          "yaxis": {
           "automargin": true,
           "gridcolor": "#283442",
           "linecolor": "#506784",
           "ticks": "",
           "title": {
            "standoff": 15
           },
           "zerolinecolor": "#283442",
           "zerolinewidth": 2
          }
         }
        },
        "title": {
         "text": "Candlestick Chart with Swing Highs and Lows"
        },
        "xaxis": {
         "nticks": 20,
         "rangeslider": {
          "visible": false
         },
         "showgrid": false,
         "type": "category"
        }
       }
      }
     },
     "metadata": {},
     "output_type": "display_data"
    }
   ],
   "source": [
    "custom_text = df['Bar_Number'].astype(str) + '<br>' + 'Swing High: ' + df['Swing_High'].astype(\n",
    "        str) + '<br>' + 'Swing Low: ' + df['Swing_Low'].astype(str)\n",
    "fig = go.Figure(data=[go.Candlestick(x=df.index,\n",
    "                                         open=df['Open'],\n",
    "                                         high=df['High'],\n",
    "                                         low=df['Low'],\n",
    "                                         close=df['Close'],\n",
    "                                         hoverinfo='x+y+text',\n",
    "                                         text=custom_text,\n",
    "                                         name='Candlestick')])\n",
    "\n",
    "# Add trend markers (prioritize uptrend over downtrend)\n",
    "uptrend_markers = df[df['Trend'] == 'Uptrend']\n",
    "downtrend_markers = df[df['Trend'] == 'Downtrend']\n",
    "\n",
    "fig.add_trace(go.Scatter(x=uptrend_markers.index, y=uptrend_markers['Low'] - 0.001 * uptrend_markers['Low'],\n",
    "              mode='markers', name='Uptrend', marker=dict(symbol='triangle-up', color='blue', size=8)))\n",
    "fig.add_trace(go.Scatter(x=downtrend_markers.index, y=downtrend_markers['High'] + 0.001 * downtrend_markers['High'],\n",
    "              mode='markers', name='Downtrend', marker=dict(symbol='triangle-down', color='orange', size=8)))\n",
    "\n",
    "\n",
    "# Add Swing High and Swing Low markers for the current row\n",
    "fig.add_trace(go.Scatter(x=df.index, y=df['Swing_High'],\n",
    "                         mode='markers', name='Swing High',\n",
    "                         marker=dict(symbol='circle',\n",
    "                                     color='green', size=14),\n",
    "                         showlegend=False))\n",
    "\n",
    "fig.add_trace(go.Scatter(x=df.index, y=df['Swing_Low'],\n",
    "                         mode='markers', name='Swing Low',\n",
    "                         marker=dict(symbol='circle',\n",
    "                                     color='red', size=14),\n",
    "                         showlegend=False))\n",
    "\n",
    "# Update the layout for a clearer view\n",
    "fig.update_layout(title='Candlestick Chart with Swing Highs and Lows',\n",
    "                  height=600,\n",
    "                  template='plotly_dark',\n",
    "                  xaxis=dict(type='category', nticks=20, showgrid=False),\n",
    "                  xaxis_rangeslider_visible=False)\n",
    "\n",
    "# Show the figure\n",
    "fig.show()"
   ]
  },
  {
   "cell_type": "code",
   "execution_count": null,
   "metadata": {},
   "outputs": [],
   "source": [
    "# Split the values in the 'Trend' column into a list of trends and check if there is more than one trend in each row\n",
    "if (df['Trend'].str.split(',').apply(lambda x: len(x)) > 1).any():\n",
    "    print(\"There is more than one trend listed in at least one row of the 'Trend' column.\")\n",
    "else:\n",
    "    print(\"Each row of the 'Trend' column contains only one trend.\")\n"
   ]
  },
  {
   "cell_type": "code",
   "execution_count": null,
   "metadata": {},
   "outputs": [],
   "source": [
    "# Get the row based on the bar number\n",
    "df[df['Bar_Number'] == 92]"
   ]
  },
  {
   "cell_type": "code",
   "execution_count": null,
   "metadata": {},
   "outputs": [],
   "source": [
    "df.iloc[:92]"
   ]
  }
 ],
 "metadata": {
  "kernelspec": {
   "display_name": "venv",
   "language": "python",
   "name": "python3"
  },
  "language_info": {
   "codemirror_mode": {
    "name": "ipython",
    "version": 3
   },
   "file_extension": ".py",
   "mimetype": "text/x-python",
   "name": "python",
   "nbconvert_exporter": "python",
   "pygments_lexer": "ipython3",
   "version": "3.11.4"
  }
 },
 "nbformat": 4,
 "nbformat_minor": 2
}
