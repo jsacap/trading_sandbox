{
 "cells": [
  {
   "cell_type": "markdown",
   "metadata": {},
   "source": [
    "# Backtrader"
   ]
  },
  {
   "cell_type": "code",
   "execution_count": null,
   "metadata": {},
   "outputs": [],
   "source": [
    "import pandas as pd\n",
    "import backtrader as bt\n",
    "import backtrader.analyzers as btanalyzers\n",
    "import matplotlib\n",
    "from datetime import datetime"
   ]
  },
  {
   "cell_type": "code",
   "execution_count": null,
   "metadata": {},
   "outputs": [],
   "source": [
    "# Importing through a CSV that has more data which was downloaded externally.\n",
    "df = pd.read_csv('../Data/AUDCAD_H1(22007-09-26 - 2024-02-02).csv', delimiter='\\t', names=['Open', 'High', 'Low', 'Close', 'Volume'], header=0)\n",
    "df.index = pd.to_datetime(df.index)\n"
   ]
  },
  {
   "cell_type": "code",
   "execution_count": null,
   "metadata": {},
   "outputs": [],
   "source": [
    "class Strat(bt.Strategy):\n",
    "    def __init__(self):\n",
    "        pass\n",
    "    def next(self):\n",
    "        pass"
   ]
  },
  {
   "cell_type": "code",
   "execution_count": 13,
   "metadata": {},
   "outputs": [
    {
     "name": "stdout",
     "output_type": "stream",
     "text": [
      "Help on class TimeFrame in module backtrader.dataseries:\n",
      "\n",
      "class TimeFrame(builtins.object)\n",
      " |  Class methods defined here:\n",
      " |  \n",
      " |  TFrame(name) from builtins.type\n",
      " |  \n",
      " |  TName(tframe) from builtins.type\n",
      " |  \n",
      " |  getname(tframe, compression=None) from builtins.type\n",
      " |  \n",
      " |  ----------------------------------------------------------------------\n",
      " |  Data descriptors defined here:\n",
      " |  \n",
      " |  __dict__\n",
      " |      dictionary for instance variables (if defined)\n",
      " |  \n",
      " |  __weakref__\n",
      " |      list of weak references to the object (if defined)\n",
      " |  \n",
      " |  ----------------------------------------------------------------------\n",
      " |  Data and other attributes defined here:\n",
      " |  \n",
      " |  Days = 5\n",
      " |  \n",
      " |  MicroSeconds = 2\n",
      " |  \n",
      " |  Minutes = 4\n",
      " |  \n",
      " |  Months = 7\n",
      " |  \n",
      " |  Names = ['', 'Ticks', 'MicroSeconds', 'Seconds', 'Minutes', 'Days', 'W...\n",
      " |  \n",
      " |  NoTimeFrame = 9\n",
      " |  \n",
      " |  Seconds = 3\n",
      " |  \n",
      " |  Ticks = 1\n",
      " |  \n",
      " |  Weeks = 6\n",
      " |  \n",
      " |  Years = 8\n",
      " |  \n",
      " |  names = ['', 'Ticks', 'MicroSeconds', 'Seconds', 'Minutes', 'Days', 'W...\n",
      "\n"
     ]
    }
   ],
   "source": [
    "help(bt.TimeFrame)"
   ]
  },
  {
   "cell_type": "code",
   "execution_count": 6,
   "metadata": {},
   "outputs": [],
   "source": [
    "class Strat(bt.Strategy):\n",
    "    def __init__(self):\n",
    "        self.atr = bt.ind.ATR(period)\n",
    "    def next(self):\n",
    "        pass"
   ]
  },
  {
   "cell_type": "code",
   "execution_count": 14,
   "metadata": {},
   "outputs": [
    {
     "data": {
      "text/plain": [
       "<backtrader.feeds.csvgeneric.GenericCSVData at 0x180d9b1ef90>"
      ]
     },
     "execution_count": 14,
     "metadata": {},
     "output_type": "execute_result"
    }
   ],
   "source": [
    "cerebro = bt.Cerebro()\n",
    "cerebro = bt.Cerebro()\n",
    "\n",
    "# Define the data feed\n",
    "data = bt.feeds.GenericCSVData(\n",
    "    dataname='../Data/AUDCAD_H1(22007-09-26 - 2024-02-02).csv',\n",
    "    fromdate=datetime(2007, 9, 26),\n",
    "    todate=datetime(2024, 2, 2),\n",
    "    datetime=0,\n",
    "    time=-1,  # Time column (if present), else set to -1\n",
    "    open=1,\n",
    "    high=2,\n",
    "    low=3,\n",
    "    close=4,\n",
    "    volume=5,\n",
    "    openinterest=-1,  # Open interest column (if present), else set to -1\n",
    "    dtformat=('%Y-%m-%d %H:%M:%S'),  # Adjust the date format to match your CSV\n",
    "    compression=1\n",
    ")\n",
    "\n",
    "# Add the data to Cerebro\n",
    "cerebro.adddata(data)"
   ]
  },
  {
   "cell_type": "code",
   "execution_count": 15,
   "metadata": {},
   "outputs": [
    {
     "data": {
      "text/plain": [
       "<backtrader.feeds.csvgeneric.GenericCSVData at 0x180d9b1ef90>"
      ]
     },
     "execution_count": 15,
     "metadata": {},
     "output_type": "execute_result"
    }
   ],
   "source": [
    "data"
   ]
  }
 ],
 "metadata": {
  "kernelspec": {
   "display_name": "venv",
   "language": "python",
   "name": "python3"
  },
  "language_info": {
   "codemirror_mode": {
    "name": "ipython",
    "version": 3
   },
   "file_extension": ".py",
   "mimetype": "text/x-python",
   "name": "python",
   "nbconvert_exporter": "python",
   "pygments_lexer": "ipython3",
   "version": "3.11.4"
  }
 },
 "nbformat": 4,
 "nbformat_minor": 2
}
