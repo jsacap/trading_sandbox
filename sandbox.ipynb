{
 "cells": [
  {
   "cell_type": "code",
   "execution_count": 1,
   "metadata": {},
   "outputs": [],
   "source": [
    "import pandas as pd\n",
    "import pandas_ta as ta\n",
    "import numpy as np\n",
    "import plotly.graph_objects as go\n",
    "import matplotlib.pyplot as plt\n",
    "import requests\n",
    "import defs"
   ]
  },
  {
   "cell_type": "code",
   "execution_count": 2,
   "metadata": {},
   "outputs": [
    {
     "name": "stderr",
     "output_type": "stream",
     "text": [
      "C:\\Users\\saleg\\AppData\\Local\\Temp\\ipykernel_2140\\4044600818.py:37: FutureWarning: Setting an item of incompatible dtype is deprecated and will raise an error in a future version of pandas. Value 'Uptrend' has dtype incompatible with float64, please explicitly cast to a compatible dtype first.\n",
      "  df.at[df.index[i], 'OE'] = 'Uptrend'\n",
      "C:\\Users\\saleg\\AppData\\Local\\Temp\\ipykernel_2140\\4044600818.py:35: FutureWarning: Setting an item of incompatible dtype is deprecated and will raise an error in a future version of pandas. Value 'Downtrend' has dtype incompatible with float64, please explicitly cast to a compatible dtype first.\n",
      "  df.at[df.index[i], 'OE'] = 'Downtrend'\n"
     ]
    },
    {
     "name": "stdout",
     "output_type": "stream",
     "text": [
      "The total KB downloaded was 24.1201171875 (0.02)MB\n"
     ]
    },
    {
     "name": "stderr",
     "output_type": "stream",
     "text": [
      "C:\\Users\\saleg\\AppData\\Local\\Temp\\ipykernel_2140\\4044600818.py:37: FutureWarning: Setting an item of incompatible dtype is deprecated and will raise an error in a future version of pandas. Value 'Uptrend' has dtype incompatible with float64, please explicitly cast to a compatible dtype first.\n",
      "  df.at[df.index[i], 'OE'] = 'Uptrend'\n"
     ]
    }
   ],
   "source": [
    "fx_pairs = ['AUD_CAD', 'AUD_USD', 'NZD_USD', 'EUR_USD', 'GBP_JPY', 'GBP_USD', 'USD_CAD', 'USD_JPY', 'XAU_USD', 'WTICO_USD', 'NAS100_USD', 'SPX500_USD', 'AU200_AUD', 'BTC_USD']\n",
    "timeframes = ['H1', 'H4', 'D']\n",
    "session = requests.Session()\n",
    "fx_dataframes = {}\n",
    "trend_df_columns = ['Asset'] + [f'MOMO_{timeframe}' for timeframe in timeframes] + [f'PATI_{timeframe}' for timeframe in timeframes] + [f'OE_{timeframe}' for timeframe in timeframes]\n",
    "\n",
    "trend_data_list = []\n",
    "total_bytes = 0\n",
    "\n",
    "for instrument in fx_pairs:\n",
    "    trend_data = {'Asset': instrument}\n",
    "    for timeframe in timeframes:\n",
    "        url = f'{defs.OANDA_URL}/instruments/{instrument}/candles'\n",
    "        params = {'count': 60, 'granularity': timeframe, 'price': \"M\"}\n",
    "        response = session.get(url, params=params, headers=defs.SECURE_HEADER)\n",
    "\n",
    "        if response.status_code == 200:\n",
    "            size_in_bytes = len(response.content)\n",
    "            total_bytes += size_in_bytes\n",
    "            data = response.json()\n",
    "            my_data = [{'time': candle['time'], 'open': float(candle['mid']['o']), 'high': float(candle['mid']['h']), 'low': float(candle['mid']['l']), 'close': float(candle['mid']['c']), 'volume': candle['volume']} for candle in data['candles'] if candle['complete']]\n",
    "            precision = 3 if 'JPY' in instrument else 5\n",
    "            df = pd.DataFrame(my_data)\n",
    "            df['time'] = pd.to_datetime(df['time'])\n",
    "            df.set_index('time', inplace=True)\n",
    "            df['SMA_FAST'] = ta.sma(df['close'], length=20).round(precision)\n",
    "            df['SMA_SLOW'] = ta.sma(df['close'], length=50).round(precision)\n",
    "            df['MOMO'] = np.where(df['SMA_FAST'] > df['SMA_SLOW'], 'Uptrend', 'Downtrend')\n",
    "            df['RSI'] = ta.rsi(df['close'], length=7)\n",
    "            df['OE'] = 'Neutral'\n",
    "            for i in range(7, len(df)):\n",
    "                current_slice = df.iloc[i-7:i+1]\n",
    "                if (current_slice['RSI'] > 80).any():\n",
    "                    df.at[df.index[i], 'OE'] = 'Downtrend'\n",
    "                elif (current_slice['RSI'] < 20).any():\n",
    "                    df.at[df.index[i], 'OE'] = 'Uptrend' \n",
    "            \n",
    "\n",
    "            fx_dataframes[(instrument, timeframe)] = df\n",
    "\n",
    "            # Initialize variables for trend tracing logic\n",
    "            df['Candle'] = np.select([df['close'] > df['open'], df['close'] < df['open']], ['Bull', 'Bear'], default='Doji')\n",
    "            df['Trend'] = 'Neutral'\n",
    "            df.at[df.index[0], 'Trend'] = 'Neutral'\n",
    "            \n",
    "            higher_high = None\n",
    "            lower_low = None\n",
    "\n",
    "            bullish_pullback_count = 0\n",
    "            bearish_pullback_count = 0\n",
    "            bullish_pullback = False\n",
    "            bearish_pullback = False\n",
    "\n",
    "            swing_high = None\n",
    "            swing_low = None\n",
    "\n",
    "            uptrend_lowest_pullback = None\n",
    "            downtrend_highest_pullback = None\n",
    "\n",
    "            previous_high = df['high'].iloc[0]\n",
    "            previous_low = df['low'].iloc[0]\n",
    "\n",
    "            current_trend = 'Neutral'\n",
    "            df.iloc[0, df.columns.get_loc('Trend')] = current_trend\n",
    "\n",
    "\n",
    "            df['Price_Status'] = None\n",
    "            price_status = None\n",
    "\n",
    "            # Iterating logic starts\n",
    "            for i, row in df.iloc[1:].iterrows():\n",
    "                # Insert trend tracing logic here and update df['Trend'] accordingly\n",
    "                current_high = row['high']\n",
    "                current_low = row['low']\n",
    "                candle_type = row['Candle']\n",
    "                current_close = row['close']\n",
    "\n",
    "                # clear_output()\n",
    "                # Trend rotation\n",
    "                if current_trend == \"Neutral\":\n",
    "                    if swing_low is None and swing_high is None:\n",
    "                        swing_high = current_high\n",
    "                        swing_low = current_low\n",
    "                        higher_high = current_high\n",
    "                        lower_low = current_low\n",
    "\n",
    "                if current_close > swing_high and current_close > higher_high:\n",
    "                    current_trend = 'Uptrend'\n",
    "                    bullish_pullback_count = 0\n",
    "                    bullish_pullback = False\n",
    "                    bearish_pullback_count = 0\n",
    "                    bearish_pullback = False\n",
    "                    if uptrend_lowest_pullback is not None:\n",
    "                        swing_low = uptrend_lowest_pullback\n",
    "                elif current_close < swing_low and current_low < lower_low:\n",
    "                    current_trend = 'Downtrend'\n",
    "                    bearish_pullback_count = 0\n",
    "                    bearish_pullback = False\n",
    "                    bullish_pullback_count = 0\n",
    "                    bullish_pullback = False\n",
    "                    if downtrend_highest_pullback is not None:\n",
    "                        swing_high = downtrend_highest_pullback\n",
    "                # Finding the range in the beginning of the dataset\n",
    "\n",
    "                df.at[i, 'Trend'] = current_trend\n",
    "\n",
    "                if bullish_pullback or bearish_pullback:\n",
    "                    price_status = 'Consolidation'\n",
    "                else:\n",
    "                    price_status = 'Extension'\n",
    "\n",
    "                df.at[i, 'Price_Status'] = price_status\n",
    "                # ================================================================================================== #\n",
    "\n",
    "                if current_trend == 'Uptrend':\n",
    "                    if current_high > previous_high and current_low > swing_high and not bullish_pullback:\n",
    "                        if higher_high is not None:\n",
    "                            higher_high = max(higher_high, current_high)\n",
    "                        else:\n",
    "                            higher_high = current_high\n",
    "                    if current_close < higher_high and candle_type == 'Bear':\n",
    "                        bullish_pullback_count += 1\n",
    "                    if bullish_pullback_count >= 2:\n",
    "                        bullish_pullback = True\n",
    "                        swing_high = higher_high\n",
    "\n",
    "                    if bullish_pullback and current_close > swing_low:\n",
    "                        if current_low < previous_low:\n",
    "                            uptrend_lowest_pullback = current_low\n",
    "\n",
    "                elif current_trend == 'Downtrend':\n",
    "                    if current_low < previous_low and current_low < swing_low and not bearish_pullback:\n",
    "                        if lower_low is not None:\n",
    "                            lower_low = min(lower_low, current_low)\n",
    "                        else:\n",
    "                            lower_low = current_low\n",
    "                    if current_close > lower_low and candle_type == 'Bull':\n",
    "                        bearish_pullback_count += 1\n",
    "                    if bearish_pullback_count >= 2:\n",
    "                        bearish_pullback = True\n",
    "                        swing_low = lower_low\n",
    "\n",
    "                    if bearish_pullback and current_close < swing_high:\n",
    "                        if current_high > previous_high:\n",
    "                            downtrend_highest_pullback = current_high\n",
    "                            higher_high = current_high\n",
    "\n",
    "                df.at[i, 'Swing_high'] = swing_high\n",
    "                df.at[i, 'Swing_low'] = swing_low\n",
    "                previous_low = current_low\n",
    "                previous_high = current_high\n",
    "                \n",
    "                # =================================================================================================================================\n",
    "                \n",
    "            \n",
    "            # Extract the final 'Trend' value and update trend_data\n",
    "            final_trend = df['Trend'].iloc[-1]\n",
    "            column_name = f'PATI_{timeframe}'\n",
    "            trend_data[column_name] = final_trend\n",
    "            trend_data[f'MOMO_{timeframe}'] = df['MOMO'].iloc[-1]\n",
    "            trend_data[f'OE_{timeframe}'] = df['OE'].iloc[-1]\n",
    "        else:\n",
    "            print(f\"Failed to fetch data for {instrument} with granularity {timeframe}: {response.status_code}\")\n",
    "            column_name = f'PATI_{timeframe}'\n",
    "            trend_data[column_name] = 'Error'\n",
    "\n",
    "    trend_data_list.append(trend_data)\n",
    "\n",
    "trend_df = pd.DataFrame(trend_data_list, columns=trend_df_columns)\n",
    "trend_df.set_index('Asset', inplace=True)\n",
    "\n",
    "\n",
    "total_kb = total_bytes / 1024\n",
    "total_mb = round((total_kb / 1024), 2)\n",
    "\n",
    "trend_df['Uptrend_Count'] = trend_df.apply(lambda row: (row == 'Uptrend').sum(), axis=1)\n",
    "trend_df['Downtrend_Count'] = trend_df.apply(lambda row: sum(-1 for val in row if val == 'Downtrend'), axis=1)\n",
    "trend_df = trend_df.sort_index()\n",
    "trend_df['Score'] = trend_df['Uptrend_Count'] + trend_df['Downtrend_Count']\n",
    "\n",
    "print(f'The total KB downloaded was {total_kb} ({total_mb})MB')\n",
    "\n"
   ]
  },
  {
   "cell_type": "code",
   "execution_count": 5,
   "metadata": {},
   "outputs": [
    {
     "data": {
      "text/plain": [
       "MOMO_H1             object\n",
       "MOMO_H4             object\n",
       "MOMO_D              object\n",
       "PATI_H1             object\n",
       "PATI_H4             object\n",
       "PATI_D              object\n",
       "OE_H1               object\n",
       "OE_H4              float64\n",
       "OE_D               float64\n",
       "Uptrend_Count        int64\n",
       "Downtrend_Count      int64\n",
       "Score                int64\n",
       "dtype: object"
      ]
     },
     "execution_count": 5,
     "metadata": {},
     "output_type": "execute_result"
    }
   ],
   "source": [
    "trend_df.dtypes"
   ]
  },
  {
   "cell_type": "code",
   "execution_count": null,
   "metadata": {},
   "outputs": [],
   "source": [
    "fx_dataframes['AUD_USD', 'H1'].tail()"
   ]
  },
  {
   "cell_type": "code",
   "execution_count": null,
   "metadata": {},
   "outputs": [],
   "source": [
    "# Assign weights\n",
    "weights = {'D': 3, 'H4': 2, 'H1': 1}\n",
    "\n",
    "# Calculate weighted scores for uptrends and downtrends\n",
    "trend_df['Uptrend_Score'] = (trend_df['MOMO_D'] == 'Uptrend') * weights['D'] + \\\n",
    "                            (trend_df['MOMO_H4'] == 'Uptrend') * weights['H4'] + \\\n",
    "                            (trend_df['MOMO_H1'] == 'Uptrend') * weights['H1'] + \\\n",
    "                            (trend_df['PATI_D'] == 'Uptrend') * weights['D'] + \\\n",
    "                            (trend_df['PATI_H4'] == 'Uptrend') * weights['H4'] + \\\n",
    "                            (trend_df['PATI_H1'] == 'Uptrend') * weights['H1']\n",
    "\n",
    "trend_df['Downtrend_Score'] = (trend_df['MOMO_D'] == 'Downtrend') * weights['D'] + \\\n",
    "                              (trend_df['MOMO_H4'] == 'Downtrend') * weights['H4'] + \\\n",
    "                              (trend_df['MOMO_H1'] == 'Downtrend') * weights['H1'] + \\\n",
    "                              (trend_df['PATI_D'] == 'Downtrend') * weights['D'] + \\\n",
    "                              (trend_df['PATI_H4'] == 'Downtrend') * weights['H4'] + \\\n",
    "                              (trend_df['PATI_H1'] == 'Downtrend') * weights['H1']\n",
    "\n",
    "# Calculate a net trend score (positive for uptrends, negative for downtrends)\n",
    "trend_df['Net_Trend_Score'] = trend_df['Uptrend_Score'] - trend_df['Downtrend_Score']\n"
   ]
  },
  {
   "cell_type": "markdown",
   "metadata": {},
   "source": [
    "## Plotting"
   ]
  },
  {
   "cell_type": "code",
   "execution_count": null,
   "metadata": {},
   "outputs": [],
   "source": [
    "import seaborn as sns\n",
    "import matplotlib.pyplot as plt\n"
   ]
  },
  {
   "cell_type": "code",
   "execution_count": null,
   "metadata": {},
   "outputs": [],
   "source": [
    "def trend_heat_map(trend_df):\n",
    "    image_path = './images/latest_trend_heatmap.png'\n",
    "    trend_numeric = trend_df.replace(\n",
    "        {'Uptrend': 1, 'Downtrend': -1, 'Neutral': 0})\n",
    "    trend_signals = trend_numeric[[\n",
    "        'MOMO_H1', 'MOMO_H4', 'MOMO_D', 'PATI_H1', 'PATI_H4', 'PATI_D']]\n",
    "\n",
    "    plt.figure(figsize=(10, 8))\n",
    "    sns.heatmap(trend_signals, cmap='RdYlGn', annot=True, fmt=\"d\")\n",
    "    plt.title('Trend Strength Heatmap')\n",
    "\n",
    "    plt.savefig(image_path)\n",
    "    plt.close()\n"
   ]
  },
  {
   "cell_type": "code",
   "execution_count": null,
   "metadata": {},
   "outputs": [],
   "source": [
    "trend_heat_map(trend_df)"
   ]
  },
  {
   "cell_type": "code",
   "execution_count": null,
   "metadata": {},
   "outputs": [],
   "source": [
    "trend_numeric = trend_df.replace({'Uptrend': 1, 'Downtrend': -1, 'Neutral': 0})\n",
    "\n",
    "# Select only the columns with trend signals\n",
    "trend_signals = trend_numeric[['MOMO_H1', 'MOMO_H4', 'MOMO_D', 'PATI_H1', 'PATI_H4', 'PATI_D']]\n",
    "\n",
    "plt.figure(figsize=(10, 8))\n",
    "sns.heatmap(trend_signals, cmap='RdYlGn', annot=True, fmt=\"d\")\n",
    "plt.title('Trend Strength Heatmap')\n",
    "plt.show()\n"
   ]
  },
  {
   "cell_type": "code",
   "execution_count": null,
   "metadata": {},
   "outputs": [],
   "source": [
    "# 'Uptrend_Count' and 'Downtrend_Count' are already calculated in your DataFrame\n",
    "trend_df[['Uptrend_Count', 'Downtrend_Count']].plot(kind='bar', color=['green', 'red'], figsize=(14, 6))\n",
    "plt.title('Trend Signal Strength per Instrument')\n",
    "plt.ylabel('Count')\n",
    "plt.xlabel('Asset')\n",
    "plt.xticks(rotation=45)\n",
    "plt.legend(title='Trend')\n",
    "plt.tight_layout()\n",
    "plt.show()"
   ]
  },
  {
   "cell_type": "code",
   "execution_count": null,
   "metadata": {},
   "outputs": [],
   "source": [
    "import matplotlib.pyplot as plt\n",
    "import numpy as np\n",
    "\n",
    "# Select a specific instrument, e.g., 'AUD_JPY'\n",
    "instrument_trends = trend_numeric.loc['AUD_CAD', ['MOMO_H1', 'MOMO_H4', 'MOMO_D', 'PATI_H1', 'PATI_H4', 'PATI_D']]\n",
    "\n",
    "labels=np.array(['MOMO_H1', 'MOMO_H4', 'MOMO_D', 'PATI_H1', 'PATI_H4', 'PATI_D'])\n",
    "stats=instrument_trends.values\n",
    "\n",
    "angles=np.linspace(0, 2*np.pi, len(labels), endpoint=False).tolist()\n",
    "\n",
    "stats=np.concatenate((stats,[stats[0]]))\n",
    "angles+=angles[:1]\n",
    "\n",
    "fig, ax = plt.subplots(figsize=(6, 6), subplot_kw=dict(polar=True))\n",
    "ax.fill(angles, stats, color='red', alpha=0.25)\n",
    "ax.plot(angles, stats, color='red', linewidth=2)\n",
    "ax.set_yticklabels([])\n",
    "ax.set_xticks(angles[:-1])\n",
    "ax.set_xticklabels(labels)\n",
    "\n",
    "plt.title('Trend Strength Radar Chart for AUD_JPY', size=20, color='red', y=1.1)\n",
    "plt.show()\n",
    "\n"
   ]
  },
  {
   "cell_type": "code",
   "execution_count": null,
   "metadata": {},
   "outputs": [],
   "source": [
    "df['OE'] = np.nan\n",
    "\n",
    "for i in range(7, len(df)):\n",
    "    current_slice = df.iloc[i-7:i+1]  # Slice of current and previous 7 rows\n",
    "    # Check if any RSI value in the slice is above 80\n",
    "    if (current_slice['RSI'] > 80).any():\n",
    "        df.at[df.index[i], 'OE'] = 'Downtrend'\n",
    "    # Check if any RSI value in the slice is below 20\n",
    "    elif (current_slice['RSI'] < 20).any():\n",
    "        df.at[df.index[i], 'OE'] = 'Uptrend'"
   ]
  },
  {
   "cell_type": "code",
   "execution_count": null,
   "metadata": {},
   "outputs": [],
   "source": [
    "trend_df_columns = ['Asset'] + [f'MOMO_{timeframe}' for timeframe in timeframes] + [f'PATI_{timeframe}' for timeframe in timeframes] + [f'OE_{timeframe}' for timeframe in timeframes]\n"
   ]
  },
  {
   "cell_type": "code",
   "execution_count": null,
   "metadata": {},
   "outputs": [],
   "source": [
    "trend_df.columns"
   ]
  }
 ],
 "metadata": {
  "kernelspec": {
   "display_name": "venv",
   "language": "python",
   "name": "python3"
  },
  "language_info": {
   "codemirror_mode": {
    "name": "ipython",
    "version": 3
   },
   "file_extension": ".py",
   "mimetype": "text/x-python",
   "name": "python",
   "nbconvert_exporter": "python",
   "pygments_lexer": "ipython3",
   "version": "3.11.4"
  }
 },
 "nbformat": 4,
 "nbformat_minor": 2
}
