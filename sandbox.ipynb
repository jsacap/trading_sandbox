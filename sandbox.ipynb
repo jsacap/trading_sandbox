{
 "cells": [
  {
   "cell_type": "code",
   "execution_count": null,
   "metadata": {},
   "outputs": [],
   "source": [
    "\n",
    "import pandas as pd\n",
    "import yfinance as yf\n",
    "from backtesting import Backtest, Strategy\n",
    "import pandas_ta as ta\n",
    "\n",
    "from backtesting.lib import crossover"
   ]
  },
  {
   "cell_type": "code",
   "execution_count": 2,
   "metadata": {},
   "outputs": [],
   "source": [
    "data_csv = pd.read_csv('USDJPY60(2008 - 2024).csv', delimiter='\\t', names=['Open', 'High', 'Low', 'Close', 'Volume'], header=0)\n",
    "data_csv.index = pd.to_datetime(data_csv.index)\n"
   ]
  },
  {
   "cell_type": "code",
   "execution_count": 4,
   "metadata": {},
   "outputs": [
    {
     "data": {
      "text/html": [
       "<div>\n",
       "<style scoped>\n",
       "    .dataframe tbody tr th:only-of-type {\n",
       "        vertical-align: middle;\n",
       "    }\n",
       "\n",
       "    .dataframe tbody tr th {\n",
       "        vertical-align: top;\n",
       "    }\n",
       "\n",
       "    .dataframe thead th {\n",
       "        text-align: right;\n",
       "    }\n",
       "</style>\n",
       "<table border=\"1\" class=\"dataframe\">\n",
       "  <thead>\n",
       "    <tr style=\"text-align: right;\">\n",
       "      <th></th>\n",
       "      <th>Open</th>\n",
       "      <th>High</th>\n",
       "      <th>Low</th>\n",
       "      <th>Close</th>\n",
       "      <th>Volume</th>\n",
       "    </tr>\n",
       "  </thead>\n",
       "  <tbody>\n",
       "    <tr>\n",
       "      <th>2008-01-04 15:00:00</th>\n",
       "      <td>108.280</td>\n",
       "      <td>108.495</td>\n",
       "      <td>108.145</td>\n",
       "      <td>108.220</td>\n",
       "      <td>67464</td>\n",
       "    </tr>\n",
       "    <tr>\n",
       "      <th>2008-01-04 16:00:00</th>\n",
       "      <td>108.220</td>\n",
       "      <td>108.490</td>\n",
       "      <td>108.200</td>\n",
       "      <td>108.380</td>\n",
       "      <td>93299</td>\n",
       "    </tr>\n",
       "    <tr>\n",
       "      <th>2008-01-04 17:00:00</th>\n",
       "      <td>108.380</td>\n",
       "      <td>108.855</td>\n",
       "      <td>108.375</td>\n",
       "      <td>108.560</td>\n",
       "      <td>62697</td>\n",
       "    </tr>\n",
       "    <tr>\n",
       "      <th>2008-01-04 18:00:00</th>\n",
       "      <td>108.555</td>\n",
       "      <td>108.575</td>\n",
       "      <td>108.370</td>\n",
       "      <td>108.520</td>\n",
       "      <td>75523</td>\n",
       "    </tr>\n",
       "    <tr>\n",
       "      <th>2008-01-04 19:00:00</th>\n",
       "      <td>108.525</td>\n",
       "      <td>108.525</td>\n",
       "      <td>108.350</td>\n",
       "      <td>108.465</td>\n",
       "      <td>62660</td>\n",
       "    </tr>\n",
       "    <tr>\n",
       "      <th>...</th>\n",
       "      <td>...</td>\n",
       "      <td>...</td>\n",
       "      <td>...</td>\n",
       "      <td>...</td>\n",
       "      <td>...</td>\n",
       "    </tr>\n",
       "    <tr>\n",
       "      <th>2024-01-30 01:00:00</th>\n",
       "      <td>147.298</td>\n",
       "      <td>147.430</td>\n",
       "      <td>147.247</td>\n",
       "      <td>147.313</td>\n",
       "      <td>14953</td>\n",
       "    </tr>\n",
       "    <tr>\n",
       "      <th>2024-01-30 02:00:00</th>\n",
       "      <td>147.317</td>\n",
       "      <td>147.443</td>\n",
       "      <td>147.299</td>\n",
       "      <td>147.438</td>\n",
       "      <td>11702</td>\n",
       "    </tr>\n",
       "    <tr>\n",
       "      <th>2024-01-30 03:00:00</th>\n",
       "      <td>147.438</td>\n",
       "      <td>147.483</td>\n",
       "      <td>147.369</td>\n",
       "      <td>147.393</td>\n",
       "      <td>11595</td>\n",
       "    </tr>\n",
       "    <tr>\n",
       "      <th>2024-01-30 04:00:00</th>\n",
       "      <td>147.392</td>\n",
       "      <td>147.401</td>\n",
       "      <td>147.306</td>\n",
       "      <td>147.361</td>\n",
       "      <td>12097</td>\n",
       "    </tr>\n",
       "    <tr>\n",
       "      <th>2024-01-30 05:00:00</th>\n",
       "      <td>147.362</td>\n",
       "      <td>147.399</td>\n",
       "      <td>147.298</td>\n",
       "      <td>147.384</td>\n",
       "      <td>12806</td>\n",
       "    </tr>\n",
       "  </tbody>\n",
       "</table>\n",
       "<p>100000 rows × 5 columns</p>\n",
       "</div>"
      ],
      "text/plain": [
       "                        Open     High      Low    Close  Volume\n",
       "2008-01-04 15:00:00  108.280  108.495  108.145  108.220   67464\n",
       "2008-01-04 16:00:00  108.220  108.490  108.200  108.380   93299\n",
       "2008-01-04 17:00:00  108.380  108.855  108.375  108.560   62697\n",
       "2008-01-04 18:00:00  108.555  108.575  108.370  108.520   75523\n",
       "2008-01-04 19:00:00  108.525  108.525  108.350  108.465   62660\n",
       "...                      ...      ...      ...      ...     ...\n",
       "2024-01-30 01:00:00  147.298  147.430  147.247  147.313   14953\n",
       "2024-01-30 02:00:00  147.317  147.443  147.299  147.438   11702\n",
       "2024-01-30 03:00:00  147.438  147.483  147.369  147.393   11595\n",
       "2024-01-30 04:00:00  147.392  147.401  147.306  147.361   12097\n",
       "2024-01-30 05:00:00  147.362  147.399  147.298  147.384   12806\n",
       "\n",
       "[100000 rows x 5 columns]"
      ]
     },
     "execution_count": 4,
     "metadata": {},
     "output_type": "execute_result"
    }
   ],
   "source": [
    "data_csv"
   ]
  },
  {
   "cell_type": "code",
   "execution_count": null,
   "metadata": {},
   "outputs": [],
   "source": [
    "ticker = \"USDJPY=X\"\n",
    "data = yf.download(ticker, period=\"1y\", interval=\"1h\")\n"
   ]
  },
  {
   "cell_type": "code",
   "execution_count": null,
   "metadata": {},
   "outputs": [],
   "source": [
    "class EmaCrossover(Strategy):\n",
    "    upperbound = 70\n",
    "    upperbound2 = 60\n",
    "    lowerbound = 30\n",
    "    lowerbound2 = 40\n",
    "    \n",
    "    def init(self):\n",
    "    \n",
    "        self.rsi = self.I(ta.rsi, self.data.df['Close'], 14)\n",
    "\n",
    "    def next(self):\n",
    "        if crossover(self.rsi, self.upperbound):            \n",
    "            self.buy()\n",
    "        elif crossover(self.rsi, self.upperbound2):\n",
    "            self.position.close()\n",
    "        elif crossover(self.rsi, self.lowerbound):\n",
    "            self.sell()\n",
    "        elif crossover(self.rsi, self.lowerbound2):\n",
    "            self.position.close()\n"
   ]
  },
  {
   "cell_type": "code",
   "execution_count": null,
   "metadata": {},
   "outputs": [],
   "source": [
    "bt = Backtest(data, EmaCrossover, cash=10000, commission=.002)\n",
    "output = bt.run()\n",
    "print(output)\n",
    "bt.plot()"
   ]
  },
  {
   "cell_type": "code",
   "execution_count": null,
   "metadata": {},
   "outputs": [],
   "source": [
    "data_csv['emafast'] = ta.ema(close = data_csv['Close'], length=9)\n",
    "data_csv['emaslow'] = ta.ema(close = data_csv['Close'], length=15)"
   ]
  },
  {
   "cell_type": "code",
   "execution_count": null,
   "metadata": {},
   "outputs": [],
   "source": [
    "help(ta.rsi)"
   ]
  }
 ],
 "metadata": {
  "kernelspec": {
   "display_name": "venv",
   "language": "python",
   "name": "python3"
  },
  "language_info": {
   "codemirror_mode": {
    "name": "ipython",
    "version": 3
   },
   "file_extension": ".py",
   "mimetype": "text/x-python",
   "name": "python",
   "nbconvert_exporter": "python",
   "pygments_lexer": "ipython3",
   "version": "3.11.4"
  }
 },
 "nbformat": 4,
 "nbformat_minor": 2
}
