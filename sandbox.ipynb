{
 "cells": [
  {
   "cell_type": "code",
   "execution_count": 1,
   "metadata": {},
   "outputs": [],
   "source": [
    "import plotly_express as px\n",
    "import pandas as pd\n",
    "import matplotlib.pyplot as plt\n",
    "\n",
    "import yfinance as yf\n",
    "from backtesting import Backtest, Strategy\n",
    "import pandas_ta as ta\n",
    "\n",
    "from backtesting.lib import crossover\n",
    "import math"
   ]
  },
  {
   "cell_type": "code",
   "execution_count": 2,
   "metadata": {},
   "outputs": [
    {
     "name": "stderr",
     "output_type": "stream",
     "text": [
      "[*********************100%%**********************]  1 of 1 completed\n"
     ]
    }
   ],
   "source": [
    "# If you want to check if the strategy is executing trades correctly, use this to validate the data that can be run with the backtest and can handle the plot.\n",
    "ticker = \"usdjpy=X\"\n",
    "data = yf.download(ticker, period=\"1y\", interval=\"1h\")\n"
   ]
  },
  {
   "cell_type": "code",
   "execution_count": null,
   "metadata": {},
   "outputs": [],
   "source": [
    "# , delimiter='\\t', names=['Open', 'High', 'Low', 'Close', 'Volume'], header=0"
   ]
  },
  {
   "cell_type": "code",
   "execution_count": 5,
   "metadata": {},
   "outputs": [],
   "source": [
    "# Importing through a CSV that has more data which was downloaded externally.\n",
    "df = pd.read_csv('../Data/Darwinex/GBPJPY60.csv', header=None, names=['Date', 'Open', 'High', 'Low','Close','Volume'])\n",
    "# df.index = pd.to_datetime(df.index)\n"
   ]
  },
  {
   "cell_type": "code",
   "execution_count": 10,
   "metadata": {},
   "outputs": [
    {
     "data": {
      "text/html": [
       "<div>\n",
       "<style scoped>\n",
       "    .dataframe tbody tr th:only-of-type {\n",
       "        vertical-align: middle;\n",
       "    }\n",
       "\n",
       "    .dataframe tbody tr th {\n",
       "        vertical-align: top;\n",
       "    }\n",
       "\n",
       "    .dataframe thead th {\n",
       "        text-align: right;\n",
       "    }\n",
       "</style>\n",
       "<table border=\"1\" class=\"dataframe\">\n",
       "  <thead>\n",
       "    <tr style=\"text-align: right;\">\n",
       "      <th></th>\n",
       "      <th>2013.08.21</th>\n",
       "      <th>09:00</th>\n",
       "      <th>152.669</th>\n",
       "      <th>152.850</th>\n",
       "      <th>152.573</th>\n",
       "      <th>152.823</th>\n",
       "      <th>4543</th>\n",
       "    </tr>\n",
       "  </thead>\n",
       "  <tbody>\n",
       "    <tr>\n",
       "      <th>0</th>\n",
       "      <td>2013.08.21</td>\n",
       "      <td>10:00</td>\n",
       "      <td>152.824</td>\n",
       "      <td>152.947</td>\n",
       "      <td>152.419</td>\n",
       "      <td>152.864</td>\n",
       "      <td>5086</td>\n",
       "    </tr>\n",
       "    <tr>\n",
       "      <th>1</th>\n",
       "      <td>2013.08.21</td>\n",
       "      <td>11:00</td>\n",
       "      <td>152.872</td>\n",
       "      <td>152.991</td>\n",
       "      <td>152.706</td>\n",
       "      <td>152.829</td>\n",
       "      <td>3732</td>\n",
       "    </tr>\n",
       "    <tr>\n",
       "      <th>2</th>\n",
       "      <td>2013.08.21</td>\n",
       "      <td>12:00</td>\n",
       "      <td>152.828</td>\n",
       "      <td>152.961</td>\n",
       "      <td>152.683</td>\n",
       "      <td>152.713</td>\n",
       "      <td>3534</td>\n",
       "    </tr>\n",
       "    <tr>\n",
       "      <th>3</th>\n",
       "      <td>2013.08.21</td>\n",
       "      <td>13:00</td>\n",
       "      <td>152.712</td>\n",
       "      <td>153.005</td>\n",
       "      <td>152.646</td>\n",
       "      <td>152.956</td>\n",
       "      <td>3639</td>\n",
       "    </tr>\n",
       "    <tr>\n",
       "      <th>4</th>\n",
       "      <td>2013.08.21</td>\n",
       "      <td>14:00</td>\n",
       "      <td>152.958</td>\n",
       "      <td>153.058</td>\n",
       "      <td>152.925</td>\n",
       "      <td>152.952</td>\n",
       "      <td>3292</td>\n",
       "    </tr>\n",
       "    <tr>\n",
       "      <th>...</th>\n",
       "      <td>...</td>\n",
       "      <td>...</td>\n",
       "      <td>...</td>\n",
       "      <td>...</td>\n",
       "      <td>...</td>\n",
       "      <td>...</td>\n",
       "      <td>...</td>\n",
       "    </tr>\n",
       "    <tr>\n",
       "      <th>64996</th>\n",
       "      <td>2024.02.15</td>\n",
       "      <td>22:00</td>\n",
       "      <td>188.881</td>\n",
       "      <td>188.962</td>\n",
       "      <td>188.874</td>\n",
       "      <td>188.889</td>\n",
       "      <td>6730</td>\n",
       "    </tr>\n",
       "    <tr>\n",
       "      <th>64997</th>\n",
       "      <td>2024.02.15</td>\n",
       "      <td>23:00</td>\n",
       "      <td>188.891</td>\n",
       "      <td>188.949</td>\n",
       "      <td>188.867</td>\n",
       "      <td>188.905</td>\n",
       "      <td>3795</td>\n",
       "    </tr>\n",
       "    <tr>\n",
       "      <th>64998</th>\n",
       "      <td>2024.02.16</td>\n",
       "      <td>00:00</td>\n",
       "      <td>188.727</td>\n",
       "      <td>188.900</td>\n",
       "      <td>188.719</td>\n",
       "      <td>188.840</td>\n",
       "      <td>1501</td>\n",
       "    </tr>\n",
       "    <tr>\n",
       "      <th>64999</th>\n",
       "      <td>2024.02.16</td>\n",
       "      <td>01:00</td>\n",
       "      <td>188.841</td>\n",
       "      <td>188.953</td>\n",
       "      <td>188.812</td>\n",
       "      <td>188.928</td>\n",
       "      <td>3260</td>\n",
       "    </tr>\n",
       "    <tr>\n",
       "      <th>65000</th>\n",
       "      <td>2024.02.16</td>\n",
       "      <td>02:00</td>\n",
       "      <td>188.920</td>\n",
       "      <td>189.027</td>\n",
       "      <td>188.895</td>\n",
       "      <td>188.916</td>\n",
       "      <td>3254</td>\n",
       "    </tr>\n",
       "  </tbody>\n",
       "</table>\n",
       "<p>65001 rows × 7 columns</p>\n",
       "</div>"
      ],
      "text/plain": [
       "       2013.08.21  09:00  152.669  152.850  152.573  152.823  4543\n",
       "0      2013.08.21  10:00  152.824  152.947  152.419  152.864  5086\n",
       "1      2013.08.21  11:00  152.872  152.991  152.706  152.829  3732\n",
       "2      2013.08.21  12:00  152.828  152.961  152.683  152.713  3534\n",
       "3      2013.08.21  13:00  152.712  153.005  152.646  152.956  3639\n",
       "4      2013.08.21  14:00  152.958  153.058  152.925  152.952  3292\n",
       "...           ...    ...      ...      ...      ...      ...   ...\n",
       "64996  2024.02.15  22:00  188.881  188.962  188.874  188.889  6730\n",
       "64997  2024.02.15  23:00  188.891  188.949  188.867  188.905  3795\n",
       "64998  2024.02.16  00:00  188.727  188.900  188.719  188.840  1501\n",
       "64999  2024.02.16  01:00  188.841  188.953  188.812  188.928  3260\n",
       "65000  2024.02.16  02:00  188.920  189.027  188.895  188.916  3254\n",
       "\n",
       "[65001 rows x 7 columns]"
      ]
     },
     "execution_count": 10,
     "metadata": {},
     "output_type": "execute_result"
    }
   ],
   "source": [
    "df"
   ]
  },
  {
   "cell_type": "code",
   "execution_count": null,
   "metadata": {},
   "outputs": [],
   "source": [
    "df['ATR'] = ta.atr(pd.Series(df.High), \n",
    "                          pd.Series(df.Low), \n",
    "                          pd.Series(df.Close), \n",
    "                          length=14)\n",
    "\n",
    "df['ATR']  = round(df['ATR'], 4)"
   ]
  },
  {
   "cell_type": "code",
   "execution_count": null,
   "metadata": {},
   "outputs": [],
   "source": [
    "# csv slice by date\n",
    "start_date = '2023-01-01'\n",
    "end_date = '2023-01-01'\n",
    "df = df.loc[start_date:end_date]"
   ]
  },
  {
   "cell_type": "markdown",
   "metadata": {},
   "source": [
    "# Write out strategy here to figure out the logic"
   ]
  },
  {
   "cell_type": "code",
   "execution_count": null,
   "metadata": {},
   "outputs": [],
   "source": [
    "class Strat(Strategy):\n",
    "    def init(self):\n",
    "        pass\n",
    "\n",
    "    def next(self):\n",
    "        pass\n",
    "\n",
    "bt = Backtest(df_slice, Strat, cash=10_000)\n",
    "bt.run()\n",
    "bt.plot()"
   ]
  },
  {
   "cell_type": "code",
   "execution_count": null,
   "metadata": {},
   "outputs": [],
   "source": [
    "# Position sizing for JPY pairs\n",
    "# position sizing logic\n",
    "        account_balance = math.floor(self.equity)\n",
    "        risk_per_trade = account_balance * 0.01\n",
    "        stop_loss = self.data.Low[-1] - self.atr[-1]\n",
    "        stop_in_pips = abs(current_close - stop_loss) * 100  # Calculate stop loss in pips        \n",
    "        # Adjust position size based on the risk per trade and stop loss distance\n",
    "        position_size = math.floor((risk_per_trade / (stop_in_pips * 10)) * 1000) \n",
    "        take_profit = ((stop_in_pips / 100) * 1.2) + current_close\n",
    "        result = position_size "
   ]
  },
  {
   "cell_type": "code",
   "execution_count": null,
   "metadata": {},
   "outputs": [],
   "source": [
    "# position sizing logic for pairs != JPY\n",
    "        account_balance = math.floor(self.equity)\n",
    "        dollar_risk_per_trade = account_balance * 0.01\n",
    "        stop_loss = self.data.Low[-1] - self.atr[-1]\n",
    "        stop_in_pips = round((current_close - stop_loss) * 10000, 2)  # Pips calculation is correct\n",
    "        print(stop_in_pips * position_size)\n",
    "        # Corrected position size calculation\n",
    "        position_size = math.floor((dollar_risk_per_trade / (stop_in_pips * 10)) * 1000)"
   ]
  },
  {
   "cell_type": "code",
   "execution_count": 5,
   "metadata": {},
   "outputs": [],
   "source": [
    "class Strat(Strategy):\n",
    "    def init(self):\n",
    "        # Calculate the 50-period EMA and 14-period ATR and check engulfing        \n",
    "        self.ema = self.I(ta.ema, pd.Series(self.data.Close), length=50)\n",
    "        self.atr = self.I(ta.atr, \n",
    "                          pd.Series(self.data.High), \n",
    "                          pd.Series(self.data.Low), \n",
    "                          pd.Series(self.data.Close), \n",
    "                          length=14)\n",
    "               \n",
    "        self.pullback = False\n",
    "        self.pullback_count = 0\n",
    "        self.consolidation_high = 0    \n",
    "\n",
    "        self.position_status = False\n",
    "\n",
    "        self.custom_trades_log = []\n",
    "        \n",
    "    def next(self):\n",
    "        \n",
    "        current_ema = self.ema[-1]\n",
    "        current_close = self.data.Close[-1]\n",
    "        current_open = self.data.Open[-1]\n",
    "        current_high = self.data.High[-1]        \n",
    "        \n",
    "        # Buy logic\n",
    "        if crossover(current_close, current_ema) or (current_close < current_ema):\n",
    "            self.pullback = False\n",
    "            self.pullback_count = 0\n",
    "            self.consolidation_high = 0\n",
    "\n",
    "        # Pullback logic\n",
    "        if current_high > self.consolidation_high:\n",
    "            self.consolidation_high = max(self.consolidation_high, current_high)\n",
    "        if current_high < self.consolidation_high:\n",
    "            if current_close < self.consolidation_high and current_close < current_open:\n",
    "                self.pullback_count += 1\n",
    "\n",
    "            if self.pullback_count >= 2:\n",
    "                self.pullback = True\n",
    "            if not self.position:\n",
    "                if current_close < self.consolidation_high and self.pullback:\n",
    "                    if current_close > self.data.High[-2]:\n",
    "                        self.pullback = False\n",
    "                        self.pullback_count = 0\n",
    "                        self.consolidation_high = 0\n",
    "                        sl = self.data.Low[-1] - self.atr[-1]\n",
    "                        sl_pips = self.data.Close - sl\n",
    "                        tp = self.data.Close[-1] + (sl_pips * 1.2)\n",
    "                        \n",
    "                        # Log the initiation of a trade\n",
    "                        self.custom_trades_log.append({\n",
    "                            'entry_time': self.data.index[-1],\n",
    "                            'entry_price': current_close,\n",
    "                            'direction': 'BUY',\n",
    "                            'sl': sl,\n",
    "                            'tp': tp,\n",
    "                            'exit_time': None,  # To be merged from backtesting _trades\n",
    "                            'exit_price': None,  # To be merged from backtesting _trades\n",
    "                        })\n",
    "                        \n",
    "                        # Execute the trade\n",
    "                        self.buy(sl=sl, tp=tp)        \n",
    "                    "
   ]
  },
  {
   "cell_type": "code",
   "execution_count": 40,
   "metadata": {},
   "outputs": [
    {
     "name": "stdout",
     "output_type": "stream",
     "text": [
      "Start                     2008-01-25 02:00:00\n",
      "End                       2024-02-02 19:00:00\n",
      "Duration                   5852 days 17:00:00\n",
      "Exposure Time [%]                       0.949\n",
      "Equity Final [$]                     2.249233\n",
      "Equity Peak [$]                     114445.12\n",
      "Return [%]                         -99.997751\n",
      "Buy & Hold Return [%]              -11.587313\n",
      "Return (Ann.) [%]                  -41.620983\n",
      "Volatility (Ann.) [%]               42.259608\n",
      "Sharpe Ratio                              0.0\n",
      "Sortino Ratio                             0.0\n",
      "Calmar Ratio                              0.0\n",
      "Max. Drawdown [%]                  -99.998035\n",
      "Avg. Drawdown [%]                  -39.568473\n",
      "Max. Drawdown Duration     5847 days 05:00:00\n",
      "Avg. Drawdown Duration     1949 days 05:00:00\n",
      "# Trades                                   73\n",
      "Win Rate [%]                        34.246575\n",
      "Best Trade [%]                       3.159005\n",
      "Worst Trade [%]                     -1.761257\n",
      "Avg. Trade [%]                      -0.143107\n",
      "Max. Trade Duration           5 days 12:00:00\n",
      "Avg. Trade Duration           0 days 16:00:00\n",
      "Profit Factor                        0.602635\n",
      "Expectancy [%]                       -0.14058\n",
      "SQN                                 -2.170358\n",
      "_strategy                               Strat\n",
      "_equity_curve                             ...\n",
      "_trades                        Size  Entry...\n",
      "dtype: object\n"
     ]
    }
   ],
   "source": [
    "bt = Backtest(df, Strat, cash=100000, margin=0.02)\n",
    "stats = bt.run()\n",
    "print(stats)\n"
   ]
  },
  {
   "cell_type": "code",
   "execution_count": null,
   "metadata": {},
   "outputs": [],
   "source": [
    "stats._trades"
   ]
  },
  {
   "cell_type": "code",
   "execution_count": 8,
   "metadata": {},
   "outputs": [
    {
     "name": "stderr",
     "output_type": "stream",
     "text": [
      "BokehDeprecationWarning: Passing lists of formats for DatetimeTickFormatter scales was deprecated in Bokeh 3.0. Configure a single string format for each scale\n",
      "d:\\Apps\\Backtesting\\sandbox\\venv\\Lib\\site-packages\\backtesting\\_plotting.py:250: UserWarning: DatetimeFormatter scales now only accept a single format. Using the first provided: '%d %b'\n",
      "  formatter=DatetimeTickFormatter(days=['%d %b', '%a %d'],\n",
      "BokehDeprecationWarning: Passing lists of formats for DatetimeTickFormatter scales was deprecated in Bokeh 3.0. Configure a single string format for each scale\n",
      "d:\\Apps\\Backtesting\\sandbox\\venv\\Lib\\site-packages\\backtesting\\_plotting.py:250: UserWarning: DatetimeFormatter scales now only accept a single format. Using the first provided: '%m/%Y'\n",
      "  formatter=DatetimeTickFormatter(days=['%d %b', '%a %d'],\n",
      "d:\\Apps\\Backtesting\\sandbox\\venv\\Lib\\site-packages\\backtesting\\_plotting.py:659: UserWarning: found multiple competing values for 'toolbar.active_drag' property; using the latest value\n",
      "  fig = gridplot(\n",
      "d:\\Apps\\Backtesting\\sandbox\\venv\\Lib\\site-packages\\backtesting\\_plotting.py:659: UserWarning: found multiple competing values for 'toolbar.active_scroll' property; using the latest value\n",
      "  fig = gridplot(\n"
     ]
    },
    {
     "data": {
      "text/html": [
       "<div style=\"display: table;\"><div style=\"display: table-row;\"><div style=\"display: table-cell;\"><b title=\"bokeh.models.plots.GridPlot\">GridPlot</b>(</div><div style=\"display: table-cell;\">id&nbsp;=&nbsp;'p1360', <span id=\"p1392\" style=\"cursor: pointer;\">&hellip;)</span></div></div><div class=\"p1391\" style=\"display: none;\"><div style=\"display: table-cell;\"></div><div style=\"display: table-cell;\">align&nbsp;=&nbsp;'auto',</div></div><div class=\"p1391\" style=\"display: none;\"><div style=\"display: table-cell;\"></div><div style=\"display: table-cell;\">aspect_ratio&nbsp;=&nbsp;None,</div></div><div class=\"p1391\" style=\"display: none;\"><div style=\"display: table-cell;\"></div><div style=\"display: table-cell;\">children&nbsp;=&nbsp;[(figure(id='p1046', ...), 0, 0), (figure(id='p1143', ...), 1, 0), (figure(id='p1002', ...), 2, 0), (figure(id='p1198', ...), 3, 0), (figure(id='p1303', ...), 4, 0)],</div></div><div class=\"p1391\" style=\"display: none;\"><div style=\"display: table-cell;\"></div><div style=\"display: table-cell;\">cols&nbsp;=&nbsp;None,</div></div><div class=\"p1391\" style=\"display: none;\"><div style=\"display: table-cell;\"></div><div style=\"display: table-cell;\">context_menu&nbsp;=&nbsp;None,</div></div><div class=\"p1391\" style=\"display: none;\"><div style=\"display: table-cell;\"></div><div style=\"display: table-cell;\">css_classes&nbsp;=&nbsp;[],</div></div><div class=\"p1391\" style=\"display: none;\"><div style=\"display: table-cell;\"></div><div style=\"display: table-cell;\">disabled&nbsp;=&nbsp;False,</div></div><div class=\"p1391\" style=\"display: none;\"><div style=\"display: table-cell;\"></div><div style=\"display: table-cell;\">flow_mode&nbsp;=&nbsp;'block',</div></div><div class=\"p1391\" style=\"display: none;\"><div style=\"display: table-cell;\"></div><div style=\"display: table-cell;\">height&nbsp;=&nbsp;None,</div></div><div class=\"p1391\" style=\"display: none;\"><div style=\"display: table-cell;\"></div><div style=\"display: table-cell;\">height_policy&nbsp;=&nbsp;'auto',</div></div><div class=\"p1391\" style=\"display: none;\"><div style=\"display: table-cell;\"></div><div style=\"display: table-cell;\">js_event_callbacks&nbsp;=&nbsp;{},</div></div><div class=\"p1391\" style=\"display: none;\"><div style=\"display: table-cell;\"></div><div style=\"display: table-cell;\">js_property_callbacks&nbsp;=&nbsp;{},</div></div><div class=\"p1391\" style=\"display: none;\"><div style=\"display: table-cell;\"></div><div style=\"display: table-cell;\">margin&nbsp;=&nbsp;None,</div></div><div class=\"p1391\" style=\"display: none;\"><div style=\"display: table-cell;\"></div><div style=\"display: table-cell;\">max_height&nbsp;=&nbsp;None,</div></div><div class=\"p1391\" style=\"display: none;\"><div style=\"display: table-cell;\"></div><div style=\"display: table-cell;\">max_width&nbsp;=&nbsp;None,</div></div><div class=\"p1391\" style=\"display: none;\"><div style=\"display: table-cell;\"></div><div style=\"display: table-cell;\">min_height&nbsp;=&nbsp;None,</div></div><div class=\"p1391\" style=\"display: none;\"><div style=\"display: table-cell;\"></div><div style=\"display: table-cell;\">min_width&nbsp;=&nbsp;None,</div></div><div class=\"p1391\" style=\"display: none;\"><div style=\"display: table-cell;\"></div><div style=\"display: table-cell;\">name&nbsp;=&nbsp;None,</div></div><div class=\"p1391\" style=\"display: none;\"><div style=\"display: table-cell;\"></div><div style=\"display: table-cell;\">resizable&nbsp;=&nbsp;False,</div></div><div class=\"p1391\" style=\"display: none;\"><div style=\"display: table-cell;\"></div><div style=\"display: table-cell;\">rows&nbsp;=&nbsp;None,</div></div><div class=\"p1391\" style=\"display: none;\"><div style=\"display: table-cell;\"></div><div style=\"display: table-cell;\">sizing_mode&nbsp;=&nbsp;'stretch_width',</div></div><div class=\"p1391\" style=\"display: none;\"><div style=\"display: table-cell;\"></div><div style=\"display: table-cell;\">spacing&nbsp;=&nbsp;0,</div></div><div class=\"p1391\" style=\"display: none;\"><div style=\"display: table-cell;\"></div><div style=\"display: table-cell;\">styles&nbsp;=&nbsp;{},</div></div><div class=\"p1391\" style=\"display: none;\"><div style=\"display: table-cell;\"></div><div style=\"display: table-cell;\">stylesheets&nbsp;=&nbsp;[],</div></div><div class=\"p1391\" style=\"display: none;\"><div style=\"display: table-cell;\"></div><div style=\"display: table-cell;\">subscribed_events&nbsp;=&nbsp;PropertyValueSet(),</div></div><div class=\"p1391\" style=\"display: none;\"><div style=\"display: table-cell;\"></div><div style=\"display: table-cell;\">syncable&nbsp;=&nbsp;True,</div></div><div class=\"p1391\" style=\"display: none;\"><div style=\"display: table-cell;\"></div><div style=\"display: table-cell;\">tags&nbsp;=&nbsp;[],</div></div><div class=\"p1391\" style=\"display: none;\"><div style=\"display: table-cell;\"></div><div style=\"display: table-cell;\">toolbar&nbsp;=&nbsp;Toolbar(id='p1359', ...),</div></div><div class=\"p1391\" style=\"display: none;\"><div style=\"display: table-cell;\"></div><div style=\"display: table-cell;\">toolbar_location&nbsp;=&nbsp;'right',</div></div><div class=\"p1391\" style=\"display: none;\"><div style=\"display: table-cell;\"></div><div style=\"display: table-cell;\">visible&nbsp;=&nbsp;True,</div></div><div class=\"p1391\" style=\"display: none;\"><div style=\"display: table-cell;\"></div><div style=\"display: table-cell;\">width&nbsp;=&nbsp;None,</div></div><div class=\"p1391\" style=\"display: none;\"><div style=\"display: table-cell;\"></div><div style=\"display: table-cell;\">width_policy&nbsp;=&nbsp;'auto')</div></div></div>\n",
       "<script>\n",
       "(function() {\n",
       "  let expanded = false;\n",
       "  const ellipsis = document.getElementById(\"p1392\");\n",
       "  ellipsis.addEventListener(\"click\", function() {\n",
       "    const rows = document.getElementsByClassName(\"p1391\");\n",
       "    for (let i = 0; i < rows.length; i++) {\n",
       "      const el = rows[i];\n",
       "      el.style.display = expanded ? \"none\" : \"table-row\";\n",
       "    }\n",
       "    ellipsis.innerHTML = expanded ? \"&hellip;)\" : \"&lsaquo;&lsaquo;&lsaquo;\";\n",
       "    expanded = !expanded;\n",
       "  });\n",
       "})();\n",
       "</script>\n"
      ],
      "text/plain": [
       "GridPlot(id='p1360', ...)"
      ]
     },
     "execution_count": 8,
     "metadata": {},
     "output_type": "execute_result"
    }
   ],
   "source": [
    "bt.plot()"
   ]
  },
  {
   "cell_type": "markdown",
   "metadata": {},
   "source": [
    "\n",
    "### Merge the _trades to my custom trade log to perform additional analysis"
   ]
  },
  {
   "cell_type": "code",
   "execution_count": 9,
   "metadata": {},
   "outputs": [],
   "source": [
    "# Creates the custom trade log into a df and merges the exit information from _trades to this custom df.\n",
    "custom_df = pd.DataFrame(stats._strategy.custom_trades_log)\n",
    "custom_df['exit_time'] = stats._trades['ExitTime']\n",
    "custom_df['exit_price'] = stats._trades['ExitPrice']\n"
   ]
  },
  {
   "cell_type": "code",
   "execution_count": 10,
   "metadata": {},
   "outputs": [],
   "source": [
    "# Pips calculations\n",
    "custom_df['stop_pips'] = round((custom_df['entry_price'] - custom_df['sl']) * 100, 2)\n",
    "custom_df['result_pips'] = round((custom_df['exit_price'] - custom_df['entry_price']) * 100, 2)\n",
    "custom_df['rr'] = round(custom_df['result_pips'] / custom_df['stop_pips'], 2)\n"
   ]
  },
  {
   "cell_type": "code",
   "execution_count": 15,
   "metadata": {},
   "outputs": [],
   "source": [
    "initial_equity = 100000.0\n",
    "# Initialize account equity and risk for the first row only\n",
    "custom_df.at[0, 'account_equity'] = initial_equity\n",
    "custom_df.at[0, 'risk'] = initial_equity * 0.01\n",
    "custom_df['pnl'] = 0.0  # Initialize pnl column\n",
    "\n",
    "for index, row in custom_df.iterrows():\n",
    "    # Calculate pnl from the first row\n",
    "    if index > 0:\n",
    "        # Use previous row's account equity to calculate risk for the current trade\n",
    "        custom_df.at[index, 'risk'] = custom_df.at[index - 1, 'account_equity'] * 0.01\n",
    "    \n",
    "    # pnl calculation includes the first trade\n",
    "    pnl = custom_df.at[index, 'risk'] * row['rr']\n",
    "    custom_df.at[index, 'pnl'] = pnl\n",
    "    \n",
    "    \n",
    "    if index == 0:\n",
    "        custom_df.at[index, 'account_equity'] += pnl  \n",
    "    else:\n",
    "        custom_df.at[index, 'account_equity'] = custom_df.at[index - 1, 'account_equity'] + pnl\n",
    "\n",
    "# Ensure data types\n",
    "custom_df['account_equity'] = custom_df['account_equity'].astype(float)\n",
    "custom_df['risk'] = custom_df['risk'].astype(float)\n",
    "custom_df['pnl'] = custom_df['pnl'].astype(float)\n"
   ]
  },
  {
   "cell_type": "code",
   "execution_count": 16,
   "metadata": {},
   "outputs": [
    {
     "data": {
      "text/html": [
       "<div>\n",
       "<style scoped>\n",
       "    .dataframe tbody tr th:only-of-type {\n",
       "        vertical-align: middle;\n",
       "    }\n",
       "\n",
       "    .dataframe tbody tr th {\n",
       "        vertical-align: top;\n",
       "    }\n",
       "\n",
       "    .dataframe thead th {\n",
       "        text-align: right;\n",
       "    }\n",
       "</style>\n",
       "<table border=\"1\" class=\"dataframe\">\n",
       "  <thead>\n",
       "    <tr style=\"text-align: right;\">\n",
       "      <th></th>\n",
       "      <th>entry_time</th>\n",
       "      <th>entry_price</th>\n",
       "      <th>direction</th>\n",
       "      <th>sl</th>\n",
       "      <th>tp</th>\n",
       "      <th>exit_time</th>\n",
       "      <th>exit_price</th>\n",
       "      <th>stop_pips</th>\n",
       "      <th>result_pips</th>\n",
       "      <th>rr</th>\n",
       "      <th>account_equity</th>\n",
       "      <th>risk</th>\n",
       "      <th>pnl</th>\n",
       "    </tr>\n",
       "  </thead>\n",
       "  <tbody>\n",
       "    <tr>\n",
       "      <th>0</th>\n",
       "      <td>2023-02-21 21:00:00+00:00</td>\n",
       "      <td>134.992996</td>\n",
       "      <td>BUY</td>\n",
       "      <td>134.704838</td>\n",
       "      <td>[134.13638772752935, 134.03798684862312, 134.2...</td>\n",
       "      <td>2023-02-22 00:00:00+00:00</td>\n",
       "      <td>134.704838</td>\n",
       "      <td>28.82</td>\n",
       "      <td>-28.82</td>\n",
       "      <td>-1.0</td>\n",
       "      <td>99000.000000</td>\n",
       "      <td>1000.000000</td>\n",
       "      <td>-1000.000000</td>\n",
       "    </tr>\n",
       "    <tr>\n",
       "      <th>1</th>\n",
       "      <td>2023-02-22 08:00:00+00:00</td>\n",
       "      <td>134.914993</td>\n",
       "      <td>BUY</td>\n",
       "      <td>134.377014</td>\n",
       "      <td>[134.45177353928383, 134.3533726603776, 134.58...</td>\n",
       "      <td>2023-02-22 12:00:00+00:00</td>\n",
       "      <td>134.377014</td>\n",
       "      <td>53.80</td>\n",
       "      <td>-53.80</td>\n",
       "      <td>-1.0</td>\n",
       "      <td>98010.000000</td>\n",
       "      <td>990.000000</td>\n",
       "      <td>-990.000000</td>\n",
       "    </tr>\n",
       "    <tr>\n",
       "      <th>2</th>\n",
       "      <td>2023-02-22 23:00:00+00:00</td>\n",
       "      <td>134.936996</td>\n",
       "      <td>BUY</td>\n",
       "      <td>134.607890</td>\n",
       "      <td>[134.19672565312084, 134.09832477421457, 134.3...</td>\n",
       "      <td>2023-02-23 13:00:00+00:00</td>\n",
       "      <td>135.331925</td>\n",
       "      <td>32.91</td>\n",
       "      <td>39.49</td>\n",
       "      <td>1.2</td>\n",
       "      <td>99186.120000</td>\n",
       "      <td>980.100000</td>\n",
       "      <td>1176.120000</td>\n",
       "    </tr>\n",
       "    <tr>\n",
       "      <th>3</th>\n",
       "      <td>2023-02-24 21:00:00+00:00</td>\n",
       "      <td>136.485001</td>\n",
       "      <td>BUY</td>\n",
       "      <td>136.141605</td>\n",
       "      <td>[133.90427170320032, 133.8058708242941, 134.03...</td>\n",
       "      <td>2023-02-27 00:00:00+00:00</td>\n",
       "      <td>136.141605</td>\n",
       "      <td>34.34</td>\n",
       "      <td>-34.34</td>\n",
       "      <td>-1.0</td>\n",
       "      <td>98194.258800</td>\n",
       "      <td>991.861200</td>\n",
       "      <td>-991.861200</td>\n",
       "    </tr>\n",
       "    <tr>\n",
       "      <th>4</th>\n",
       "      <td>2023-02-27 09:00:00+00:00</td>\n",
       "      <td>136.384995</td>\n",
       "      <td>BUY</td>\n",
       "      <td>135.977285</td>\n",
       "      <td>[134.0014490092265, 133.90304813032026, 134.13...</td>\n",
       "      <td>2023-02-27 13:00:00+00:00</td>\n",
       "      <td>135.977285</td>\n",
       "      <td>40.77</td>\n",
       "      <td>-40.77</td>\n",
       "      <td>-1.0</td>\n",
       "      <td>97212.316212</td>\n",
       "      <td>981.942588</td>\n",
       "      <td>-981.942588</td>\n",
       "    </tr>\n",
       "  </tbody>\n",
       "</table>\n",
       "</div>"
      ],
      "text/plain": [
       "                 entry_time  entry_price direction          sl  \\\n",
       "0 2023-02-21 21:00:00+00:00   134.992996       BUY  134.704838   \n",
       "1 2023-02-22 08:00:00+00:00   134.914993       BUY  134.377014   \n",
       "2 2023-02-22 23:00:00+00:00   134.936996       BUY  134.607890   \n",
       "3 2023-02-24 21:00:00+00:00   136.485001       BUY  136.141605   \n",
       "4 2023-02-27 09:00:00+00:00   136.384995       BUY  135.977285   \n",
       "\n",
       "                                                  tp  \\\n",
       "0  [134.13638772752935, 134.03798684862312, 134.2...   \n",
       "1  [134.45177353928383, 134.3533726603776, 134.58...   \n",
       "2  [134.19672565312084, 134.09832477421457, 134.3...   \n",
       "3  [133.90427170320032, 133.8058708242941, 134.03...   \n",
       "4  [134.0014490092265, 133.90304813032026, 134.13...   \n",
       "\n",
       "                  exit_time  exit_price  stop_pips  result_pips   rr  \\\n",
       "0 2023-02-22 00:00:00+00:00  134.704838      28.82       -28.82 -1.0   \n",
       "1 2023-02-22 12:00:00+00:00  134.377014      53.80       -53.80 -1.0   \n",
       "2 2023-02-23 13:00:00+00:00  135.331925      32.91        39.49  1.2   \n",
       "3 2023-02-27 00:00:00+00:00  136.141605      34.34       -34.34 -1.0   \n",
       "4 2023-02-27 13:00:00+00:00  135.977285      40.77       -40.77 -1.0   \n",
       "\n",
       "   account_equity         risk          pnl  \n",
       "0    99000.000000  1000.000000 -1000.000000  \n",
       "1    98010.000000   990.000000  -990.000000  \n",
       "2    99186.120000   980.100000  1176.120000  \n",
       "3    98194.258800   991.861200  -991.861200  \n",
       "4    97212.316212   981.942588  -981.942588  "
      ]
     },
     "execution_count": 16,
     "metadata": {},
     "output_type": "execute_result"
    }
   ],
   "source": [
    "custom_df.head()"
   ]
  },
  {
   "cell_type": "code",
   "execution_count": 29,
   "metadata": {},
   "outputs": [],
   "source": [
    "total_trades = len(custom_df)\n",
    "winning_trades = (custom_df['rr'] > 0).sum()\n",
    "win_rate = f'{round((winning_trades / total_trades) * 100, 2)}%'\n",
    "average_win_r = round(custom_df[custom_df['rr'] > 0]['rr'].mean(), 2)\n"
   ]
  },
  {
   "cell_type": "code",
   "execution_count": 38,
   "metadata": {},
   "outputs": [
    {
     "data": {
      "text/plain": [
       "1.2"
      ]
     },
     "execution_count": 38,
     "metadata": {},
     "output_type": "execute_result"
    }
   ],
   "source": [
    "\n",
    "average_rr\n"
   ]
  },
  {
   "cell_type": "code",
   "execution_count": null,
   "metadata": {},
   "outputs": [],
   "source": []
  },
  {
   "cell_type": "code",
   "execution_count": null,
   "metadata": {},
   "outputs": [],
   "source": [
    "\n",
    "# plot own equity curve based on backtesting data for data more than 10K\n",
    "equity_curve = stats._equity_curve['Equity']\n",
    "\n",
    "plt.figure(figsize=(10, 6))\n",
    "plt.plot(equity_curve, label='Equity Curve', lw=1)  # lw is line width\n",
    "plt.title('Equity Curve')\n",
    "plt.xlabel('Time')\n",
    "plt.ylabel('Equity')\n",
    "plt.legend()\n",
    "plt.grid(False)\n",
    "plt.show()\n"
   ]
  },
  {
   "cell_type": "code",
   "execution_count": 33,
   "metadata": {},
   "outputs": [
    {
     "data": {
      "application/vnd.plotly.v1+json": {
       "config": {
        "plotlyServerURL": "https://plot.ly"
       },
       "data": [
        {
         "hovertemplate": "entry_time=%{x}<br>account_equity=%{y}<extra></extra>",
         "legendgroup": "",
         "line": {
          "color": "#636efa",
          "dash": "solid"
         },
         "marker": {
          "symbol": "circle"
         },
         "mode": "lines",
         "name": "",
         "orientation": "v",
         "showlegend": false,
         "type": "scatter",
         "x": [
          "2023-02-21T21:00:00+00:00",
          "2023-02-22T08:00:00+00:00",
          "2023-02-22T23:00:00+00:00",
          "2023-02-24T21:00:00+00:00",
          "2023-02-27T09:00:00+00:00",
          "2023-02-27T19:00:00+00:00",
          "2023-02-28T11:00:00+00:00",
          "2023-03-01T05:00:00+00:00",
          "2023-03-02T10:00:00+00:00",
          "2023-03-16T20:00:00+00:00",
          "2023-03-22T04:00:00+00:00",
          "2023-03-27T17:00:00+01:00",
          "2023-03-30T09:00:00+01:00",
          "2023-03-31T06:00:00+01:00",
          "2023-03-31T18:00:00+01:00",
          "2023-04-06T18:00:00+01:00",
          "2023-04-10T04:00:00+01:00",
          "2023-04-10T11:00:00+01:00",
          "2023-04-11T02:00:00+01:00",
          "2023-04-11T12:00:00+01:00",
          "2023-04-17T21:00:00+01:00",
          "2023-04-19T15:00:00+01:00",
          "2023-04-28T18:00:00+01:00",
          "2023-05-01T12:00:00+01:00",
          "2023-05-02T04:00:00+01:00",
          "2023-05-05T20:00:00+01:00",
          "2023-05-08T08:00:00+01:00",
          "2023-05-15T03:00:00+01:00",
          "2023-05-16T21:00:00+01:00",
          "2023-05-18T03:00:00+01:00",
          "2023-05-19T11:00:00+01:00",
          "2023-05-23T11:00:00+01:00",
          "2023-05-24T00:00:00+01:00",
          "2023-05-25T01:00:00+01:00",
          "2023-05-26T12:00:00+01:00",
          "2023-05-29T04:00:00+01:00",
          "2023-05-29T08:00:00+01:00",
          "2023-05-29T15:00:00+01:00",
          "2023-06-08T06:00:00+01:00",
          "2023-06-14T05:00:00+01:00",
          "2023-06-15T12:00:00+01:00",
          "2023-06-16T13:00:00+01:00",
          "2023-06-20T05:00:00+01:00",
          "2023-06-21T21:00:00+01:00",
          "2023-06-23T10:00:00+01:00",
          "2023-06-26T07:00:00+01:00",
          "2023-06-27T01:00:00+01:00",
          "2023-06-28T03:00:00+01:00",
          "2023-06-28T19:00:00+01:00",
          "2023-06-29T17:00:00+01:00",
          "2023-06-30T08:00:00+01:00",
          "2023-07-18T00:00:00+01:00",
          "2023-07-18T23:00:00+01:00",
          "2023-07-19T20:00:00+01:00",
          "2023-07-21T02:00:00+01:00",
          "2023-07-21T15:00:00+01:00",
          "2023-07-24T14:00:00+01:00",
          "2023-07-31T19:00:00+01:00",
          "2023-08-02T01:00:00+01:00",
          "2023-08-02T19:00:00+01:00",
          "2023-08-07T20:00:00+01:00",
          "2023-08-08T11:00:00+01:00",
          "2023-08-10T10:00:00+01:00",
          "2023-08-11T06:00:00+01:00",
          "2023-08-14T09:00:00+01:00",
          "2023-08-14T18:00:00+01:00",
          "2023-08-15T13:00:00+01:00",
          "2023-08-17T00:00:00+01:00",
          "2023-08-21T20:00:00+01:00",
          "2023-08-22T06:00:00+01:00",
          "2023-08-24T23:00:00+01:00",
          "2023-08-25T20:00:00+01:00",
          "2023-08-29T05:00:00+01:00",
          "2023-09-04T02:00:00+01:00",
          "2023-09-06T08:00:00+01:00",
          "2023-09-13T00:00:00+01:00",
          "2023-09-13T19:00:00+01:00",
          "2023-09-15T03:00:00+01:00",
          "2023-09-15T20:00:00+01:00",
          "2023-09-18T08:00:00+01:00",
          "2023-09-21T05:00:00+01:00",
          "2023-09-22T16:00:00+01:00",
          "2023-09-25T21:00:00+01:00",
          "2023-09-26T14:00:00+01:00",
          "2023-09-28T09:00:00+01:00",
          "2023-10-02T08:00:00+01:00",
          "2023-10-06T18:00:00+01:00",
          "2023-10-12T01:00:00+01:00",
          "2023-10-13T07:00:00+01:00",
          "2023-10-13T14:00:00+01:00",
          "2023-10-17T21:00:00+01:00",
          "2023-10-18T08:00:00+01:00",
          "2023-10-24T18:00:00+01:00",
          "2023-10-26T01:00:00+01:00",
          "2023-10-26T12:00:00+01:00",
          "2023-11-01T04:00:00+00:00",
          "2023-11-07T00:00:00+00:00",
          "2023-11-07T17:00:00+00:00",
          "2023-11-08T17:00:00+00:00",
          "2023-11-10T03:00:00+00:00",
          "2023-11-13T12:00:00+00:00",
          "2023-11-13T21:00:00+00:00",
          "2023-11-16T02:00:00+00:00",
          "2023-11-22T13:00:00+00:00",
          "2023-12-01T10:00:00+00:00",
          "2023-12-19T19:00:00+00:00",
          "2023-12-27T04:00:00+00:00",
          "2024-01-02T21:00:00+00:00",
          "2024-01-03T21:00:00+00:00",
          "2024-01-04T08:00:00+00:00",
          "2024-01-04T21:00:00+00:00",
          "2024-01-05T09:00:00+00:00",
          "2024-01-08T00:00:00+00:00",
          "2024-01-10T11:00:00+00:00",
          "2024-01-11T05:00:00+00:00",
          "2024-01-15T23:00:00+00:00",
          "2024-01-16T23:00:00+00:00",
          "2024-01-18T08:00:00+00:00",
          "2024-01-19T04:00:00+00:00",
          "2024-01-19T12:00:00+00:00",
          "2024-01-26T21:00:00+00:00",
          "2024-02-05T07:00:00+00:00",
          "2024-02-08T19:00:00+00:00",
          "2024-02-12T03:00:00+00:00",
          "2024-02-12T23:00:00+00:00",
          "2024-02-14T08:00:00+00:00"
         ],
         "xaxis": "x",
         "y": [
          99000,
          98010,
          99186.12,
          98194.2588,
          97212.31621199999,
          98378.864006544,
          97395.07536647856,
          96421.12461281377,
          95456.91336668564,
          94502.34423301878,
          93557.3207906886,
          92621.74758278171,
          93733.2085537751,
          94858.00705642039,
          95996.30314109744,
          97148.25877879061,
          96176.7761910027,
          97330.89750529474,
          96357.58853024179,
          97513.87959260469,
          96538.74079667864,
          95573.35338871185,
          96720.2336293764,
          97880.87643292891,
          96902.06766859963,
          98064.89248062283,
          97084.2435558166,
          98249.2544784864,
          99428.24553222823,
          100621.38447861497,
          99615.17063382882,
          100810.55268143477,
          99802.44715462041,
          101000.07652047586,
          102212.07743872158,
          101189.95666433436,
          100178.05709769101,
          99176.2765267141,
          98184.51376144696,
          97202.66862383249,
          96230.64193759416,
          97385.40964084529,
          96411.55554443684,
          97568.49421097008,
          96592.80926886038,
          95626.88117617178,
          96774.40375028584,
          97935.69659528926,
          99110.92495443273,
          98119.8157048884,
          97138.61754783952,
          96167.23137236112,
          97321.23814882945,
          96348.02576734115,
          97504.20207654925,
          96529.16005578375,
          95563.86845522591,
          96710.63487668862,
          95743.52852792174,
          96892.4508702568,
          98055.16028069989,
          99231.82220406829,
          98239.5039820276,
          97257.10894220733,
          98424.19424951382,
          99605.28458050799,
          98609.2317347029,
          97623.13941735588,
          96646.90802318232,
          95680.4389429505,
          96828.6042102659,
          97990.5474607891,
          99166.43403031856,
          100356.43123868239,
          101560.70841354657,
          102779.43691450913,
          101751.64254536404,
          102972.6622559084,
          101942.93563334932,
          103166.25086094951,
          102134.58835234001,
          103360.2034125681,
          104600.5258535189,
          105855.73216376113,
          104797.17484212352,
          103749.2030937023,
          102711.71106276527,
          103944.25159551845,
          102904.80907956326,
          101875.76098876762,
          100857.00337887995,
          99848.43334509115,
          101046.61454523224,
          100036.14839977992,
          99035.78691578213,
          98045.42904662431,
          99221.97419518381,
          98229.75445323197,
          99408.51150667075,
          100601.4136447508,
          99595.3995083033,
          98599.44551322026,
          97613.45105808806,
          96637.31654750717,
          95670.9433820321,
          94714.23394821178,
          95850.80475559032,
          97001.0144126574,
          96031.00426853083,
          97183.3763197532,
          98349.57683559024,
          99529.77175761732,
          98534.47404004114,
          99716.88772852163,
          98719.71885123641,
          99904.35547745124,
          101103.20774318065,
          102316.44623609883,
          103544.243590932,
          102508.80115502268,
          101483.71314347246,
          100468.87601203773,
          99464.18725191735,
          98469.54537939817,
          99651.17992395096,
          98654.66812471145
         ],
         "yaxis": "y"
        }
       ],
       "layout": {
        "height": 600,
        "legend": {
         "title": {
          "text": "Legend"
         },
         "tracegroupgap": 0
        },
        "template": {
         "data": {
          "bar": [
           {
            "error_x": {
             "color": "#2a3f5f"
            },
            "error_y": {
             "color": "#2a3f5f"
            },
            "marker": {
             "line": {
              "color": "#E5ECF6",
              "width": 0.5
             },
             "pattern": {
              "fillmode": "overlay",
              "size": 10,
              "solidity": 0.2
             }
            },
            "type": "bar"
           }
          ],
          "barpolar": [
           {
            "marker": {
             "line": {
              "color": "#E5ECF6",
              "width": 0.5
             },
             "pattern": {
              "fillmode": "overlay",
              "size": 10,
              "solidity": 0.2
             }
            },
            "type": "barpolar"
           }
          ],
          "carpet": [
           {
            "aaxis": {
             "endlinecolor": "#2a3f5f",
             "gridcolor": "white",
             "linecolor": "white",
             "minorgridcolor": "white",
             "startlinecolor": "#2a3f5f"
            },
            "baxis": {
             "endlinecolor": "#2a3f5f",
             "gridcolor": "white",
             "linecolor": "white",
             "minorgridcolor": "white",
             "startlinecolor": "#2a3f5f"
            },
            "type": "carpet"
           }
          ],
          "choropleth": [
           {
            "colorbar": {
             "outlinewidth": 0,
             "ticks": ""
            },
            "type": "choropleth"
           }
          ],
          "contour": [
           {
            "colorbar": {
             "outlinewidth": 0,
             "ticks": ""
            },
            "colorscale": [
             [
              0,
              "#0d0887"
             ],
             [
              0.1111111111111111,
              "#46039f"
             ],
             [
              0.2222222222222222,
              "#7201a8"
             ],
             [
              0.3333333333333333,
              "#9c179e"
             ],
             [
              0.4444444444444444,
              "#bd3786"
             ],
             [
              0.5555555555555556,
              "#d8576b"
             ],
             [
              0.6666666666666666,
              "#ed7953"
             ],
             [
              0.7777777777777778,
              "#fb9f3a"
             ],
             [
              0.8888888888888888,
              "#fdca26"
             ],
             [
              1,
              "#f0f921"
             ]
            ],
            "type": "contour"
           }
          ],
          "contourcarpet": [
           {
            "colorbar": {
             "outlinewidth": 0,
             "ticks": ""
            },
            "type": "contourcarpet"
           }
          ],
          "heatmap": [
           {
            "colorbar": {
             "outlinewidth": 0,
             "ticks": ""
            },
            "colorscale": [
             [
              0,
              "#0d0887"
             ],
             [
              0.1111111111111111,
              "#46039f"
             ],
             [
              0.2222222222222222,
              "#7201a8"
             ],
             [
              0.3333333333333333,
              "#9c179e"
             ],
             [
              0.4444444444444444,
              "#bd3786"
             ],
             [
              0.5555555555555556,
              "#d8576b"
             ],
             [
              0.6666666666666666,
              "#ed7953"
             ],
             [
              0.7777777777777778,
              "#fb9f3a"
             ],
             [
              0.8888888888888888,
              "#fdca26"
             ],
             [
              1,
              "#f0f921"
             ]
            ],
            "type": "heatmap"
           }
          ],
          "heatmapgl": [
           {
            "colorbar": {
             "outlinewidth": 0,
             "ticks": ""
            },
            "colorscale": [
             [
              0,
              "#0d0887"
             ],
             [
              0.1111111111111111,
              "#46039f"
             ],
             [
              0.2222222222222222,
              "#7201a8"
             ],
             [
              0.3333333333333333,
              "#9c179e"
             ],
             [
              0.4444444444444444,
              "#bd3786"
             ],
             [
              0.5555555555555556,
              "#d8576b"
             ],
             [
              0.6666666666666666,
              "#ed7953"
             ],
             [
              0.7777777777777778,
              "#fb9f3a"
             ],
             [
              0.8888888888888888,
              "#fdca26"
             ],
             [
              1,
              "#f0f921"
             ]
            ],
            "type": "heatmapgl"
           }
          ],
          "histogram": [
           {
            "marker": {
             "pattern": {
              "fillmode": "overlay",
              "size": 10,
              "solidity": 0.2
             }
            },
            "type": "histogram"
           }
          ],
          "histogram2d": [
           {
            "colorbar": {
             "outlinewidth": 0,
             "ticks": ""
            },
            "colorscale": [
             [
              0,
              "#0d0887"
             ],
             [
              0.1111111111111111,
              "#46039f"
             ],
             [
              0.2222222222222222,
              "#7201a8"
             ],
             [
              0.3333333333333333,
              "#9c179e"
             ],
             [
              0.4444444444444444,
              "#bd3786"
             ],
             [
              0.5555555555555556,
              "#d8576b"
             ],
             [
              0.6666666666666666,
              "#ed7953"
             ],
             [
              0.7777777777777778,
              "#fb9f3a"
             ],
             [
              0.8888888888888888,
              "#fdca26"
             ],
             [
              1,
              "#f0f921"
             ]
            ],
            "type": "histogram2d"
           }
          ],
          "histogram2dcontour": [
           {
            "colorbar": {
             "outlinewidth": 0,
             "ticks": ""
            },
            "colorscale": [
             [
              0,
              "#0d0887"
             ],
             [
              0.1111111111111111,
              "#46039f"
             ],
             [
              0.2222222222222222,
              "#7201a8"
             ],
             [
              0.3333333333333333,
              "#9c179e"
             ],
             [
              0.4444444444444444,
              "#bd3786"
             ],
             [
              0.5555555555555556,
              "#d8576b"
             ],
             [
              0.6666666666666666,
              "#ed7953"
             ],
             [
              0.7777777777777778,
              "#fb9f3a"
             ],
             [
              0.8888888888888888,
              "#fdca26"
             ],
             [
              1,
              "#f0f921"
             ]
            ],
            "type": "histogram2dcontour"
           }
          ],
          "mesh3d": [
           {
            "colorbar": {
             "outlinewidth": 0,
             "ticks": ""
            },
            "type": "mesh3d"
           }
          ],
          "parcoords": [
           {
            "line": {
             "colorbar": {
              "outlinewidth": 0,
              "ticks": ""
             }
            },
            "type": "parcoords"
           }
          ],
          "pie": [
           {
            "automargin": true,
            "type": "pie"
           }
          ],
          "scatter": [
           {
            "fillpattern": {
             "fillmode": "overlay",
             "size": 10,
             "solidity": 0.2
            },
            "type": "scatter"
           }
          ],
          "scatter3d": [
           {
            "line": {
             "colorbar": {
              "outlinewidth": 0,
              "ticks": ""
             }
            },
            "marker": {
             "colorbar": {
              "outlinewidth": 0,
              "ticks": ""
             }
            },
            "type": "scatter3d"
           }
          ],
          "scattercarpet": [
           {
            "marker": {
             "colorbar": {
              "outlinewidth": 0,
              "ticks": ""
             }
            },
            "type": "scattercarpet"
           }
          ],
          "scattergeo": [
           {
            "marker": {
             "colorbar": {
              "outlinewidth": 0,
              "ticks": ""
             }
            },
            "type": "scattergeo"
           }
          ],
          "scattergl": [
           {
            "marker": {
             "colorbar": {
              "outlinewidth": 0,
              "ticks": ""
             }
            },
            "type": "scattergl"
           }
          ],
          "scattermapbox": [
           {
            "marker": {
             "colorbar": {
              "outlinewidth": 0,
              "ticks": ""
             }
            },
            "type": "scattermapbox"
           }
          ],
          "scatterpolar": [
           {
            "marker": {
             "colorbar": {
              "outlinewidth": 0,
              "ticks": ""
             }
            },
            "type": "scatterpolar"
           }
          ],
          "scatterpolargl": [
           {
            "marker": {
             "colorbar": {
              "outlinewidth": 0,
              "ticks": ""
             }
            },
            "type": "scatterpolargl"
           }
          ],
          "scatterternary": [
           {
            "marker": {
             "colorbar": {
              "outlinewidth": 0,
              "ticks": ""
             }
            },
            "type": "scatterternary"
           }
          ],
          "surface": [
           {
            "colorbar": {
             "outlinewidth": 0,
             "ticks": ""
            },
            "colorscale": [
             [
              0,
              "#0d0887"
             ],
             [
              0.1111111111111111,
              "#46039f"
             ],
             [
              0.2222222222222222,
              "#7201a8"
             ],
             [
              0.3333333333333333,
              "#9c179e"
             ],
             [
              0.4444444444444444,
              "#bd3786"
             ],
             [
              0.5555555555555556,
              "#d8576b"
             ],
             [
              0.6666666666666666,
              "#ed7953"
             ],
             [
              0.7777777777777778,
              "#fb9f3a"
             ],
             [
              0.8888888888888888,
              "#fdca26"
             ],
             [
              1,
              "#f0f921"
             ]
            ],
            "type": "surface"
           }
          ],
          "table": [
           {
            "cells": {
             "fill": {
              "color": "#EBF0F8"
             },
             "line": {
              "color": "white"
             }
            },
            "header": {
             "fill": {
              "color": "#C8D4E3"
             },
             "line": {
              "color": "white"
             }
            },
            "type": "table"
           }
          ]
         },
         "layout": {
          "annotationdefaults": {
           "arrowcolor": "#2a3f5f",
           "arrowhead": 0,
           "arrowwidth": 1
          },
          "autotypenumbers": "strict",
          "coloraxis": {
           "colorbar": {
            "outlinewidth": 0,
            "ticks": ""
           }
          },
          "colorscale": {
           "diverging": [
            [
             0,
             "#8e0152"
            ],
            [
             0.1,
             "#c51b7d"
            ],
            [
             0.2,
             "#de77ae"
            ],
            [
             0.3,
             "#f1b6da"
            ],
            [
             0.4,
             "#fde0ef"
            ],
            [
             0.5,
             "#f7f7f7"
            ],
            [
             0.6,
             "#e6f5d0"
            ],
            [
             0.7,
             "#b8e186"
            ],
            [
             0.8,
             "#7fbc41"
            ],
            [
             0.9,
             "#4d9221"
            ],
            [
             1,
             "#276419"
            ]
           ],
           "sequential": [
            [
             0,
             "#0d0887"
            ],
            [
             0.1111111111111111,
             "#46039f"
            ],
            [
             0.2222222222222222,
             "#7201a8"
            ],
            [
             0.3333333333333333,
             "#9c179e"
            ],
            [
             0.4444444444444444,
             "#bd3786"
            ],
            [
             0.5555555555555556,
             "#d8576b"
            ],
            [
             0.6666666666666666,
             "#ed7953"
            ],
            [
             0.7777777777777778,
             "#fb9f3a"
            ],
            [
             0.8888888888888888,
             "#fdca26"
            ],
            [
             1,
             "#f0f921"
            ]
           ],
           "sequentialminus": [
            [
             0,
             "#0d0887"
            ],
            [
             0.1111111111111111,
             "#46039f"
            ],
            [
             0.2222222222222222,
             "#7201a8"
            ],
            [
             0.3333333333333333,
             "#9c179e"
            ],
            [
             0.4444444444444444,
             "#bd3786"
            ],
            [
             0.5555555555555556,
             "#d8576b"
            ],
            [
             0.6666666666666666,
             "#ed7953"
            ],
            [
             0.7777777777777778,
             "#fb9f3a"
            ],
            [
             0.8888888888888888,
             "#fdca26"
            ],
            [
             1,
             "#f0f921"
            ]
           ]
          },
          "colorway": [
           "#636efa",
           "#EF553B",
           "#00cc96",
           "#ab63fa",
           "#FFA15A",
           "#19d3f3",
           "#FF6692",
           "#B6E880",
           "#FF97FF",
           "#FECB52"
          ],
          "font": {
           "color": "#2a3f5f"
          },
          "geo": {
           "bgcolor": "white",
           "lakecolor": "white",
           "landcolor": "#E5ECF6",
           "showlakes": true,
           "showland": true,
           "subunitcolor": "white"
          },
          "hoverlabel": {
           "align": "left"
          },
          "hovermode": "closest",
          "mapbox": {
           "style": "light"
          },
          "paper_bgcolor": "white",
          "plot_bgcolor": "#E5ECF6",
          "polar": {
           "angularaxis": {
            "gridcolor": "white",
            "linecolor": "white",
            "ticks": ""
           },
           "bgcolor": "#E5ECF6",
           "radialaxis": {
            "gridcolor": "white",
            "linecolor": "white",
            "ticks": ""
           }
          },
          "scene": {
           "xaxis": {
            "backgroundcolor": "#E5ECF6",
            "gridcolor": "white",
            "gridwidth": 2,
            "linecolor": "white",
            "showbackground": true,
            "ticks": "",
            "zerolinecolor": "white"
           },
           "yaxis": {
            "backgroundcolor": "#E5ECF6",
            "gridcolor": "white",
            "gridwidth": 2,
            "linecolor": "white",
            "showbackground": true,
            "ticks": "",
            "zerolinecolor": "white"
           },
           "zaxis": {
            "backgroundcolor": "#E5ECF6",
            "gridcolor": "white",
            "gridwidth": 2,
            "linecolor": "white",
            "showbackground": true,
            "ticks": "",
            "zerolinecolor": "white"
           }
          },
          "shapedefaults": {
           "line": {
            "color": "#2a3f5f"
           }
          },
          "ternary": {
           "aaxis": {
            "gridcolor": "white",
            "linecolor": "white",
            "ticks": ""
           },
           "baxis": {
            "gridcolor": "white",
            "linecolor": "white",
            "ticks": ""
           },
           "bgcolor": "#E5ECF6",
           "caxis": {
            "gridcolor": "white",
            "linecolor": "white",
            "ticks": ""
           }
          },
          "title": {
           "x": 0.05
          },
          "xaxis": {
           "automargin": true,
           "gridcolor": "white",
           "linecolor": "white",
           "ticks": "",
           "title": {
            "standoff": 15
           },
           "zerolinecolor": "white",
           "zerolinewidth": 2
          },
          "yaxis": {
           "automargin": true,
           "gridcolor": "white",
           "linecolor": "white",
           "ticks": "",
           "title": {
            "standoff": 15
           },
           "zerolinecolor": "white",
           "zerolinewidth": 2
          }
         }
        },
        "title": {
         "text": "Strategy Performance"
        },
        "xaxis": {
         "anchor": "y",
         "domain": [
          0,
          1
         ],
         "title": {
          "text": "Time"
         }
        },
        "yaxis": {
         "anchor": "x",
         "domain": [
          0,
          1
         ],
         "title": {
          "text": "Equity"
         }
        }
       }
      }
     },
     "metadata": {},
     "output_type": "display_data"
    }
   ],
   "source": [
    "\n",
    "equity_curve = stats._equity_curve['Equity'].reset_index()\n",
    "\n",
    "fig = px.line(custom_df, x='entry_time', y='account_equity', labels={'index': 'Time'}, title='Strategy Performance')\n",
    "fig.update_layout(height=600, xaxis_title='Time', yaxis_title='Equity', legend_title='Legend')\n",
    "fig.show()\n"
   ]
  },
  {
   "cell_type": "code",
   "execution_count": null,
   "metadata": {},
   "outputs": [],
   "source": []
  }
 ],
 "metadata": {
  "kernelspec": {
   "display_name": "venv",
   "language": "python",
   "name": "python3"
  },
  "language_info": {
   "codemirror_mode": {
    "name": "ipython",
    "version": 3
   },
   "file_extension": ".py",
   "mimetype": "text/x-python",
   "name": "python",
   "nbconvert_exporter": "python",
   "pygments_lexer": "ipython3",
   "version": "3.11.4"
  }
 },
 "nbformat": 4,
 "nbformat_minor": 2
}
