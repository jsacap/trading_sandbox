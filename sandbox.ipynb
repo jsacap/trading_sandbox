{
 "cells": [
  {
   "cell_type": "code",
   "execution_count": null,
   "metadata": {},
   "outputs": [],
   "source": [
    "import plotly_express as px\n",
    "import pandas as pd\n",
    "import matplotlib.pyplot as plt\n",
    "\n",
    "import yfinance as yf\n",
    "from backtesting import Backtest, Strategy\n",
    "import pandas_ta as ta\n",
    "\n",
    "from backtesting.lib import crossover\n",
    "import math"
   ]
  },
  {
   "cell_type": "code",
   "execution_count": null,
   "metadata": {},
   "outputs": [],
   "source": [
    "# If you want to check if the strategy is executing trades correctly, use this to validate the data that can be run with the backtest and can handle the plot.\n",
    "ticker = \"usdjpy=X\"\n",
    "data = yf.download(ticker, period=\"1y\", interval=\"1h\")\n"
   ]
  },
  {
   "cell_type": "code",
   "execution_count": null,
   "metadata": {},
   "outputs": [],
   "source": [
    "data"
   ]
  },
  {
   "cell_type": "code",
   "execution_count": null,
   "metadata": {},
   "outputs": [],
   "source": [
    "# Importing through a CSV that has more data which was downloaded externally.\n",
    "df = pd.read_csv('../Data/AUDCAD_H1(22007-09-26 - 2024-02-02).csv', delimiter='\\t', names=['Open', 'High', 'Low', 'Close', 'Volume'], header=0)\n",
    "df.index = pd.to_datetime(df.index)\n"
   ]
  },
  {
   "cell_type": "code",
   "execution_count": null,
   "metadata": {},
   "outputs": [],
   "source": [
    "# csv slice by date\n",
    "start_date = '2010-01-01'\n",
    "end_date = '2024-01-01'\n",
    "df = df.loc[start_date:end_date]"
   ]
  },
  {
   "cell_type": "markdown",
   "metadata": {},
   "source": [
    "# Write out strategy here to figure out the logic"
   ]
  },
  {
   "cell_type": "code",
   "execution_count": null,
   "metadata": {},
   "outputs": [],
   "source": [
    "class Strat(Strategy):\n",
    "    def init(self):\n",
    "        pass\n",
    "\n",
    "    def next(self):\n",
    "        pass\n",
    "\n",
    "bt = Backtest(df_slice, Strat, cash=10_000)\n",
    "bt.run()\n",
    "bt.plot()"
   ]
  },
  {
   "cell_type": "code",
   "execution_count": null,
   "metadata": {},
   "outputs": [],
   "source": [
    "# help(ta.cdl_pattern(name='engulfing'))\n",
    "# Size 10,000 = $1000 based on 10 pips of movement = $100 and 1000 units = 1 pip movement \n",
    "help(Strategy)"
   ]
  },
  {
   "cell_type": "code",
   "execution_count": null,
   "metadata": {},
   "outputs": [],
   "source": [
    "class Strat(Strategy):\n",
    "    def init(self):\n",
    "        # Calculate the 50-period EMA and 14-period ATR and check engulfing        \n",
    "        self.ema = self.I(ta.ema, pd.Series(self.data.Close), length=50)\n",
    "        self.atr = self.I(ta.atr, \n",
    "                          pd.Series(self.data.High), \n",
    "                          pd.Series(self.data.Low), \n",
    "                          pd.Series(self.data.Close), \n",
    "                          length=14, plot=False)\n",
    "               \n",
    "        self.pullback = False\n",
    "        self.pullback_count = 0\n",
    "        self.consolidation_high = 0\n",
    "        \n",
    "        \n",
    "    def next(self):\n",
    "        current_ema = self.ema[-1]\n",
    "        \n",
    "        current_close = self.data.Close[-1]\n",
    "        current_open = self.data.Open[-1]\n",
    "        current_high = self.data.High[-1]\n",
    "\n",
    "        bull_body = self.data.Close[-1] > self.data.Open[-1]\n",
    "        bear_body = self.data.Close[-1] < self.data.Open[-1]\n",
    "\n",
    "        # position sizing logic\n",
    "        account_balance = math.floor(self.equity)\n",
    "        risk_per_trade = account_balance * 0.01\n",
    "        stop_loss = self.data.Low[-1] - self.atr[-1]\n",
    "        stop_in_pips = abs(current_close - stop_loss) * 100  # Calculate stop loss in pips\n",
    "        \n",
    "        # Adjust position size based on the risk per trade and stop loss distance\n",
    "        position_size = math.floor((risk_per_trade / (stop_in_pips * 10)) * 1000)  # Adjusted for $1000 per 10 pips at 10,000 units\n",
    "        take_profit = ((stop_in_pips / 100) * 1.2) + current_close\n",
    "\n",
    "        result = position_size \n",
    "\n"
   ]
  },
  {
   "cell_type": "code",
   "execution_count": null,
   "metadata": {},
   "outputs": [],
   "source": [
    "bt = Backtest(data, Strat, cash=100000, margin=0.02)\n",
    "stats = bt.run()\n",
    "print(stats)\n"
   ]
  },
  {
   "cell_type": "code",
   "execution_count": null,
   "metadata": {},
   "outputs": [],
   "source": [
    "bt.plot()"
   ]
  },
  {
   "cell_type": "code",
   "execution_count": null,
   "metadata": {},
   "outputs": [],
   "source": [
    "stats._trades"
   ]
  },
  {
   "cell_type": "code",
   "execution_count": null,
   "metadata": {},
   "outputs": [],
   "source": []
  },
  {
   "cell_type": "code",
   "execution_count": null,
   "metadata": {},
   "outputs": [],
   "source": [
    "\n",
    "# plot own equity curve based on backtesting data for data more than 10K\n",
    "equity_curve = stats._equity_curve['Equity']\n",
    "\n",
    "plt.figure(figsize=(10, 6))\n",
    "plt.plot(equity_curve, label='Equity Curve', lw=1)  # lw is line width\n",
    "plt.title('Equity Curve')\n",
    "plt.xlabel('Time')\n",
    "plt.ylabel('Equity')\n",
    "plt.legend()\n",
    "plt.grid(False)\n",
    "plt.show()\n"
   ]
  },
  {
   "cell_type": "code",
   "execution_count": null,
   "metadata": {},
   "outputs": [],
   "source": [
    "\n",
    "equity_curve = stats._equity_curve['Equity'].reset_index()\n",
    "\n",
    "fig = px.line(equity_curve, x='index', y='Equity', labels={'index': 'Time'}, title='Strategy Performance')\n",
    "fig.update_layout(height=600, xaxis_title='Time', yaxis_title='Equity', legend_title='Legend')\n",
    "fig.show()\n"
   ]
  },
  {
   "cell_type": "code",
   "execution_count": null,
   "metadata": {},
   "outputs": [],
   "source": []
  }
 ],
 "metadata": {
  "kernelspec": {
   "display_name": "venv",
   "language": "python",
   "name": "python3"
  },
  "language_info": {
   "codemirror_mode": {
    "name": "ipython",
    "version": 3
   },
   "file_extension": ".py",
   "mimetype": "text/x-python",
   "name": "python",
   "nbconvert_exporter": "python",
   "pygments_lexer": "ipython3",
   "version": "3.11.4"
  }
 },
 "nbformat": 4,
 "nbformat_minor": 2
}
