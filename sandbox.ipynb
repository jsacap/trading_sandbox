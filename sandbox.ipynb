{
 "cells": [
  {
   "cell_type": "code",
   "execution_count": null,
   "metadata": {},
   "outputs": [],
   "source": [
    "import plotly_express as px\n",
    "import pandas as pd\n",
    "import matplotlib.pyplot as plt\n",
    "\n",
    "import yfinance as yf\n",
    "from backtesting import Backtest, Strategy\n",
    "import pandas_ta as ta\n",
    "\n",
    "from backtesting.lib import crossover"
   ]
  },
  {
   "cell_type": "code",
   "execution_count": null,
   "metadata": {},
   "outputs": [],
   "source": [
    "# If you want to check if the strategy is executing trades correctly, use this to validate the data that can be run with the backtest and can handle the plot.\n",
    "ticker = \"ndq.ax\"\n",
    "data = yf.download(ticker, period=\"1y\", interval=\"1h\")\n"
   ]
  },
  {
   "cell_type": "code",
   "execution_count": null,
   "metadata": {},
   "outputs": [],
   "source": [
    "# Importing through a CSV that has more data which was downloaded externally.\n",
    "data_csv = pd.read_csv('../Data/AUDCAD_H1(22007-09-26 - 2024-02-02).csv', delimiter='\\t', names=['Open', 'High', 'Low', 'Close', 'Volume'], header=0)\n",
    "data_csv.index = pd.to_datetime(data_csv.index)\n"
   ]
  },
  {
   "cell_type": "code",
   "execution_count": null,
   "metadata": {},
   "outputs": [],
   "source": []
  },
  {
   "cell_type": "code",
   "execution_count": null,
   "metadata": {},
   "outputs": [],
   "source": [
    "df = data_csv\n",
    "df_slice = df[:10000]"
   ]
  },
  {
   "cell_type": "code",
   "execution_count": null,
   "metadata": {},
   "outputs": [],
   "source": [
    "# csv slice by date\n",
    "start_date = '2010-01-01'\n",
    "end_date = '2024-01-01'\n",
    "df = data_csv.loc[start_date:end_date]"
   ]
  },
  {
   "cell_type": "markdown",
   "metadata": {},
   "source": [
    "# Write out strategy here to figure out the logic"
   ]
  },
  {
   "cell_type": "code",
   "execution_count": null,
   "metadata": {},
   "outputs": [],
   "source": [
    "class Strat(Strategy):\n",
    "    def init(self):\n",
    "        pass\n",
    "\n",
    "    def next(self):\n",
    "        pass\n",
    "\n",
    "bt = Backtest(df_slice, Strat, cash=10_000)\n",
    "bt.run()\n",
    "bt.plot()"
   ]
  },
  {
   "cell_type": "code",
   "execution_count": null,
   "metadata": {},
   "outputs": [],
   "source": [
    "class momo(Strategy):    \n",
    "    def init(self):\n",
    "        self.atr = self.I(ta.atr, pd.Series(self.data.High), pd.Series(self.data.Low), pd.Series(self.data.Close), length=14)\n",
    "        self.ema = self.I(ta.ema, pd.Series(self.data.Close), 50)        \n",
    "        self.pullback_count = 0\n",
    "        self.above_ema = False\n",
    "\n",
    "    def next(self):\n",
    "        price = self.data.Close[-1] \n",
    "        atr = self.atr[-1]\n",
    "        ema50 = self.ema50[-1]\n",
    "        \n",
    "        if price > ema50:\n",
    "            if not self.above_ema:\n",
    "                self.above_ema = True\n",
    "                self.pullback_count = 0\n",
    "            else:\n",
    "                if self.pullback_count >= 2:\n",
    "                    if len(self.data.Close) >= 2 and is_engulfing(True, {'Open': self.data.Open[-1], 'Close': self.data.Close[-2]}) and price > ema50:\n",
    "                        self.buy()\n",
    "                    elif price < self.data.Close[-2]:\n",
    "                        self.pullback_count += 1\n",
    "                    else:\n",
    "                        self.above_ema = False\n",
    "                        self.pullback_count = 0"
   ]
  },
  {
   "cell_type": "code",
   "execution_count": null,
   "metadata": {},
   "outputs": [],
   "source": [
    "bt = Backtest(df, momo, cash=100000)\n",
    "stats = bt.run()\n",
    "print(stats)\n",
    "# bt.plot()"
   ]
  },
  {
   "cell_type": "code",
   "execution_count": null,
   "metadata": {},
   "outputs": [],
   "source": [
    "print(stats._trades['PnL'] < 0)\n"
   ]
  },
  {
   "cell_type": "code",
   "execution_count": null,
   "metadata": {},
   "outputs": [],
   "source": [
    "print(stats._strategy)"
   ]
  },
  {
   "cell_type": "code",
   "execution_count": null,
   "metadata": {},
   "outputs": [],
   "source": [
    "\n",
    "# plot own equity curve based on backtesting data for data more than 10K\n",
    "equity_curve = stats._equity_curve['Equity']\n",
    "\n",
    "plt.figure(figsize=(10, 6))\n",
    "plt.plot(equity_curve, label='Equity Curve', lw=1)  # lw is line width\n",
    "plt.title('Equity Curve')\n",
    "plt.xlabel('Time')\n",
    "plt.ylabel('Equity')\n",
    "plt.legend()\n",
    "plt.grid(False)\n",
    "plt.show()\n"
   ]
  },
  {
   "cell_type": "code",
   "execution_count": null,
   "metadata": {},
   "outputs": [],
   "source": [
    "\n",
    "equity_curve = stats._equity_curve['Equity'].reset_index()\n",
    "\n",
    "fig = px.line(equity_curve, x='index', y='Equity', labels={'index': 'Time'}, title='Strategy Performance')\n",
    "fig.update_layout(height=600, xaxis_title='Time', yaxis_title='Equity', legend_title='Legend')\n",
    "fig.show()\n"
   ]
  },
  {
   "cell_type": "code",
   "execution_count": null,
   "metadata": {},
   "outputs": [],
   "source": []
  }
 ],
 "metadata": {
  "kernelspec": {
   "display_name": "venv",
   "language": "python",
   "name": "python3"
  },
  "language_info": {
   "codemirror_mode": {
    "name": "ipython",
    "version": 3
   },
   "file_extension": ".py",
   "mimetype": "text/x-python",
   "name": "python",
   "nbconvert_exporter": "python",
   "pygments_lexer": "ipython3",
   "version": "3.11.4"
  }
 },
 "nbformat": 4,
 "nbformat_minor": 2
}
