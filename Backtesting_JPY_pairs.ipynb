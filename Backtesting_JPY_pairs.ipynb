{
 "cells": [
  {
   "cell_type": "code",
   "execution_count": 1,
   "metadata": {},
   "outputs": [],
   "source": [
    "import plotly_express as px\n",
    "import pandas as pd\n",
    "import matplotlib.pyplot as plt\n",
    "\n",
    "import yfinance as yf\n",
    "from backtesting import Backtest, Strategy\n",
    "import pandas_ta as ta\n",
    "\n",
    "from backtesting.lib import crossover\n",
    "import math"
   ]
  },
  {
   "cell_type": "code",
   "execution_count": null,
   "metadata": {},
   "outputs": [],
   "source": [
    "# If you want to check if the strategy is executing trades correctly, use this to validate the data that can be run with the backtest and can handle the plot.\n",
    "ticker = \"usdjpy=X\"\n",
    "data = yf.download(ticker, period=\"1y\", interval=\"1h\")\n"
   ]
  },
  {
   "cell_type": "code",
   "execution_count": null,
   "metadata": {},
   "outputs": [],
   "source": [
    "data"
   ]
  },
  {
   "cell_type": "code",
   "execution_count": 19,
   "metadata": {},
   "outputs": [],
   "source": [
    "# Darwinex Data\n",
    "df = pd.read_csv('../Data/Darwinex/USDJPY60.csv', header=None, names=['Date', 'Time', 'Open', 'High', 'Low', 'Close', 'Volume'])\n",
    "df['DateTime'] = pd.to_datetime(df['Date'] + ' ' + df['Time'])\n",
    "df.set_index('DateTime', inplace=True)\n",
    "df.drop(columns=['Date', 'Time'], inplace=True)\n"
   ]
  },
  {
   "cell_type": "code",
   "execution_count": null,
   "metadata": {},
   "outputs": [],
   "source": [
    "# Importing through a CSV that has more data which was downloaded externally.\n",
    "df = pd.read_csv('../Data/GBPJPY_H1(2008-01-25 - 2024-02-02).csv', delimiter='\\t', names=['Open', 'High', 'Low', 'Close', 'Volume'], header=0)\n",
    "df.index = pd.to_datetime(df.index)\n"
   ]
  },
  {
   "cell_type": "code",
   "execution_count": 27,
   "metadata": {},
   "outputs": [],
   "source": [
    "df = df.iloc[:10000]"
   ]
  },
  {
   "cell_type": "code",
   "execution_count": null,
   "metadata": {},
   "outputs": [],
   "source": [
    "df['ATR'] = ta.atr(pd.Series(df.High), \n",
    "                          pd.Series(df.Low), \n",
    "                          pd.Series(df.Close), \n",
    "                          length=14)\n",
    "\n",
    "df['ATR']  = round(df['ATR'], 4)"
   ]
  },
  {
   "cell_type": "code",
   "execution_count": 21,
   "metadata": {},
   "outputs": [],
   "source": [
    "# csv slice by date\n",
    "start_date = '2013-01-01'\n",
    "end_date = '2023-01-01'\n",
    "df = df.loc[start_date:end_date]"
   ]
  },
  {
   "cell_type": "markdown",
   "metadata": {},
   "source": [
    "# Write out strategy here to figure out the logic"
   ]
  },
  {
   "cell_type": "code",
   "execution_count": null,
   "metadata": {},
   "outputs": [],
   "source": [
    "class Strat(Strategy):\n",
    "    def init(self):\n",
    "        pass\n",
    "\n",
    "    def next(self):\n",
    "        pass\n",
    "\n",
    "bt = Backtest(df_slice, Strat, cash=10_000)\n",
    "bt.run()\n",
    "bt.plot()"
   ]
  },
  {
   "cell_type": "code",
   "execution_count": 28,
   "metadata": {},
   "outputs": [],
   "source": [
    "class Strat(Strategy):\n",
    "    r = 2\n",
    "    def init(self):\n",
    "        # Calculate the 50-period EMA and 14-period ATR and check engulfing        \n",
    "        self.ema = self.I(ta.ema, pd.Series(self.data.Close), length=50)\n",
    "        self.atr = self.I(ta.atr, \n",
    "                          pd.Series(self.data.High), \n",
    "                          pd.Series(self.data.Low), \n",
    "                          pd.Series(self.data.Close), \n",
    "                          length=14)\n",
    "               \n",
    "        self.buy_pullback = False\n",
    "        self.sell_pullback = False\n",
    "        self.buy_pullback_count = 0\n",
    "        self.sell_pullback_count = 0\n",
    "        self.consolidation_high = float('inf')   \n",
    "        self.consolidation_low = float('inf')  \n",
    "\n",
    "        self.position_status = False\n",
    "\n",
    "        self.custom_trades_log = []\n",
    "        \n",
    "    def next(self):\n",
    "        \n",
    "        current_ema = self.ema[-1]\n",
    "        current_close = self.data.Close[-1]\n",
    "        current_open = self.data.Open[-1]\n",
    "        current_high = self.data.High[-1]        \n",
    "        current_low = self.data.Low[-1]        \n",
    "        \n",
    "        # Buy logic\n",
    "        if crossover(current_close, current_ema) or (current_close < current_ema):\n",
    "            self.buy_pullback = False\n",
    "            self.buy_pullback_count = 0\n",
    "            self.consolidation_high = -2\n",
    "\n",
    "        # Pullback logic for long trades.\n",
    "        if current_high > self.consolidation_high:\n",
    "            self.consolidation_high = max(self.consolidation_high, current_high)\n",
    "        if current_high < self.consolidation_high:\n",
    "            if current_close < self.consolidation_high and current_close < current_open:\n",
    "                self.buy_pullback_count += 1\n",
    "\n",
    "            if self.buy_pullback_count >= 2:\n",
    "                self.buy_pullback = True\n",
    "            if not self.position:\n",
    "                if current_close < self.consolidation_high and self.buy_pullback:\n",
    "                    if current_close > self.data.High[-2]:\n",
    "                        self.buy_pullback = False\n",
    "                        self.buy_pullback_count = 0\n",
    "                        self.consolidation_high = -2\n",
    "                        sl = self.data.Low[-1] - self.atr[-1]\n",
    "                        sl_pips = self.data.Close - sl\n",
    "                        tp = self.data.Close[-1] + (sl_pips * self.r)\n",
    "                        \n",
    "                        # Log the initiation of a trade\n",
    "                        self.custom_trades_log.append({\n",
    "                            'entry_time': self.data.index[-1],\n",
    "                            'entry_price': current_close,\n",
    "                            'direction': 'BUY',\n",
    "                            'sl': sl,\n",
    "                            'tp': tp,\n",
    "                            'exit_time': None,  # To be merged from backtesting _trades\n",
    "                            'exit_price': None,  # To be merged from backtesting _trades\n",
    "                        })\n",
    "                        \n",
    "                        # Execute the trade\n",
    "                        self.buy(sl=sl, tp=tp)    \n",
    "        \n",
    "        \n",
    "        # SELL logic\n",
    "        if crossover(current_ema, current_close) or (current_close > current_ema):\n",
    "            self.sell_pullback = False\n",
    "            self.sell_pullback_count = 0\n",
    "            self.consolidation_low = float('inf')\n",
    "\n",
    "        # Pullback logic for long trades.\n",
    "        if current_low < self.consolidation_low:\n",
    "            self.consolidation_low = min(self.consolidation_low, current_low)\n",
    "        if current_low > self.consolidation_low: # pullback logic condition start\n",
    "            if current_close > self.consolidation_low and current_close > current_open:\n",
    "                self.sell_pullback_count += 1\n",
    "\n",
    "            if self.sell_pullback_count >= 2:\n",
    "                self.sell_pullback = True\n",
    "            if not self.position:\n",
    "                if current_close > self.consolidation_low and self.sell_pullback:\n",
    "                    if current_close < self.data.Low[-2]:\n",
    "                        self.sell_pullback = False\n",
    "                        self.sell_pullback_count = 0\n",
    "                        self.consolidation_low = float('inf')\n",
    "                        sl = self.data.High[-1] + self.atr[-1]\n",
    "                        sl_pips = sl - self.data.Close[-1]\n",
    "                        tp = self.data.Close[-1] - (sl_pips * self.r)\n",
    "                        \n",
    "                        # Log the initiation of a trade\n",
    "                        self.custom_trades_log.append({\n",
    "                            'entry_time': self.data.index[-1],\n",
    "                            'entry_price': current_close,\n",
    "                            'direction': 'SELL',\n",
    "                            'sl': sl,\n",
    "                            'tp': tp,\n",
    "                            'exit_time': None,  # To be merged from backtesting _trades\n",
    "                            'exit_price': None,  # To be merged from backtesting _trades\n",
    "                        })\n",
    "                        \n",
    "                        # Execute the trade\n",
    "                        self.sell(sl=sl, tp=tp)    "
   ]
  },
  {
   "cell_type": "code",
   "execution_count": 29,
   "metadata": {},
   "outputs": [
    {
     "name": "stdout",
     "output_type": "stream",
     "text": [
      "Start                     2013-08-22 06:00:00\n",
      "End                       2015-04-09 09:00:00\n",
      "Duration                    595 days 03:00:00\n",
      "Exposure Time [%]                       47.58\n",
      "Equity Final [$]                 95841.089566\n",
      "Equity Peak [$]                 100614.701008\n",
      "Return [%]                           -4.15891\n",
      "Buy & Hold Return [%]               22.276376\n",
      "Return (Ann.) [%]                   -2.498893\n",
      "Volatility (Ann.) [%]                 5.33702\n",
      "Sharpe Ratio                              0.0\n",
      "Sortino Ratio                             0.0\n",
      "Calmar Ratio                              0.0\n",
      "Max. Drawdown [%]                   -10.76473\n",
      "Avg. Drawdown [%]                   -2.081373\n",
      "Max. Drawdown Duration      580 days 10:00:00\n",
      "Avg. Drawdown Duration       98 days 04:00:00\n",
      "# Trades                                  306\n",
      "Win Rate [%]                        34.313725\n",
      "Best Trade [%]                        1.21205\n",
      "Worst Trade [%]                     -1.000906\n",
      "Avg. Trade [%]                      -0.013891\n",
      "Max. Trade Duration           5 days 21:00:00\n",
      "Avg. Trade Duration           0 days 22:00:00\n",
      "Profit Factor                        0.923244\n",
      "Expectancy [%]                      -0.013169\n",
      "SQN                                 -0.650726\n",
      "_strategy                               Strat\n",
      "_equity_curve                             ...\n",
      "_trades                        Size  Entry...\n",
      "dtype: object\n"
     ]
    }
   ],
   "source": [
    "bt = Backtest(df, Strat, cash=100000)\n",
    "stats = bt.run()\n",
    "print(stats)\n"
   ]
  },
  {
   "cell_type": "code",
   "execution_count": 25,
   "metadata": {},
   "outputs": [
    {
     "data": {
      "text/plain": [
       "Start                     2013-08-22 06:00:00\n",
       "End                       2022-12-30 23:00:00\n",
       "Duration                   3417 days 17:00:00\n",
       "Exposure Time [%]                   50.371161\n",
       "Equity Final [$]                 84983.149889\n",
       "Equity Peak [$]                 100614.701008\n",
       "Return [%]                          -15.01685\n",
       "Buy & Hold Return [%]               33.414056\n",
       "Return (Ann.) [%]                   -1.673963\n",
       "Volatility (Ann.) [%]                 5.41423\n",
       "Sharpe Ratio                              0.0\n",
       "Sortino Ratio                             0.0\n",
       "Calmar Ratio                              0.0\n",
       "Max. Drawdown [%]                  -18.599825\n",
       "Avg. Drawdown [%]                   -3.387222\n",
       "Max. Drawdown Duration     3403 days 00:00:00\n",
       "Avg. Drawdown Duration      568 days 15:00:00\n",
       "# Trades                                 1714\n",
       "Win Rate [%]                        33.080513\n",
       "Best Trade [%]                       1.824556\n",
       "Worst Trade [%]                     -1.989459\n",
       "Avg. Trade [%]                      -0.009497\n",
       "Max. Trade Duration          18 days 01:00:00\n",
       "Avg. Trade Duration           0 days 23:00:00\n",
       "Profit Factor                        0.950862\n",
       "Expectancy [%]                      -0.008651\n",
       "SQN                                 -0.981226\n",
       "_strategy                        Strat(r=2.0)\n",
       "_equity_curve                             ...\n",
       "_trades                         Size  Entr...\n",
       "dtype: object"
      ]
     },
     "execution_count": 25,
     "metadata": {},
     "output_type": "execute_result"
    }
   ],
   "source": [
    "bt.optimize(r=[1, 1.2, 1.5, 2])"
   ]
  },
  {
   "cell_type": "code",
   "execution_count": 30,
   "metadata": {},
   "outputs": [
    {
     "name": "stderr",
     "output_type": "stream",
     "text": [
      "BokehDeprecationWarning: Passing lists of formats for DatetimeTickFormatter scales was deprecated in Bokeh 3.0. Configure a single string format for each scale\n",
      "d:\\Apps\\Backtesting\\sandbox\\venv\\Lib\\site-packages\\backtesting\\_plotting.py:250: UserWarning: DatetimeFormatter scales now only accept a single format. Using the first provided: '%d %b'\n",
      "  formatter=DatetimeTickFormatter(days=['%d %b', '%a %d'],\n",
      "BokehDeprecationWarning: Passing lists of formats for DatetimeTickFormatter scales was deprecated in Bokeh 3.0. Configure a single string format for each scale\n",
      "d:\\Apps\\Backtesting\\sandbox\\venv\\Lib\\site-packages\\backtesting\\_plotting.py:250: UserWarning: DatetimeFormatter scales now only accept a single format. Using the first provided: '%m/%Y'\n",
      "  formatter=DatetimeTickFormatter(days=['%d %b', '%a %d'],\n",
      "d:\\Apps\\Backtesting\\sandbox\\venv\\Lib\\site-packages\\backtesting\\_plotting.py:659: UserWarning: found multiple competing values for 'toolbar.active_drag' property; using the latest value\n",
      "  fig = gridplot(\n",
      "d:\\Apps\\Backtesting\\sandbox\\venv\\Lib\\site-packages\\backtesting\\_plotting.py:659: UserWarning: found multiple competing values for 'toolbar.active_scroll' property; using the latest value\n",
      "  fig = gridplot(\n"
     ]
    },
    {
     "data": {
      "text/html": [
       "<div style=\"display: table;\"><div style=\"display: table-row;\"><div style=\"display: table-cell;\"><b title=\"bokeh.models.plots.GridPlot\">GridPlot</b>(</div><div style=\"display: table-cell;\">id&nbsp;=&nbsp;'p1360', <span id=\"p1392\" style=\"cursor: pointer;\">&hellip;)</span></div></div><div class=\"p1391\" style=\"display: none;\"><div style=\"display: table-cell;\"></div><div style=\"display: table-cell;\">align&nbsp;=&nbsp;'auto',</div></div><div class=\"p1391\" style=\"display: none;\"><div style=\"display: table-cell;\"></div><div style=\"display: table-cell;\">aspect_ratio&nbsp;=&nbsp;None,</div></div><div class=\"p1391\" style=\"display: none;\"><div style=\"display: table-cell;\"></div><div style=\"display: table-cell;\">children&nbsp;=&nbsp;[(figure(id='p1046', ...), 0, 0), (figure(id='p1143', ...), 1, 0), (figure(id='p1002', ...), 2, 0), (figure(id='p1198', ...), 3, 0), (figure(id='p1303', ...), 4, 0)],</div></div><div class=\"p1391\" style=\"display: none;\"><div style=\"display: table-cell;\"></div><div style=\"display: table-cell;\">cols&nbsp;=&nbsp;None,</div></div><div class=\"p1391\" style=\"display: none;\"><div style=\"display: table-cell;\"></div><div style=\"display: table-cell;\">context_menu&nbsp;=&nbsp;None,</div></div><div class=\"p1391\" style=\"display: none;\"><div style=\"display: table-cell;\"></div><div style=\"display: table-cell;\">css_classes&nbsp;=&nbsp;[],</div></div><div class=\"p1391\" style=\"display: none;\"><div style=\"display: table-cell;\"></div><div style=\"display: table-cell;\">disabled&nbsp;=&nbsp;False,</div></div><div class=\"p1391\" style=\"display: none;\"><div style=\"display: table-cell;\"></div><div style=\"display: table-cell;\">flow_mode&nbsp;=&nbsp;'block',</div></div><div class=\"p1391\" style=\"display: none;\"><div style=\"display: table-cell;\"></div><div style=\"display: table-cell;\">height&nbsp;=&nbsp;None,</div></div><div class=\"p1391\" style=\"display: none;\"><div style=\"display: table-cell;\"></div><div style=\"display: table-cell;\">height_policy&nbsp;=&nbsp;'auto',</div></div><div class=\"p1391\" style=\"display: none;\"><div style=\"display: table-cell;\"></div><div style=\"display: table-cell;\">js_event_callbacks&nbsp;=&nbsp;{},</div></div><div class=\"p1391\" style=\"display: none;\"><div style=\"display: table-cell;\"></div><div style=\"display: table-cell;\">js_property_callbacks&nbsp;=&nbsp;{},</div></div><div class=\"p1391\" style=\"display: none;\"><div style=\"display: table-cell;\"></div><div style=\"display: table-cell;\">margin&nbsp;=&nbsp;None,</div></div><div class=\"p1391\" style=\"display: none;\"><div style=\"display: table-cell;\"></div><div style=\"display: table-cell;\">max_height&nbsp;=&nbsp;None,</div></div><div class=\"p1391\" style=\"display: none;\"><div style=\"display: table-cell;\"></div><div style=\"display: table-cell;\">max_width&nbsp;=&nbsp;None,</div></div><div class=\"p1391\" style=\"display: none;\"><div style=\"display: table-cell;\"></div><div style=\"display: table-cell;\">min_height&nbsp;=&nbsp;None,</div></div><div class=\"p1391\" style=\"display: none;\"><div style=\"display: table-cell;\"></div><div style=\"display: table-cell;\">min_width&nbsp;=&nbsp;None,</div></div><div class=\"p1391\" style=\"display: none;\"><div style=\"display: table-cell;\"></div><div style=\"display: table-cell;\">name&nbsp;=&nbsp;None,</div></div><div class=\"p1391\" style=\"display: none;\"><div style=\"display: table-cell;\"></div><div style=\"display: table-cell;\">resizable&nbsp;=&nbsp;False,</div></div><div class=\"p1391\" style=\"display: none;\"><div style=\"display: table-cell;\"></div><div style=\"display: table-cell;\">rows&nbsp;=&nbsp;None,</div></div><div class=\"p1391\" style=\"display: none;\"><div style=\"display: table-cell;\"></div><div style=\"display: table-cell;\">sizing_mode&nbsp;=&nbsp;'stretch_width',</div></div><div class=\"p1391\" style=\"display: none;\"><div style=\"display: table-cell;\"></div><div style=\"display: table-cell;\">spacing&nbsp;=&nbsp;0,</div></div><div class=\"p1391\" style=\"display: none;\"><div style=\"display: table-cell;\"></div><div style=\"display: table-cell;\">styles&nbsp;=&nbsp;{},</div></div><div class=\"p1391\" style=\"display: none;\"><div style=\"display: table-cell;\"></div><div style=\"display: table-cell;\">stylesheets&nbsp;=&nbsp;[],</div></div><div class=\"p1391\" style=\"display: none;\"><div style=\"display: table-cell;\"></div><div style=\"display: table-cell;\">subscribed_events&nbsp;=&nbsp;PropertyValueSet(),</div></div><div class=\"p1391\" style=\"display: none;\"><div style=\"display: table-cell;\"></div><div style=\"display: table-cell;\">syncable&nbsp;=&nbsp;True,</div></div><div class=\"p1391\" style=\"display: none;\"><div style=\"display: table-cell;\"></div><div style=\"display: table-cell;\">tags&nbsp;=&nbsp;[],</div></div><div class=\"p1391\" style=\"display: none;\"><div style=\"display: table-cell;\"></div><div style=\"display: table-cell;\">toolbar&nbsp;=&nbsp;Toolbar(id='p1359', ...),</div></div><div class=\"p1391\" style=\"display: none;\"><div style=\"display: table-cell;\"></div><div style=\"display: table-cell;\">toolbar_location&nbsp;=&nbsp;'right',</div></div><div class=\"p1391\" style=\"display: none;\"><div style=\"display: table-cell;\"></div><div style=\"display: table-cell;\">visible&nbsp;=&nbsp;True,</div></div><div class=\"p1391\" style=\"display: none;\"><div style=\"display: table-cell;\"></div><div style=\"display: table-cell;\">width&nbsp;=&nbsp;None,</div></div><div class=\"p1391\" style=\"display: none;\"><div style=\"display: table-cell;\"></div><div style=\"display: table-cell;\">width_policy&nbsp;=&nbsp;'auto')</div></div></div>\n",
       "<script>\n",
       "(function() {\n",
       "  let expanded = false;\n",
       "  const ellipsis = document.getElementById(\"p1392\");\n",
       "  ellipsis.addEventListener(\"click\", function() {\n",
       "    const rows = document.getElementsByClassName(\"p1391\");\n",
       "    for (let i = 0; i < rows.length; i++) {\n",
       "      const el = rows[i];\n",
       "      el.style.display = expanded ? \"none\" : \"table-row\";\n",
       "    }\n",
       "    ellipsis.innerHTML = expanded ? \"&hellip;)\" : \"&lsaquo;&lsaquo;&lsaquo;\";\n",
       "    expanded = !expanded;\n",
       "  });\n",
       "})();\n",
       "</script>\n"
      ],
      "text/plain": [
       "GridPlot(id='p1360', ...)"
      ]
     },
     "execution_count": 30,
     "metadata": {},
     "output_type": "execute_result"
    }
   ],
   "source": [
    "bt.plot()"
   ]
  },
  {
   "cell_type": "markdown",
   "metadata": {},
   "source": [
    "\n",
    "### Merge the _trades to my custom trade log to perform additional analysis"
   ]
  },
  {
   "cell_type": "code",
   "execution_count": 10,
   "metadata": {},
   "outputs": [],
   "source": [
    "# Creates the custom trade log into a df and merges the exit information from _trades to this custom df.\n",
    "custom_df = pd.DataFrame(stats._strategy.custom_trades_log)\n",
    "custom_df['exit_time'] = stats._trades['ExitTime']\n",
    "custom_df['exit_price'] = stats._trades['ExitPrice']\n"
   ]
  },
  {
   "cell_type": "code",
   "execution_count": 11,
   "metadata": {},
   "outputs": [],
   "source": [
    "# Pips calculations\n",
    "custom_df['stop_pips'] = round((custom_df['entry_price'] - custom_df['sl']) * 100, 2)\n",
    "custom_df['result_pips'] = round((custom_df['exit_price'] - custom_df['entry_price']) * 100, 2)\n",
    "custom_df['rr'] = round(custom_df['result_pips'] / custom_df['stop_pips'], 2)\n"
   ]
  },
  {
   "cell_type": "code",
   "execution_count": 12,
   "metadata": {},
   "outputs": [],
   "source": [
    "initial_equity = 100000.0\n",
    "# Initialize account equity and risk for the first row only\n",
    "custom_df.at[0, 'account_equity'] = initial_equity\n",
    "custom_df.at[0, 'risk'] = initial_equity * 0.01\n",
    "custom_df['pnl'] = 0.0  # Initialize pnl column\n",
    "\n",
    "for index, row in custom_df.iterrows():\n",
    "    # Calculate pnl from the first row\n",
    "    if index > 0:\n",
    "        # Use previous row's account equity to calculate risk for the current trade\n",
    "        custom_df.at[index, 'risk'] = custom_df.at[index - 1, 'account_equity'] * 0.01\n",
    "    \n",
    "    # pnl calculation includes the first trade\n",
    "    pnl = custom_df.at[index, 'risk'] * row['rr']\n",
    "    custom_df.at[index, 'pnl'] = pnl\n",
    "    \n",
    "    \n",
    "    if index == 0:\n",
    "        custom_df.at[index, 'account_equity'] += pnl  \n",
    "    else:\n",
    "        custom_df.at[index, 'account_equity'] = custom_df.at[index - 1, 'account_equity'] + pnl\n",
    "\n",
    "# Ensure data types\n",
    "custom_df['account_equity'] = custom_df['account_equity'].astype(float)\n",
    "custom_df['risk'] = custom_df['risk'].astype(float)\n",
    "custom_df['pnl'] = custom_df['pnl'].astype(float)\n"
   ]
  },
  {
   "cell_type": "code",
   "execution_count": null,
   "metadata": {},
   "outputs": [],
   "source": [
    "custom_df.head()"
   ]
  },
  {
   "cell_type": "code",
   "execution_count": 17,
   "metadata": {},
   "outputs": [],
   "source": [
    "total_trades = len(custom_df)\n",
    "winning_trades = (custom_df['rr'] > 0).sum()\n",
    "win_rate = f'{round((winning_trades / total_trades) * 100, 2)}%'\n",
    "average_win_r = round(custom_df[custom_df['rr'] > 0]['rr'].mean(), 2)\n",
    "net_pnl = custom_df['pnl'].sum()\n",
    "closing_equity = round(custom_df['account_equity'].iloc[-1], 2)\n",
    "percent_pnl = round((net_pnl / initial_equity) * 100, 2)\n",
    "\n",
    "trade_info = {\n",
    "    'Win Rate': win_rate,\n",
    "    'Total Trades': total_trades,\n",
    "    'Average Win Ratio': average_win_r,\n",
    "    'Net PnL': net_pnl,\n",
    "    'Closing Equity': f'${closing_equity}',\n",
    "    'Return %': percent_pnl,\n",
    "}"
   ]
  },
  {
   "cell_type": "code",
   "execution_count": 18,
   "metadata": {},
   "outputs": [
    {
     "name": "stdout",
     "output_type": "stream",
     "text": [
      "Win Rate: 35.74%\n",
      "Total Trades: 996\n",
      "Average Win Ratio: 2.01\n",
      "Net PnL: 90412.77616614167\n",
      "Closing Equity: $190412.78\n",
      "Return %: 90.41\n"
     ]
    }
   ],
   "source": [
    "for key, value in trade_info.items():\n",
    "    print(f'{key}: {value}')"
   ]
  },
  {
   "cell_type": "code",
   "execution_count": null,
   "metadata": {},
   "outputs": [],
   "source": []
  },
  {
   "cell_type": "code",
   "execution_count": null,
   "metadata": {},
   "outputs": [],
   "source": [
    "\n",
    "# plot own equity curve based on backtesting data for data more than 10K\n",
    "equity_curve = stats._equity_curve['Equity']\n",
    "\n",
    "plt.figure(figsize=(10, 6))\n",
    "plt.plot(equity_curve, label='Equity Curve', lw=1)  # lw is line width\n",
    "plt.title('Equity Curve')\n",
    "plt.xlabel('Time')\n",
    "plt.ylabel('Equity')\n",
    "plt.legend()\n",
    "plt.grid(False)\n",
    "plt.show()\n"
   ]
  },
  {
   "cell_type": "code",
   "execution_count": null,
   "metadata": {},
   "outputs": [],
   "source": [
    "\n",
    "equity_curve = stats._equity_curve['Equity'].reset_index()\n",
    "\n",
    "fig = px.line(custom_df, x='entry_time', y='account_equity', labels={'index': 'Time'}, title='Strategy Performance')\n",
    "fig.update_layout(height=600, xaxis_title='Time', yaxis_title='Equity', legend_title='Legend')\n",
    "fig.show()\n"
   ]
  },
  {
   "cell_type": "code",
   "execution_count": null,
   "metadata": {},
   "outputs": [],
   "source": []
  }
 ],
 "metadata": {
  "kernelspec": {
   "display_name": "venv",
   "language": "python",
   "name": "python3"
  },
  "language_info": {
   "codemirror_mode": {
    "name": "ipython",
    "version": 3
   },
   "file_extension": ".py",
   "mimetype": "text/x-python",
   "name": "python",
   "nbconvert_exporter": "python",
   "pygments_lexer": "ipython3",
   "version": "3.11.4"
  }
 },
 "nbformat": 4,
 "nbformat_minor": 2
}
