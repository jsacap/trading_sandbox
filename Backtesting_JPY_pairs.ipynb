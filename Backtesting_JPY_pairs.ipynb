{
 "cells": [
  {
   "cell_type": "code",
   "execution_count": null,
   "metadata": {},
   "outputs": [],
   "source": [
    "import plotly_express as px\n",
    "import pandas as pd\n",
    "import matplotlib.pyplot as plt\n",
    "\n",
    "import yfinance as yf\n",
    "from backtesting import Backtest, Strategy\n",
    "import pandas_ta as ta\n",
    "\n",
    "from backtesting.lib import crossover\n",
    "import math"
   ]
  },
  {
   "cell_type": "code",
   "execution_count": null,
   "metadata": {},
   "outputs": [],
   "source": [
    "# If you want to check if the strategy is executing trades correctly, use this to validate the data that can be run with the backtest and can handle the plot.\n",
    "ticker = \"usdjpy=X\"\n",
    "data = yf.download(ticker, period=\"1y\", interval=\"1h\")\n"
   ]
  },
  {
   "cell_type": "code",
   "execution_count": null,
   "metadata": {},
   "outputs": [],
   "source": [
    "data"
   ]
  },
  {
   "cell_type": "code",
   "execution_count": null,
   "metadata": {},
   "outputs": [],
   "source": [
    "# Darwinex Data\n",
    "df = pd.read_csv('../Data/Darwinex/USDJPY60.csv', header=None, names=['Date', 'Time', 'Open', 'High', 'Low', 'Close', 'Volume'])\n",
    "df['DateTime'] = pd.to_datetime(df['Date'] + ' ' + df['Time'])\n",
    "df.set_index('DateTime', inplace=True)\n",
    "df.drop(columns=['Date', 'Time'], inplace=True)\n"
   ]
  },
  {
   "cell_type": "code",
   "execution_count": null,
   "metadata": {},
   "outputs": [],
   "source": [
    "# Importing through a CSV that has more data which was downloaded externally.\n",
    "df = pd.read_csv('../Data/GBPJPY_H1(2008-01-25 - 2024-02-02).csv', delimiter='\\t', names=['Open', 'High', 'Low', 'Close', 'Volume'], header=0)\n",
    "df.index = pd.to_datetime(df.index)\n"
   ]
  },
  {
   "cell_type": "code",
   "execution_count": null,
   "metadata": {},
   "outputs": [],
   "source": [
    "df = df.iloc[:10000]"
   ]
  },
  {
   "cell_type": "code",
   "execution_count": null,
   "metadata": {},
   "outputs": [],
   "source": [
    "df['ATR'] = ta.atr(pd.Series(df.High), \n",
    "                          pd.Series(df.Low), \n",
    "                          pd.Series(df.Close), \n",
    "                          length=14)\n",
    "\n",
    "df['ATR']  = round(df['ATR'], 4)"
   ]
  },
  {
   "cell_type": "code",
   "execution_count": null,
   "metadata": {},
   "outputs": [],
   "source": [
    "# csv slice by date\n",
    "start_date = '2013-01-01'\n",
    "end_date = '2023-01-01'\n",
    "df = df.loc[start_date:end_date]"
   ]
  },
  {
   "cell_type": "markdown",
   "metadata": {},
   "source": [
    "# Write out strategy here to figure out the logic"
   ]
  },
  {
   "cell_type": "code",
   "execution_count": null,
   "metadata": {},
   "outputs": [],
   "source": [
    "class Strat(Strategy):\n",
    "    def init(self):\n",
    "        pass\n",
    "\n",
    "    def next(self):\n",
    "        pass\n",
    "\n",
    "bt = Backtest(df_slice, Strat, cash=10_000)\n",
    "bt.run()\n",
    "bt.plot()"
   ]
  },
  {
   "cell_type": "code",
   "execution_count": null,
   "metadata": {},
   "outputs": [],
   "source": [
    "class Strat(Strategy):\n",
    "    r = 2\n",
    "    def init(self):\n",
    "        # Calculate the 50-period EMA and 14-period ATR and check engulfing        \n",
    "        self.ema = self.I(ta.ema, pd.Series(self.data.Close), length=50)\n",
    "        self.atr = self.I(ta.atr, \n",
    "                          pd.Series(self.data.High), \n",
    "                          pd.Series(self.data.Low), \n",
    "                          pd.Series(self.data.Close), \n",
    "                          length=14)\n",
    "               \n",
    "        self.buy_pullback = False\n",
    "        self.sell_pullback = False\n",
    "        self.buy_pullback_count = 0\n",
    "        self.sell_pullback_count = 0\n",
    "        self.consolidation_high = float('inf')   \n",
    "        self.consolidation_low = float('inf')  \n",
    "\n",
    "        self.position_status = False\n",
    "\n",
    "        self.custom_trades_log = []\n",
    "        \n",
    "    def next(self):\n",
    "        \n",
    "        current_ema = self.ema[-1]\n",
    "        current_close = self.data.Close[-1]\n",
    "        current_open = self.data.Open[-1]\n",
    "        current_high = self.data.High[-1]        \n",
    "        current_low = self.data.Low[-1]        \n",
    "        \n",
    "        # Buy logic\n",
    "        if crossover(current_close, current_ema) or (current_close < current_ema):\n",
    "            self.buy_pullback = False\n",
    "            self.buy_pullback_count = 0\n",
    "            self.consolidation_high = -2\n",
    "\n",
    "        # Pullback logic for long trades.\n",
    "        if current_high > self.consolidation_high:\n",
    "            self.consolidation_high = max(self.consolidation_high, current_high)\n",
    "        if current_high < self.consolidation_high:\n",
    "            if current_close < self.consolidation_high and current_close < current_open:\n",
    "                self.buy_pullback_count += 1\n",
    "\n",
    "            if self.buy_pullback_count >= 2:\n",
    "                self.buy_pullback = True\n",
    "            if not self.position:\n",
    "                if current_close < self.consolidation_high and self.buy_pullback:\n",
    "                    if current_close > self.data.High[-2]:\n",
    "                        self.buy_pullback = False\n",
    "                        self.buy_pullback_count = 0\n",
    "                        self.consolidation_high = -2\n",
    "                        sl = self.data.Low[-1] - self.atr[-1]\n",
    "                        sl_pips = self.data.Close - sl\n",
    "                        tp = self.data.Close[-1] + (sl_pips * self.r)\n",
    "                        \n",
    "                        # Log the initiation of a trade\n",
    "                        self.custom_trades_log.append({\n",
    "                            'entry_time': self.data.index[-1],\n",
    "                            'entry_price': current_close,\n",
    "                            'direction': 'BUY',\n",
    "                            'sl': sl,\n",
    "                            'tp': tp,\n",
    "                            'exit_time': None,  # To be merged from backtesting _trades\n",
    "                            'exit_price': None,  # To be merged from backtesting _trades\n",
    "                        })\n",
    "                        \n",
    "                        # Execute the trade\n",
    "                        self.buy(sl=sl, tp=tp)    \n",
    "        \n",
    "        \n",
    "        # SELL logic\n",
    "        if crossover(current_ema, current_close) or (current_close > current_ema):\n",
    "            self.sell_pullback = False\n",
    "            self.sell_pullback_count = 0\n",
    "            self.consolidation_low = float('inf')\n",
    "\n",
    "        # Pullback logic for long trades.\n",
    "        if current_low < self.consolidation_low:\n",
    "            self.consolidation_low = min(self.consolidation_low, current_low)\n",
    "        if current_low > self.consolidation_low: # pullback logic condition start\n",
    "            if current_close > self.consolidation_low and current_close > current_open:\n",
    "                self.sell_pullback_count += 1\n",
    "\n",
    "            if self.sell_pullback_count >= 2:\n",
    "                self.sell_pullback = True\n",
    "            if not self.position:\n",
    "                if current_close > self.consolidation_low and self.sell_pullback:\n",
    "                    if current_close < self.data.Low[-2]:\n",
    "                        self.sell_pullback = False\n",
    "                        self.sell_pullback_count = 0\n",
    "                        self.consolidation_low = float('inf')\n",
    "                        sl = self.data.High[-1] + self.atr[-1]\n",
    "                        sl_pips = sl - self.data.Close[-1]\n",
    "                        tp = self.data.Close[-1] - (sl_pips * self.r)\n",
    "                        \n",
    "                        # Log the initiation of a trade\n",
    "                        self.custom_trades_log.append({\n",
    "                            'entry_time': self.data.index[-1],\n",
    "                            'entry_price': current_close,\n",
    "                            'direction': 'SELL',\n",
    "                            'sl': sl,\n",
    "                            'tp': tp,\n",
    "                            'exit_time': None,  # To be merged from backtesting _trades\n",
    "                            'exit_price': None,  # To be merged from backtesting _trades\n",
    "                        })\n",
    "                        \n",
    "                        # Execute the trade\n",
    "                        self.sell(sl=sl, tp=tp)    "
   ]
  },
  {
   "cell_type": "code",
   "execution_count": null,
   "metadata": {},
   "outputs": [],
   "source": [
    "bt = Backtest(df, Strat, cash=100000)\n",
    "stats = bt.run()\n",
    "print(stats)\n"
   ]
  },
  {
   "cell_type": "code",
   "execution_count": null,
   "metadata": {},
   "outputs": [],
   "source": [
    "bt.optimize(r=[1, 1.2, 1.5, 2])"
   ]
  },
  {
   "cell_type": "code",
   "execution_count": null,
   "metadata": {},
   "outputs": [],
   "source": [
    "bt.plot()"
   ]
  },
  {
   "cell_type": "markdown",
   "metadata": {},
   "source": [
    "\n",
    "### Merge the _trades to my custom trade log to perform additional analysis"
   ]
  },
  {
   "cell_type": "code",
   "execution_count": null,
   "metadata": {},
   "outputs": [],
   "source": [
    "# Creates the custom trade log into a df and merges the exit information from _trades to this custom df.\n",
    "custom_df = pd.DataFrame(stats._strategy.custom_trades_log)\n",
    "custom_df['exit_time'] = stats._trades['ExitTime']\n",
    "custom_df['exit_price'] = stats._trades['ExitPrice']\n"
   ]
  },
  {
   "cell_type": "code",
   "execution_count": null,
   "metadata": {},
   "outputs": [],
   "source": [
    "# Pips calculations\n",
    "custom_df['stop_pips'] = round((custom_df['entry_price'] - custom_df['sl']) * 100, 2)\n",
    "custom_df['result_pips'] = round((custom_df['exit_price'] - custom_df['entry_price']) * 100, 2)\n",
    "custom_df['rr'] = round(custom_df['result_pips'] / custom_df['stop_pips'], 2)\n"
   ]
  },
  {
   "cell_type": "code",
   "execution_count": null,
   "metadata": {},
   "outputs": [],
   "source": [
    "initial_equity = 100000.0\n",
    "# Initialize account equity and risk for the first row only\n",
    "custom_df.at[0, 'account_equity'] = initial_equity\n",
    "custom_df.at[0, 'risk'] = initial_equity * 0.01\n",
    "custom_df['pnl'] = 0.0  # Initialize pnl column\n",
    "\n",
    "for index, row in custom_df.iterrows():\n",
    "    # Calculate pnl from the first row\n",
    "    if index > 0:\n",
    "        # Use previous row's account equity to calculate risk for the current trade\n",
    "        custom_df.at[index, 'risk'] = custom_df.at[index - 1, 'account_equity'] * 0.01\n",
    "    \n",
    "    # pnl calculation includes the first trade\n",
    "    pnl = custom_df.at[index, 'risk'] * row['rr']\n",
    "    custom_df.at[index, 'pnl'] = pnl\n",
    "    \n",
    "    \n",
    "    if index == 0:\n",
    "        custom_df.at[index, 'account_equity'] += pnl  \n",
    "    else:\n",
    "        custom_df.at[index, 'account_equity'] = custom_df.at[index - 1, 'account_equity'] + pnl\n",
    "\n",
    "# Ensure data types\n",
    "custom_df['account_equity'] = custom_df['account_equity'].astype(float)\n",
    "custom_df['risk'] = custom_df['risk'].astype(float)\n",
    "custom_df['pnl'] = custom_df['pnl'].astype(float)\n"
   ]
  },
  {
   "cell_type": "code",
   "execution_count": null,
   "metadata": {},
   "outputs": [],
   "source": [
    "custom_df.head()"
   ]
  },
  {
   "cell_type": "code",
   "execution_count": null,
   "metadata": {},
   "outputs": [],
   "source": [
    "total_trades = len(custom_df)\n",
    "winning_trades = (custom_df['rr'] > 0).sum()\n",
    "win_rate = f'{round((winning_trades / total_trades) * 100, 2)}%'\n",
    "average_win_r = round(custom_df[custom_df['rr'] > 0]['rr'].mean(), 2)\n",
    "net_pnl = custom_df['pnl'].sum()\n",
    "closing_equity = round(custom_df['account_equity'].iloc[-1], 2)\n",
    "percent_pnl = round((net_pnl / initial_equity) * 100, 2)\n",
    "\n",
    "trade_info = {\n",
    "    'Win Rate': win_rate,\n",
    "    'Total Trades': total_trades,\n",
    "    'Average Win Ratio': average_win_r,\n",
    "    'Net PnL': net_pnl,\n",
    "    'Closing Equity': f'${closing_equity}',\n",
    "    'Return %': percent_pnl,\n",
    "}"
   ]
  },
  {
   "cell_type": "code",
   "execution_count": null,
   "metadata": {},
   "outputs": [],
   "source": [
    "for key, value in trade_info.items():\n",
    "    print(f'{key}: {value}')"
   ]
  },
  {
   "cell_type": "code",
   "execution_count": null,
   "metadata": {},
   "outputs": [],
   "source": []
  },
  {
   "cell_type": "code",
   "execution_count": null,
   "metadata": {},
   "outputs": [],
   "source": [
    "\n",
    "# plot own equity curve based on backtesting data for data more than 10K\n",
    "equity_curve = stats._equity_curve['Equity']\n",
    "\n",
    "plt.figure(figsize=(10, 6))\n",
    "plt.plot(equity_curve, label='Equity Curve', lw=1)  # lw is line width\n",
    "plt.title('Equity Curve')\n",
    "plt.xlabel('Time')\n",
    "plt.ylabel('Equity')\n",
    "plt.legend()\n",
    "plt.grid(False)\n",
    "plt.show()\n"
   ]
  },
  {
   "cell_type": "code",
   "execution_count": null,
   "metadata": {},
   "outputs": [],
   "source": [
    "\n",
    "equity_curve = stats._equity_curve['Equity'].reset_index()\n",
    "\n",
    "fig = px.line(custom_df, x='entry_time', y='account_equity', labels={'index': 'Time'}, title='Strategy Performance')\n",
    "fig.update_layout(height=600, xaxis_title='Time', yaxis_title='Equity', legend_title='Legend')\n",
    "fig.show()\n"
   ]
  },
  {
   "cell_type": "code",
   "execution_count": null,
   "metadata": {},
   "outputs": [],
   "source": []
  }
 ],
 "metadata": {
  "kernelspec": {
   "display_name": "venv",
   "language": "python",
   "name": "python3"
  },
  "language_info": {
   "codemirror_mode": {
    "name": "ipython",
    "version": 3
   },
   "file_extension": ".py",
   "mimetype": "text/x-python",
   "name": "python",
   "nbconvert_exporter": "python",
   "pygments_lexer": "ipython3",
   "version": "3.11.4"
  }
 },
 "nbformat": 4,
 "nbformat_minor": 2
}
