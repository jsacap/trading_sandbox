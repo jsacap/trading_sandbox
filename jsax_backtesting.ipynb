{
 "cells": [
  {
   "cell_type": "code",
   "execution_count": 2,
   "metadata": {},
   "outputs": [],
   "source": [
    "import math\n",
    "import pandas as pd\n",
    "import pandas_ta as ta\n",
    "import numpy as np\n",
    "import yfinance as yf\n",
    "import defs\n",
    "import requests\n",
    "# from backtesting.lib import crossover\n"
   ]
  },
  {
   "cell_type": "markdown",
   "metadata": {},
   "source": [
    "### Trading Data"
   ]
  },
  {
   "cell_type": "code",
   "execution_count": 3,
   "metadata": {},
   "outputs": [],
   "source": [
    "# Importing through a CSV that has more data which was downloaded externally.\n",
    "df = pd.read_csv('../Data/AUDCAD_H1(22007-09-26 - 2024-02-02).csv', delimiter='\\t', names=['Open', 'High', 'Low', 'Close', 'Volume'], header=0)\n",
    "df.index = pd.to_datetime(df.index)\n"
   ]
  },
  {
   "cell_type": "code",
   "execution_count": null,
   "metadata": {},
   "outputs": [],
   "source": [
    "df.drop(columns='Volume', axis=1, inplace=True)"
   ]
  },
  {
   "cell_type": "code",
   "execution_count": null,
   "metadata": {},
   "outputs": [],
   "source": []
  },
  {
   "cell_type": "markdown",
   "metadata": {},
   "source": [
    "### Trades DF initialisation"
   ]
  },
  {
   "cell_type": "code",
   "execution_count": null,
   "metadata": {},
   "outputs": [],
   "source": [
    "trades_columns = ['Open Date', 'Close Date','Direction', 'Stop Loss (Pips)', 'Closing Result(Pips)', 'R', 'Equity', 'PnL_pct']\n",
    "trades_df = pd.DataFrame(columns=trades_columns)"
   ]
  },
  {
   "cell_type": "code",
   "execution_count": null,
   "metadata": {},
   "outputs": [],
   "source": [
    "df.columns"
   ]
  },
  {
   "cell_type": "markdown",
   "metadata": {},
   "source": [
    "## Initialise Indicators here"
   ]
  },
  {
   "cell_type": "code",
   "execution_count": null,
   "metadata": {},
   "outputs": [],
   "source": [
    "df.head()"
   ]
  },
  {
   "cell_type": "code",
   "execution_count": null,
   "metadata": {},
   "outputs": [],
   "source": [
    "df['Signal'] = ''\n",
    "df['Position'] = False"
   ]
  },
  {
   "cell_type": "code",
   "execution_count": null,
   "metadata": {},
   "outputs": [],
   "source": [
    "# EMA and ATR with defaults length @ 14\n",
    "\n",
    "df['ATR'] = ta.atr(pd.Series(df.High),\n",
    "                   pd.Series(df.Low),\n",
    "                   pd.Series(df.Close),\n",
    "                   length=14)\n",
    "\n",
    "df['EMA50'] = ta.ema(pd.Series(df.Close), length=50)"
   ]
  },
  {
   "cell_type": "markdown",
   "metadata": {},
   "source": [
    "## Trading Account info for testing"
   ]
  },
  {
   "cell_type": "code",
   "execution_count": null,
   "metadata": {},
   "outputs": [],
   "source": [
    "initial_balance = 100000\n",
    "equity = initial_balance\n",
    "open_position = False\n",
    "trade_history = []"
   ]
  },
  {
   "cell_type": "code",
   "execution_count": null,
   "metadata": {},
   "outputs": [],
   "source": []
  },
  {
   "cell_type": "markdown",
   "metadata": {},
   "source": [
    "## Row itteration"
   ]
  },
  {
   "cell_type": "code",
   "execution_count": null,
   "metadata": {},
   "outputs": [],
   "source": []
  },
  {
   "cell_type": "code",
   "execution_count": null,
   "metadata": {},
   "outputs": [],
   "source": [
    "df.tail()"
   ]
  },
  {
   "cell_type": "code",
   "execution_count": null,
   "metadata": {},
   "outputs": [],
   "source": [
    "test_df = df.iloc[100:150].copy()\n",
    "test_df['Stop'] = 0\n",
    "test_df['Stop pips'] = 0\n",
    "test_df['Take Profit'] = 0"
   ]
  },
  {
   "cell_type": "code",
   "execution_count": null,
   "metadata": {},
   "outputs": [],
   "source": [
    "test_df.head()"
   ]
  },
  {
   "cell_type": "markdown",
   "metadata": {},
   "source": [
    "SL and TP for BUY orders"
   ]
  },
  {
   "cell_type": "code",
   "execution_count": null,
   "metadata": {},
   "outputs": [],
   "source": [
    "test_df.head()"
   ]
  },
  {
   "cell_type": "code",
   "execution_count": null,
   "metadata": {},
   "outputs": [],
   "source": [
    "round(pips, 4)"
   ]
  },
  {
   "cell_type": "code",
   "execution_count": null,
   "metadata": {},
   "outputs": [],
   "source": [
    "sl = test_df.Low.iloc[1] - test_df.ATR.iloc[1]\n",
    "pips = round(test_df.Open.iloc[1] - test_df.Stop.iloc[1], 4)\n",
    "\n",
    "test_df.iloc[1, test_df.columns.get_loc('Stop')] = sl\n",
    "test_df.iloc[1, test_df.columns.get_loc('Stop pips')] = pips\n",
    "rr = 1.2\n",
    "test_df.iloc[1, test_df.columns.get_loc('Take Profit')] = test_df.Close.iloc[1] + (pips * rr)"
   ]
  },
  {
   "cell_type": "markdown",
   "metadata": {},
   "source": [
    "## Price Variables"
   ]
  },
  {
   "cell_type": "code",
   "execution_count": null,
   "metadata": {},
   "outputs": [],
   "source": [
    "# Price  variables\n",
    "\n",
    "price = df.Close.iloc[-1]\n",
    "ema = df.EMA50.iloc[-1]\n",
    "\n",
    "current_open = df.Open.iloc[-1]\n",
    "current_high = df.High.iloc[-1]\n",
    "current_price = df.Close.iloc[-1]\n",
    "previous_price = df.Close.iloc[-2]\n",
    "previous_high = df.High.iloc[-2]\n",
    "current_low = df.Low.iloc[-1]\n",
    "current_atr = df.ATR.iloc[-1]"
   ]
  },
  {
   "cell_type": "code",
   "execution_count": null,
   "metadata": {},
   "outputs": [],
   "source": [
    "previous_price"
   ]
  },
  {
   "cell_type": "markdown",
   "metadata": {},
   "source": [
    "\n",
    "## Trade Signal"
   ]
  },
  {
   "cell_type": "code",
   "execution_count": null,
   "metadata": {},
   "outputs": [],
   "source": [
    "def crossover(series1, series2):\n",
    "    diff = series1 - series2\n",
    "    prev_diff = diff.shift(1)\n",
    "    bullish_crossover = (diff > 0) & (prev_diff <= 0)\n",
    "    return bullish_crossover\n",
    "\n",
    "df['Bullish_Crossover'] = crossover(df['Close'], df['EMA50'])\n"
   ]
  },
  {
   "cell_type": "code",
   "execution_count": null,
   "metadata": {},
   "outputs": [],
   "source": [
    "# Note buy signals have been shifted 1 row to buy on the next candle open \n",
    "def buy(df, r):\n",
    "    entry = df.Open.iloc[-1]\n",
    "    sl = df.Low.iloc[-2] - df.ATR.iloc[-2]\n",
    "    stop_pips = round(df.Open.iloc[-1] - sl)\n",
    "    rr = stop_pips * r\n",
    "    tp = entry + rr\n",
    "    return entry, sl, tp\n"
   ]
  },
  {
   "cell_type": "code",
   "execution_count": null,
   "metadata": {},
   "outputs": [],
   "source": [
    "df.tail()"
   ]
  },
  {
   "cell_type": "code",
   "execution_count": 9,
   "metadata": {},
   "outputs": [
    {
     "name": "stderr",
     "output_type": "stream",
     "text": [
      "C:\\Users\\saleg\\AppData\\Local\\Temp\\ipykernel_21292\\2299793979.py:61: FutureWarning: The behavior of DataFrame concatenation with empty or all-NA entries is deprecated. In a future version, this will no longer exclude empty or all-NA columns when determining the result dtypes. To retain the old behavior, exclude the relevant entries before the concat operation.\n",
      "  trades_df = pd.concat([trades_df, new_trades_df], ignore_index=True)\n"
     ]
    }
   ],
   "source": [
    "import pandas as pd\n",
    "\n",
    "# Assuming 'df' is your DataFrame and it includes columns for 'Open', 'High', 'Low', 'Close'\n",
    "\n",
    "# Setup for trades log DataFrame\n",
    "trades_columns = ['Open Date', 'Close Date', 'Direction', 'Stop Loss (Pips)', 'Closing Result (Pips)']\n",
    "trades_df = pd.DataFrame(columns=trades_columns)\n",
    "\n",
    "# Variables to track consolidation and pullback\n",
    "consolidation_start = None\n",
    "consolidation_high = None\n",
    "consolidation_low = None\n",
    "pullback_count = 0\n",
    "\n",
    "trade_details_list = []\n",
    "\n",
    "# Assigns current and previous row variables\n",
    "for i in range(1, len(df)):\n",
    "    current = df.iloc[i]\n",
    "    previous = df.iloc[i - 1]\n",
    "\n",
    "    # Check for consolidation continuation\n",
    "    if consolidation_start is not None:\n",
    "        if current['High'] <= consolidation_high and current['Close'] < current['Open']:\n",
    "            pullback_count += 1  # Increment pullback count\n",
    "        else:\n",
    "            # Check for breakout condition\n",
    "            if current['Close'] > previous['High'] and current['High'] <= consolidation_high:\n",
    "                # BUY condition met, collect trade details\n",
    "                entry_date = current.name\n",
    "                entry_price = current['Open']\n",
    "                sl = consolidation_low - (consolidation_high - consolidation_low)\n",
    "                tp = entry_price + 2 * (entry_price - sl)\n",
    "                close_date = entry_date  # Placeholder for actual trade closing logic\n",
    "                closing_result_pips = tp - entry_price  # Placeholder for actual outcome calculation\n",
    "                \n",
    "                trade_details_list.append({\n",
    "                    'Open Date': entry_date,\n",
    "                    'Close Date': close_date,\n",
    "                    'Direction': 'BUY',\n",
    "                    'Stop Loss (Pips)': entry_price - sl,\n",
    "                    'Closing Result (Pips)': closing_result_pips\n",
    "                })\n",
    "                \n",
    "                # Reset variables for next iteration\n",
    "                consolidation_start = None\n",
    "                pullback_count = 0\n",
    "            else:\n",
    "                # If not a pullback or breakout, reset consolidation\n",
    "                consolidation_start = None\n",
    "                pullback_count = 0\n",
    "    else:\n",
    "        if current['High'] <= previous['High'] and current['Close'] < current['Open']:\n",
    "            consolidation_start = i\n",
    "            consolidation_high = current['High']\n",
    "            consolidation_low = current['Low']\n",
    "            pullback_count = 1  # Start counting pullbacks\n",
    "\n",
    "# After the loop, convert the list of dictionaries to a DataFrame and concatenate with the original trades_df\n",
    "new_trades_df = pd.DataFrame(trade_details_list, columns=trades_columns)\n",
    "trades_df = pd.concat([trades_df, new_trades_df], ignore_index=True)"
   ]
  },
  {
   "cell_type": "code",
   "execution_count": 12,
   "metadata": {},
   "outputs": [
    {
     "data": {
      "text/html": [
       "<div>\n",
       "<style scoped>\n",
       "    .dataframe tbody tr th:only-of-type {\n",
       "        vertical-align: middle;\n",
       "    }\n",
       "\n",
       "    .dataframe tbody tr th {\n",
       "        vertical-align: top;\n",
       "    }\n",
       "\n",
       "    .dataframe thead th {\n",
       "        text-align: right;\n",
       "    }\n",
       "</style>\n",
       "<table border=\"1\" class=\"dataframe\">\n",
       "  <thead>\n",
       "    <tr style=\"text-align: right;\">\n",
       "      <th></th>\n",
       "      <th>Open Date</th>\n",
       "      <th>Close Date</th>\n",
       "      <th>Direction</th>\n",
       "      <th>Stop Loss (Pips)</th>\n",
       "      <th>Closing Result (Pips)</th>\n",
       "    </tr>\n",
       "  </thead>\n",
       "  <tbody>\n",
       "    <tr>\n",
       "      <th>0</th>\n",
       "      <td>2007-10-01 09:00:00</td>\n",
       "      <td>2007-10-01 09:00:00</td>\n",
       "      <td>BUY</td>\n",
       "      <td>0.00100</td>\n",
       "      <td>0.00200</td>\n",
       "    </tr>\n",
       "    <tr>\n",
       "      <th>1</th>\n",
       "      <td>2007-10-24 06:00:00</td>\n",
       "      <td>2007-10-24 06:00:00</td>\n",
       "      <td>BUY</td>\n",
       "      <td>0.00068</td>\n",
       "      <td>0.00136</td>\n",
       "    </tr>\n",
       "    <tr>\n",
       "      <th>2</th>\n",
       "      <td>2007-11-02 19:00:00</td>\n",
       "      <td>2007-11-02 19:00:00</td>\n",
       "      <td>BUY</td>\n",
       "      <td>-0.00800</td>\n",
       "      <td>-0.01600</td>\n",
       "    </tr>\n",
       "    <tr>\n",
       "      <th>3</th>\n",
       "      <td>2007-11-26 08:00:00</td>\n",
       "      <td>2007-11-26 08:00:00</td>\n",
       "      <td>BUY</td>\n",
       "      <td>0.00096</td>\n",
       "      <td>0.00192</td>\n",
       "    </tr>\n",
       "    <tr>\n",
       "      <th>4</th>\n",
       "      <td>2007-12-28 04:00:00</td>\n",
       "      <td>2007-12-28 04:00:00</td>\n",
       "      <td>BUY</td>\n",
       "      <td>0.00178</td>\n",
       "      <td>0.00356</td>\n",
       "    </tr>\n",
       "    <tr>\n",
       "      <th>...</th>\n",
       "      <td>...</td>\n",
       "      <td>...</td>\n",
       "      <td>...</td>\n",
       "      <td>...</td>\n",
       "      <td>...</td>\n",
       "    </tr>\n",
       "    <tr>\n",
       "      <th>1240</th>\n",
       "      <td>2024-01-17 16:00:00</td>\n",
       "      <td>2024-01-17 16:00:00</td>\n",
       "      <td>BUY</td>\n",
       "      <td>0.00076</td>\n",
       "      <td>0.00152</td>\n",
       "    </tr>\n",
       "    <tr>\n",
       "      <th>1241</th>\n",
       "      <td>2024-01-19 17:00:00</td>\n",
       "      <td>2024-01-19 17:00:00</td>\n",
       "      <td>BUY</td>\n",
       "      <td>0.00125</td>\n",
       "      <td>0.00250</td>\n",
       "    </tr>\n",
       "    <tr>\n",
       "      <th>1242</th>\n",
       "      <td>2024-01-23 12:00:00</td>\n",
       "      <td>2024-01-23 12:00:00</td>\n",
       "      <td>BUY</td>\n",
       "      <td>-0.00113</td>\n",
       "      <td>-0.00226</td>\n",
       "    </tr>\n",
       "    <tr>\n",
       "      <th>1243</th>\n",
       "      <td>2024-01-30 05:00:00</td>\n",
       "      <td>2024-01-30 05:00:00</td>\n",
       "      <td>BUY</td>\n",
       "      <td>-0.00017</td>\n",
       "      <td>-0.00034</td>\n",
       "    </tr>\n",
       "    <tr>\n",
       "      <th>1244</th>\n",
       "      <td>2024-01-31 03:00:00</td>\n",
       "      <td>2024-01-31 03:00:00</td>\n",
       "      <td>BUY</td>\n",
       "      <td>-0.00141</td>\n",
       "      <td>-0.00282</td>\n",
       "    </tr>\n",
       "  </tbody>\n",
       "</table>\n",
       "<p>1245 rows × 5 columns</p>\n",
       "</div>"
      ],
      "text/plain": [
       "               Open Date          Close Date Direction  Stop Loss (Pips)  \\\n",
       "0    2007-10-01 09:00:00 2007-10-01 09:00:00       BUY           0.00100   \n",
       "1    2007-10-24 06:00:00 2007-10-24 06:00:00       BUY           0.00068   \n",
       "2    2007-11-02 19:00:00 2007-11-02 19:00:00       BUY          -0.00800   \n",
       "3    2007-11-26 08:00:00 2007-11-26 08:00:00       BUY           0.00096   \n",
       "4    2007-12-28 04:00:00 2007-12-28 04:00:00       BUY           0.00178   \n",
       "...                  ...                 ...       ...               ...   \n",
       "1240 2024-01-17 16:00:00 2024-01-17 16:00:00       BUY           0.00076   \n",
       "1241 2024-01-19 17:00:00 2024-01-19 17:00:00       BUY           0.00125   \n",
       "1242 2024-01-23 12:00:00 2024-01-23 12:00:00       BUY          -0.00113   \n",
       "1243 2024-01-30 05:00:00 2024-01-30 05:00:00       BUY          -0.00017   \n",
       "1244 2024-01-31 03:00:00 2024-01-31 03:00:00       BUY          -0.00141   \n",
       "\n",
       "      Closing Result (Pips)  \n",
       "0                   0.00200  \n",
       "1                   0.00136  \n",
       "2                  -0.01600  \n",
       "3                   0.00192  \n",
       "4                   0.00356  \n",
       "...                     ...  \n",
       "1240                0.00152  \n",
       "1241                0.00250  \n",
       "1242               -0.00226  \n",
       "1243               -0.00034  \n",
       "1244               -0.00282  \n",
       "\n",
       "[1245 rows x 5 columns]"
      ]
     },
     "execution_count": 12,
     "metadata": {},
     "output_type": "execute_result"
    }
   ],
   "source": [
    "trades_df"
   ]
  }
 ],
 "metadata": {
  "kernelspec": {
   "display_name": "venv",
   "language": "python",
   "name": "python3"
  },
  "language_info": {
   "codemirror_mode": {
    "name": "ipython",
    "version": 3
   },
   "file_extension": ".py",
   "mimetype": "text/x-python",
   "name": "python",
   "nbconvert_exporter": "python",
   "pygments_lexer": "ipython3",
   "version": "3.11.4"
  }
 },
 "nbformat": 4,
 "nbformat_minor": 2
}
