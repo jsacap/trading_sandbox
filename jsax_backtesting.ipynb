{
 "cells": [
  {
   "cell_type": "code",
   "execution_count": 8,
   "metadata": {},
   "outputs": [],
   "source": [
    "import math\n",
    "import pandas as pd\n",
    "import pandas_ta as ta\n",
    "import numpy as np\n",
    "import yfinance as yf\n",
    "import defs\n",
    "import requests"
   ]
  },
  {
   "cell_type": "code",
   "execution_count": 16,
   "metadata": {},
   "outputs": [],
   "source": [
    "# Importing through a CSV that has more data which was downloaded externally.\n",
    "df = pd.read_csv('../Data/AUDCAD_H1(22007-09-26 - 2024-02-02).csv', delimiter='\\t', names=['Open', 'High', 'Low', 'Close', 'Volume'], header=0)\n",
    "df.index = pd.to_datetime(df.index)\n"
   ]
  },
  {
   "cell_type": "code",
   "execution_count": 18,
   "metadata": {},
   "outputs": [
    {
     "data": {
      "text/plain": [
       "Index(['Open', 'High', 'Low', 'Close', 'Volume'], dtype='object')"
      ]
     },
     "execution_count": 18,
     "metadata": {},
     "output_type": "execute_result"
    }
   ],
   "source": [
    "df.columns"
   ]
  },
  {
   "cell_type": "markdown",
   "metadata": {},
   "source": [
    "## Initialise Indicators here"
   ]
  },
  {
   "cell_type": "code",
   "execution_count": 19,
   "metadata": {},
   "outputs": [],
   "source": [
    "# EMA and ATR with defaults length @ 14\n",
    "\n",
    "df['ATR'] = ta.atr(pd.Series(df.High),\n",
    "                   pd.Series(df.Low),\n",
    "                   pd.Series(df.Close),\n",
    "                   length=14)\n",
    "\n",
    "df['EMA50'] = ta.ema(pd.Series(df.Close), length=50)"
   ]
  },
  {
   "cell_type": "code",
   "execution_count": 21,
   "metadata": {},
   "outputs": [
    {
     "data": {
      "text/html": [
       "<div>\n",
       "<style scoped>\n",
       "    .dataframe tbody tr th:only-of-type {\n",
       "        vertical-align: middle;\n",
       "    }\n",
       "\n",
       "    .dataframe tbody tr th {\n",
       "        vertical-align: top;\n",
       "    }\n",
       "\n",
       "    .dataframe thead th {\n",
       "        text-align: right;\n",
       "    }\n",
       "</style>\n",
       "<table border=\"1\" class=\"dataframe\">\n",
       "  <thead>\n",
       "    <tr style=\"text-align: right;\">\n",
       "      <th></th>\n",
       "      <th>Open</th>\n",
       "      <th>High</th>\n",
       "      <th>Low</th>\n",
       "      <th>Close</th>\n",
       "      <th>Volume</th>\n",
       "      <th>ATR</th>\n",
       "    </tr>\n",
       "  </thead>\n",
       "  <tbody>\n",
       "    <tr>\n",
       "      <th>2024-02-02 15:00:00</th>\n",
       "      <td>0.87889</td>\n",
       "      <td>0.87923</td>\n",
       "      <td>0.87613</td>\n",
       "      <td>0.87689</td>\n",
       "      <td>24543</td>\n",
       "      <td>0.001511</td>\n",
       "    </tr>\n",
       "    <tr>\n",
       "      <th>2024-02-02 16:00:00</th>\n",
       "      <td>0.87688</td>\n",
       "      <td>0.87700</td>\n",
       "      <td>0.87579</td>\n",
       "      <td>0.87605</td>\n",
       "      <td>20966</td>\n",
       "      <td>0.001489</td>\n",
       "    </tr>\n",
       "    <tr>\n",
       "      <th>2024-02-02 17:00:00</th>\n",
       "      <td>0.87603</td>\n",
       "      <td>0.87652</td>\n",
       "      <td>0.87590</td>\n",
       "      <td>0.87630</td>\n",
       "      <td>11476</td>\n",
       "      <td>0.001427</td>\n",
       "    </tr>\n",
       "    <tr>\n",
       "      <th>2024-02-02 18:00:00</th>\n",
       "      <td>0.87631</td>\n",
       "      <td>0.87729</td>\n",
       "      <td>0.87601</td>\n",
       "      <td>0.87699</td>\n",
       "      <td>8236</td>\n",
       "      <td>0.001417</td>\n",
       "    </tr>\n",
       "    <tr>\n",
       "      <th>2024-02-02 19:00:00</th>\n",
       "      <td>0.87701</td>\n",
       "      <td>0.87736</td>\n",
       "      <td>0.87666</td>\n",
       "      <td>0.87713</td>\n",
       "      <td>5721</td>\n",
       "      <td>0.001366</td>\n",
       "    </tr>\n",
       "  </tbody>\n",
       "</table>\n",
       "</div>"
      ],
      "text/plain": [
       "                        Open     High      Low    Close  Volume       ATR\n",
       "2024-02-02 15:00:00  0.87889  0.87923  0.87613  0.87689   24543  0.001511\n",
       "2024-02-02 16:00:00  0.87688  0.87700  0.87579  0.87605   20966  0.001489\n",
       "2024-02-02 17:00:00  0.87603  0.87652  0.87590  0.87630   11476  0.001427\n",
       "2024-02-02 18:00:00  0.87631  0.87729  0.87601  0.87699    8236  0.001417\n",
       "2024-02-02 19:00:00  0.87701  0.87736  0.87666  0.87713    5721  0.001366"
      ]
     },
     "execution_count": 21,
     "metadata": {},
     "output_type": "execute_result"
    }
   ],
   "source": [
    "df.tail()"
   ]
  },
  {
   "cell_type": "code",
   "execution_count": 23,
   "metadata": {},
   "outputs": [],
   "source": []
  },
  {
   "cell_type": "code",
   "execution_count": 24,
   "metadata": {},
   "outputs": [
    {
     "data": {
      "text/html": [
       "<div>\n",
       "<style scoped>\n",
       "    .dataframe tbody tr th:only-of-type {\n",
       "        vertical-align: middle;\n",
       "    }\n",
       "\n",
       "    .dataframe tbody tr th {\n",
       "        vertical-align: top;\n",
       "    }\n",
       "\n",
       "    .dataframe thead th {\n",
       "        text-align: right;\n",
       "    }\n",
       "</style>\n",
       "<table border=\"1\" class=\"dataframe\">\n",
       "  <thead>\n",
       "    <tr style=\"text-align: right;\">\n",
       "      <th></th>\n",
       "      <th>Open</th>\n",
       "      <th>High</th>\n",
       "      <th>Low</th>\n",
       "      <th>Close</th>\n",
       "      <th>Volume</th>\n",
       "      <th>ATR</th>\n",
       "      <th>EMA50</th>\n",
       "    </tr>\n",
       "  </thead>\n",
       "  <tbody>\n",
       "    <tr>\n",
       "      <th>2024-02-02 15:00:00</th>\n",
       "      <td>0.87889</td>\n",
       "      <td>0.87923</td>\n",
       "      <td>0.87613</td>\n",
       "      <td>0.87689</td>\n",
       "      <td>24543</td>\n",
       "      <td>0.001511</td>\n",
       "      <td>0.880655</td>\n",
       "    </tr>\n",
       "    <tr>\n",
       "      <th>2024-02-02 16:00:00</th>\n",
       "      <td>0.87688</td>\n",
       "      <td>0.87700</td>\n",
       "      <td>0.87579</td>\n",
       "      <td>0.87605</td>\n",
       "      <td>20966</td>\n",
       "      <td>0.001489</td>\n",
       "      <td>0.880041</td>\n",
       "    </tr>\n",
       "    <tr>\n",
       "      <th>2024-02-02 17:00:00</th>\n",
       "      <td>0.87603</td>\n",
       "      <td>0.87652</td>\n",
       "      <td>0.87590</td>\n",
       "      <td>0.87630</td>\n",
       "      <td>11476</td>\n",
       "      <td>0.001427</td>\n",
       "      <td>0.879542</td>\n",
       "    </tr>\n",
       "    <tr>\n",
       "      <th>2024-02-02 18:00:00</th>\n",
       "      <td>0.87631</td>\n",
       "      <td>0.87729</td>\n",
       "      <td>0.87601</td>\n",
       "      <td>0.87699</td>\n",
       "      <td>8236</td>\n",
       "      <td>0.001417</td>\n",
       "      <td>0.879202</td>\n",
       "    </tr>\n",
       "    <tr>\n",
       "      <th>2024-02-02 19:00:00</th>\n",
       "      <td>0.87701</td>\n",
       "      <td>0.87736</td>\n",
       "      <td>0.87666</td>\n",
       "      <td>0.87713</td>\n",
       "      <td>5721</td>\n",
       "      <td>0.001366</td>\n",
       "      <td>0.878926</td>\n",
       "    </tr>\n",
       "  </tbody>\n",
       "</table>\n",
       "</div>"
      ],
      "text/plain": [
       "                        Open     High      Low    Close  Volume       ATR  \\\n",
       "2024-02-02 15:00:00  0.87889  0.87923  0.87613  0.87689   24543  0.001511   \n",
       "2024-02-02 16:00:00  0.87688  0.87700  0.87579  0.87605   20966  0.001489   \n",
       "2024-02-02 17:00:00  0.87603  0.87652  0.87590  0.87630   11476  0.001427   \n",
       "2024-02-02 18:00:00  0.87631  0.87729  0.87601  0.87699    8236  0.001417   \n",
       "2024-02-02 19:00:00  0.87701  0.87736  0.87666  0.87713    5721  0.001366   \n",
       "\n",
       "                        EMA50  \n",
       "2024-02-02 15:00:00  0.880655  \n",
       "2024-02-02 16:00:00  0.880041  \n",
       "2024-02-02 17:00:00  0.879542  \n",
       "2024-02-02 18:00:00  0.879202  \n",
       "2024-02-02 19:00:00  0.878926  "
      ]
     },
     "execution_count": 24,
     "metadata": {},
     "output_type": "execute_result"
    }
   ],
   "source": [
    "df.tail()"
   ]
  }
 ],
 "metadata": {
  "kernelspec": {
   "display_name": "venv",
   "language": "python",
   "name": "python3"
  },
  "language_info": {
   "codemirror_mode": {
    "name": "ipython",
    "version": 3
   },
   "file_extension": ".py",
   "mimetype": "text/x-python",
   "name": "python",
   "nbconvert_exporter": "python",
   "pygments_lexer": "ipython3",
   "version": "3.11.4"
  }
 },
 "nbformat": 4,
 "nbformat_minor": 2
}
